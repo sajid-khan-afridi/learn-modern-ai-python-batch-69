{
 "cells": [
  {
   "cell_type": "markdown",
   "id": "022e08bc",
   "metadata": {},
   "source": [
    "# Introduction to Dictionaries in Python\n",
    "\n",
    "## What is a Dictionary?\n",
    "\n",
    "Dictionary, a data structure in Python, is a collection of *key-value pairs*, where each *key is unique*, and each key is associated with a specific value. Unlike other data structures in Python, like lists or sets, *dictionaries are unordered*, meaning that the items are not stored in any particular sequence.\n",
    "\n",
    "Dictionary enable the association of values with unique keys, providing a way to store and retrieve information using meaningful identifiers. Dictionaries are particularly valuable when there is a need for fast data access and retrieval based on specific keys. They are versatile and widely used in scenarios where data needs to be stored and accessed in a structured manner.\n",
    "\n",
    "## Why Do We Need Dictionaries?\n",
    "\n",
    "### The Problem: Efficient Data Lookups\n",
    "\n",
    "Consider a scenario where 're managing a collection of student scores in different subjects. Initially,  might think of using two separate lists—one for student names and one for their corresponding scores:\n",
    "\n",
    "\n",
    "\n"
   ]
  },
  {
   "cell_type": "code",
   "execution_count": null,
   "id": "d6b037a2",
   "metadata": {},
   "outputs": [],
   "source": [
    "students : list[str ]= [\"Alice\", \"Bob\", \"Charlie\"]\n",
    "scores : list[int] = [85, 92, 78]"
   ]
  },
  {
   "cell_type": "markdown",
   "id": "9b1d5a90",
   "metadata": {},
   "source": [
    "\n",
    "To find the score of a specific student,  would need to first find the index of the student's name in the `students` list and then use that index to look up the score in the `scores` list:\n",
    "\n",
    "\n",
    "\n"
   ]
  },
  {
   "cell_type": "code",
   "execution_count": null,
   "id": "03ee09bd",
   "metadata": {},
   "outputs": [],
   "source": [
    "index : int = students.index(\"Alice\")\n",
    "score : int = scores[index]\n",
    "print(score)"
   ]
  },
  {
   "cell_type": "markdown",
   "id": "93188425",
   "metadata": {},
   "source": [
    "\n",
    "    85\n",
    "\n",
    "\n",
    "While this approach works, it quickly becomes inefficient as the lists grow in size. Searching for a student's name in the list takes time, and managing two separate lists can lead to errors, especially if they become out of sync.\n",
    "\n",
    "### The Solution: Constant-Time Lookups with Dictionaries\n",
    "\n",
    "Dictionaries provide a more efficient and intuitive way to handle this situation. By using student names as keys and their scores as values,  can store the data in a dictionary:\n",
    "\n",
    "\n",
    "\n"
   ]
  },
  {
   "cell_type": "code",
   "execution_count": null,
   "id": "3bc21054",
   "metadata": {},
   "outputs": [],
   "source": [
    "students_scores : dict[str,int] = {\n",
    "    \"Alice\": 85,\n",
    "    \"Bob\": 92,\n",
    "    \"Charlie\": 78,\n",
    "    \"Alice\":75\n",
    "}"
   ]
  },
  {
   "cell_type": "markdown",
   "id": "6ee84445",
   "metadata": {},
   "source": [
    "\n",
    "Now, finding a student's score is much simpler and faster:\n",
    "\n",
    "\n"
   ]
  },
  {
   "cell_type": "code",
   "execution_count": null,
   "id": "e6f73536",
   "metadata": {},
   "outputs": [],
   "source": [
    "score : int = students_scores[\"Alice\"]\n",
    "print(score)"
   ]
  },
  {
   "cell_type": "markdown",
   "id": "49f6e5fe",
   "metadata": {},
   "source": [
    "\n",
    "    75\n",
    "\n",
    "\n"
   ]
  },
  {
   "cell_type": "code",
   "execution_count": null,
   "id": "0fbf0b36",
   "metadata": {},
   "outputs": [],
   "source": [
    "print(students_scores)"
   ]
  },
  {
   "cell_type": "markdown",
   "id": "842720da",
   "metadata": {},
   "source": [
    "\n",
    "    {'Alice': 75, 'Bob': 92, 'Charlie': 78}\n",
    "\n",
    "\n",
    "This operation is performed in constant time, regardless of the number of students.\n",
    "\n",
    "## What Problems Do Dictionaries Solve?\n",
    "\n",
    "### 1. Fast Data Retrieval\n",
    "\n",
    "Dictionaries are optimized for fast data retrieval. Instead of searching through an entire list,  can quickly access any value directly by its key.\n",
    "\n",
    "### 2. Clearer, More Expressive Code\n",
    "\n",
    "Dictionaries allow us to write clearer and more expressive code. The key-value structure makes it obvious what each item represents, improving code readability.\n",
    "\n",
    "### 3. Flexibility in Data Organization\n",
    "\n",
    "Dictionaries offer flexibility in how  organize data.  can store complex structures, like lists or other dictionaries, as values, enabling us to represent nested or hierarchical data.\n",
    "\n",
    "## Working with Dictionaries in Python\n",
    "\n",
    "### Important Properties\n",
    "- Each key should be unique\n",
    "- Key can be any immutable type of object\n",
    "- `len()` function also works with dictionaries i.e. returns the length of key-value pairs\n",
    "- A dictionary is a one way tool i.e. We can find the value from key but cannot find they key from value. It works the same way as original dictionary.We can find urdu menaing of word in english but not the english meaning of urdu word.\n",
    "- The dictionaries are not ordered. We might have different orders when we use `print()` function.\n",
    "- Dictionaries are not a sequence type. So can we use for loop with dictionaries? No! and Yes! We'll see it in below examples.\n",
    "\n",
    "### Creating a Dictionary\n",
    "\n",
    " can create a dictionary using curly braces `{}` or the `dict()` function.\n",
    "\n",
    "\n"
   ]
  },
  {
   "cell_type": "code",
   "execution_count": null,
   "id": "eaa3eda7",
   "metadata": {},
   "outputs": [],
   "source": [
    "# Using curly braces\n",
    "students_scores : dict[str, int] = {\n",
    "    \"Alice\": 85,\n",
    "    \"Bob\": 92,\n",
    "    \"Charlie\": 78\n",
    "}\n",
    "print(student_scores)"
   ]
  },
  {
   "cell_type": "markdown",
   "id": "4ed3cd4c",
   "metadata": {},
   "source": [
    "\n",
    "    {'Alice': 85, 'Bob': 92, 'Charlie': 78}\n",
    "\n",
    "\n"
   ]
  },
  {
   "cell_type": "code",
   "execution_count": null,
   "id": "8d3960cd",
   "metadata": {},
   "outputs": [],
   "source": [
    "# Using dict() function\n",
    "students_scores : dict[str,int] = dict(Alice=85, Bob=92, Charlie=78)\n",
    "print(students_scores)"
   ]
  },
  {
   "cell_type": "markdown",
   "id": "0075710a",
   "metadata": {},
   "source": [
    "\n",
    "    {'Alice': 85, 'Bob': 92, 'Charlie': 78}\n",
    "\n",
    "\n",
    "## Accessing Values\n",
    "can access values in a dictionary using the key inside square brackets `[]` or with the `.get()` method.\n",
    "\n",
    "#### Example:\n",
    "\n"
   ]
  },
  {
   "cell_type": "code",
   "execution_count": null,
   "id": "cf0f5768",
   "metadata": {},
   "outputs": [],
   "source": [
    "# Accessing a value using a key\n",
    "print(students_scores[\"Alice\"])  # Output: 85\n",
    "\n",
    "# Using the get() method\n",
    "print(students_scores.get(\"Bob\"))  # Output: 92"
   ]
  },
  {
   "cell_type": "markdown",
   "id": "0ed6aef5",
   "metadata": {},
   "source": [
    "\n",
    "    85\n",
    "    92\n",
    "\n",
    "\n",
    "#### Handling Missing Keys\n",
    "The `.get()` method is safer for accessing keys, as it returns `None` or a default value if the key is not found, rather than raising a `KeyError`.\n",
    "\n",
    "#### Example:\n",
    "\n"
   ]
  },
  {
   "cell_type": "code",
   "execution_count": null,
   "id": "9c157973",
   "metadata": {},
   "outputs": [],
   "source": [
    "# Using square brackets (raises KeyError if key is not found)\n",
    "# print(student_scores[\"David\"])  # Uncommenting this line would raise KeyError\n",
    "\n",
    "# Using get() (returns None if key is not found)\n",
    "print(students_scores.get(\"David\"))  # Output: None\n",
    "\n",
    "# Providing a default value with get()\n",
    "print(students_scores.get(\"David\", \"Not Found\"))  # Output: Not Found"
   ]
  },
  {
   "cell_type": "markdown",
   "id": "c39a1e7c",
   "metadata": {},
   "source": [
    "\n",
    "    None\n",
    "    Not Found\n",
    "\n",
    "\n",
    "# Adding and Updating Items\n",
    "\n",
    " can add a new key-value pair or update an existing one using square brackets `[]`.\n",
    "\n",
    "#### Example:\n",
    "\n"
   ]
  },
  {
   "cell_type": "code",
   "execution_count": null,
   "id": "7b60ad0c",
   "metadata": {},
   "outputs": [],
   "source": [
    "# Adding a new key-value pair\n",
    "students_scores[\"David\"] = 88\n",
    "print(students_scores)  # Output: {'Alice': 85, 'Bob': 92, 'Charlie': 78, 'David': 88}\n",
    "\n",
    "# Updating an existing key-value pair\n",
    "students_scores[\"Alice\"] = 90\n",
    "print(students_scores)  # Output: {'Alice': 90, 'Bob': 92, 'Charlie': 78, 'David': 88}\n"
   ]
  },
  {
   "cell_type": "markdown",
   "id": "21c3992b",
   "metadata": {},
   "source": [
    "\n",
    "    {'Alice': 85, 'Bob': 92, 'Charlie': 78, 'David': 88}\n",
    "    {'Alice': 90, 'Bob': 92, 'Charlie': 78, 'David': 88}\n",
    "\n",
    "\n",
    "## Removing Items\n",
    "\n",
    " can remove items using the `del` statement, the `.pop()` method, or the `.popitem()` method.\n",
    "\n",
    "#### Example:\n",
    "\n"
   ]
  },
  {
   "cell_type": "code",
   "execution_count": null,
   "id": "e9d128b4",
   "metadata": {},
   "outputs": [],
   "source": [
    "# Removing a specific key-value pair using del\n",
    "del students_scores[\"Charlie\"]\n",
    "print(students_scores)"
   ]
  },
  {
   "cell_type": "markdown",
   "id": "9e2ce156",
   "metadata": {},
   "source": [
    "\n",
    "    {'Alice': 90, 'Bob': 92, 'David': 88}\n",
    "\n",
    "\n"
   ]
  },
  {
   "cell_type": "code",
   "execution_count": null,
   "id": "0a096d1d",
   "metadata": {},
   "outputs": [],
   "source": [
    "# Removing a specific key-value pair using pop()\n",
    "removed_score = students_scores.pop(\"David\")\n",
    "print(removed_score)  # Output: 88\n",
    "print(students_scores)  # Output: {'Alice': 90, 'Bob': 92}"
   ]
  },
  {
   "cell_type": "markdown",
   "id": "542cf5b3",
   "metadata": {},
   "source": [
    "\n",
    "    88\n",
    "    {'Alice': 90, 'Bob': 92}\n",
    "\n",
    "\n"
   ]
  },
  {
   "cell_type": "code",
   "execution_count": null,
   "id": "f3e78f0c",
   "metadata": {},
   "outputs": [],
   "source": [
    "# Removing the last inserted key-value pair using popitem()\n",
    "last_item = students_scores.popitem()\n",
    "print(last_item)  # Output: ('Bob', 92)\n",
    "print(students_scores)  # Output: {'Alice': 90}\n"
   ]
  },
  {
   "cell_type": "markdown",
   "id": "1fbeada8",
   "metadata": {},
   "source": [
    "\n",
    "    ('Bob', 92)\n",
    "    {'Alice': 90}\n",
    "\n",
    "\n",
    "## Checking if a Key Exists\n",
    "\n",
    " can check if a key exists in a dictionary using the `in` keyword.\n",
    "\n",
    "#### Example:\n",
    "\n"
   ]
  },
  {
   "cell_type": "code",
   "execution_count": null,
   "id": "905e45cf",
   "metadata": {},
   "outputs": [],
   "source": [
    "print(\"Alice\" in students_scores)  # Output: True\n",
    "print(\"Charlie\" in students_scores)  # Output: False\n"
   ]
  },
  {
   "cell_type": "markdown",
   "id": "f583a5ba",
   "metadata": {},
   "source": [
    "\n",
    "    True\n",
    "    False\n",
    "\n",
    "\n",
    "## Iterating Through a Dictionary\n",
    "\n",
    "We can iterate through the keys, values, or key-value pairs in a dictionary using a `for` loop.\n",
    "\n",
    "\n",
    "### Example:\n",
    "\n"
   ]
  },
  {
   "cell_type": "code",
   "execution_count": null,
   "id": "ab0e4231",
   "metadata": {},
   "outputs": [],
   "source": [
    "students_scores : dict[str,int] = {\n",
    "    \"Alice\": 85,\n",
    "    \"Bob\": 92,\n",
    "    \"Charlie\": 78\n",
    "}"
   ]
  },
  {
   "cell_type": "markdown",
   "id": "def1af5b",
   "metadata": {},
   "source": [
    "\n"
   ]
  },
  {
   "cell_type": "code",
   "execution_count": null,
   "id": "f35deed4",
   "metadata": {},
   "outputs": [],
   "source": [
    "# Iterating through keys\n",
    "for student in students_scores:\n",
    "    print(student)"
   ]
  },
  {
   "cell_type": "markdown",
   "id": "92b1ca89",
   "metadata": {},
   "source": [
    "\n",
    "    Alice\n",
    "    Bob\n",
    "    Charlie\n",
    "\n",
    "\n"
   ]
  },
  {
   "cell_type": "code",
   "execution_count": null,
   "id": "11451e37",
   "metadata": {},
   "outputs": [],
   "source": [
    "# Iterating through values\n",
    "for score in students_scores.values():\n",
    "    print(score)"
   ]
  },
  {
   "cell_type": "markdown",
   "id": "ea7766fd",
   "metadata": {},
   "source": [
    "\n",
    "    85\n",
    "    92\n",
    "    78\n",
    "\n",
    "\n"
   ]
  },
  {
   "cell_type": "code",
   "execution_count": null,
   "id": "80594672",
   "metadata": {},
   "outputs": [],
   "source": [
    "# Iterating through key-value pairs\n",
    "for student, score in students_scores.items():\n",
    "    print(f\"{student}: {score}\")"
   ]
  },
  {
   "cell_type": "markdown",
   "id": "fd30457d",
   "metadata": {},
   "source": [
    "\n",
    "    Alice: 85\n",
    "    Bob: 92\n",
    "    Charlie: 78\n",
    "\n",
    "\n",
    "## Dictionary Methods\n",
    "\n",
    "#### 1. `.keys()` Method\n",
    "Returns a view object that displays a list of all the keys in the dictionary.\n",
    "\n",
    "*Example:*\n",
    "\n",
    "\n"
   ]
  },
  {
   "cell_type": "code",
   "execution_count": null,
   "id": "779d3d87",
   "metadata": {},
   "outputs": [],
   "source": [
    "keys = students_scores.keys()\n",
    "print(keys)\n",
    "print(type(keys))"
   ]
  },
  {
   "cell_type": "markdown",
   "id": "ac78cc09",
   "metadata": {},
   "source": [
    "\n",
    "    dict_keys(['Alice', 'Bob', 'Charlie'])\n",
    "    <class 'dict_keys'>\n",
    "\n",
    "\n",
    "#### 2. `.values()` Method\n",
    "Returns a view object that displays a list of all the values in the dictionary.\n",
    "\n",
    "*Example:*\n",
    "\n"
   ]
  },
  {
   "cell_type": "code",
   "execution_count": null,
   "id": "95ea4997",
   "metadata": {},
   "outputs": [],
   "source": [
    "values = students_scores.values()\n",
    "print(values)\n",
    "print(type(values))"
   ]
  },
  {
   "cell_type": "markdown",
   "id": "efc2eafe",
   "metadata": {},
   "source": [
    "\n",
    "    dict_values([85, 92, 78])\n",
    "    <class 'dict_values'>\n",
    "\n",
    "\n",
    "#### 3. `.items()` Method\n",
    "Returns a view object that displays a list of the dictionary’s key-value tuple pairs.\n",
    "\n",
    "*Example:*\n",
    "\n",
    "\n"
   ]
  },
  {
   "cell_type": "code",
   "execution_count": null,
   "id": "cc7a9cfb",
   "metadata": {},
   "outputs": [],
   "source": [
    "items = students_scores.items()\n",
    "print(items)\n",
    "print(type(items))"
   ]
  },
  {
   "cell_type": "markdown",
   "id": "cc349569",
   "metadata": {},
   "source": [
    "\n",
    "    dict_items([('Alice', 85), ('Bob', 92), ('Charlie', 78)])\n",
    "    <class 'dict_items'>\n",
    "\n",
    "\n",
    "#### 4. `.update()` Method\n",
    "Updates the dictionary with elements from another dictionary or from an iterable of key-value pairs.\n",
    "\n",
    "*Example:*\n",
    "\n"
   ]
  },
  {
   "cell_type": "code",
   "execution_count": null,
   "id": "210e9cda",
   "metadata": {},
   "outputs": [],
   "source": [
    "additional_scores = {\"Eve\": 95, \"Frank\": 87}\n",
    "students_scores.update(additional_scores)\n",
    "print(students_scores)"
   ]
  },
  {
   "cell_type": "markdown",
   "id": "4ccf3fb4",
   "metadata": {},
   "source": [
    "\n",
    "    {'Alice': 85, 'Bob': 92, 'Charlie': 78, 'Eve': 95, 'Frank': 87}\n",
    "\n",
    "\n",
    "#### 5. `.clear()` Method\n",
    "Removes all items from the dictionary.\n",
    "\n",
    "*Example:*\n",
    "\n"
   ]
  },
  {
   "cell_type": "code",
   "execution_count": null,
   "id": "0e0e85b7",
   "metadata": {},
   "outputs": [],
   "source": [
    "students_scores.clear()\n",
    "print(student_scores)"
   ]
  },
  {
   "cell_type": "markdown",
   "id": "11a78e9b",
   "metadata": {},
   "source": [
    "\n",
    "    {}\n",
    "\n",
    "\n",
    "#### 5. `.copy()` Method\n",
    "\n"
   ]
  },
  {
   "cell_type": "code",
   "execution_count": null,
   "id": "49883869",
   "metadata": {},
   "outputs": [],
   "source": [
    "students_scores : dict[str,int] = {\n",
    "    \"Alice\": 85,\n",
    "    \"Bob\": 92,\n",
    "    \"Charlie\": 78\n",
    "}"
   ]
  },
  {
   "cell_type": "markdown",
   "id": "4b0be280",
   "metadata": {},
   "source": [
    "\n"
   ]
  },
  {
   "cell_type": "code",
   "execution_count": null,
   "id": "ec303d4e",
   "metadata": {},
   "outputs": [],
   "source": [
    "students_scroes_copy = students_scores.copy()\n",
    "print(students_scroes_copy)"
   ]
  },
  {
   "cell_type": "markdown",
   "id": "57b55704",
   "metadata": {},
   "source": [
    "\n",
    "    {'Alice': 85, 'Bob': 92, 'Charlie': 78}\n",
    "\n",
    "\n",
    "## Dictionary Comprehension\n",
    "We can also apply comprehension method on dictionaries.\n",
    "\n",
    "*Example:*\n",
    "\n"
   ]
  },
  {
   "cell_type": "code",
   "execution_count": null,
   "id": "b818c9e9",
   "metadata": {},
   "outputs": [],
   "source": [
    "values : dict[int,int] = {x:x for x in range(5)}\n",
    "print(values)"
   ]
  },
  {
   "cell_type": "markdown",
   "id": "5cc8137a",
   "metadata": {},
   "source": [
    "\n",
    "    {0: 0, 1: 1, 2: 2, 3: 3, 4: 4}\n",
    "\n",
    "\n",
    "*Example:*\n",
    "\n"
   ]
  },
  {
   "cell_type": "code",
   "execution_count": null,
   "id": "b425e12c",
   "metadata": {},
   "outputs": [],
   "source": [
    "fruits : list[str] = [\"apple\", \"banana\", \"orange\"]\n",
    "fruits_dict : dict[int,str] = {i:fruit for i, fruit in enumerate(fruits)}\n",
    "print(fruits_dict)"
   ]
  },
  {
   "cell_type": "markdown",
   "id": "b655de0e",
   "metadata": {},
   "source": [
    "\n",
    "    {0: 'apple', 1: 'banana', 2: 'orange'}\n",
    "\n",
    "\n",
    "## Projects\n",
    "\n",
    "### Project 1: Student Gradebook\n",
    "\n",
    "#### **Write a program to :**\n",
    "- Create a dictionary to store student names as keys and their grades as values.\n",
    "- Allow the user to input new student-grade pairs and update existing entries.\n",
    "\n",
    "#### **Breakdown into step by step:**\n",
    "1. **Initialize an empty dictionary** to store student names (keys) and their grades (values).\n",
    "\n",
    "2. **Create a loop** to continuously allow the user to input data until they choose to stop.\n",
    "\n",
    "3. **Prompt the user** to enter a student's name.\n",
    "\n",
    "4. **Check if the name is already in the dictionary:**\n",
    "   - **If it is**, ask the user to enter the new grade and update the dictionary.\n",
    "   - **If not**, ask the user to enter the grade and add the new key-value pair to the dictionary.\n",
    "\n",
    "5. **Ask the user** if they want to add another student or update another grade.\n",
    "\n",
    "6. **Provide feedback** to the user after each entry, such as confirming the action or displaying the current dictionary.\n",
    "\n",
    "7. **Handle potential errors**, such as non-numeric grades or empty inputs.\n",
    "\n",
    "8. **Optionally**, allow the user to view the current list of students and their grades at any time.\n",
    "\n",
    "### Project 2: Word Counter\n",
    "Develop a Python script to:\n",
    "- Accept a sentence from the user.\n",
    "- Count the frequency of each word using a dictionary.\n",
    "\n",
    "### Project 3: Shopping Cart\n",
    "Create a program that:\n",
    "- Uses a dictionary to manage items in a shopping cart (item names as keys and quantities as values).\n",
    "- Allows the user to add, remove, or update items.\n",
    "\n",
    "### Project 4: Employee Directory\n",
    "Build a program to:\n",
    "- Create a dictionary with employee IDs as keys and their names as values.\n",
    "- Add functionalities to search, add, and delete employees.\n",
    "\n",
    "### Project 5: Vowel Tracker\n",
    "Write a program to:\n",
    "- Accept a string from the user.\n",
    "- Use a dictionary to count the occurrences of each vowel (a, e, i, o, u).\n",
    "\n",
    "### Project 6: Favorite Books\n",
    "Design a Python script that:\n",
    "- Uses a dictionary to store book titles as keys and authors as values.\n",
    "- Allows the user to search for books by title or author.\n",
    "\n",
    "### Project 7: Product Price Lookup\n",
    "Create a program to:\n",
    "- Create a dictionary with product names as keys and their prices as values.\n",
    "- Implement a lookup functionality to find the price of a product entered by the user.\n",
    "\n",
    "### Project 8: State Capitals Quiz\n",
    "Develop a quiz game that:\n",
    "- Uses a dictionary to store state names as keys and their capitals as values.\n",
    "- Randomly selects a state and asks the user to guess its capital.\n"
   ]
  }
 ],
 "metadata": {},
 "nbformat": 4,
 "nbformat_minor": 5
}