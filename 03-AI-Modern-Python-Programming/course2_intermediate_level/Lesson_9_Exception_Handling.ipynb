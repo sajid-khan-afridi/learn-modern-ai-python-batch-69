{
  "cells": [
    {
      "cell_type": "markdown",
      "metadata": {
        "id": "0i-IiMCB3IO0"
      },
      "source": [
        "# Exception Handling in Python\n",
        "\n",
        "When you're writing a program, things don't always go as planned. Sometimes, unexpected errors, called **exceptions**, can occur. If these exceptions are not handled properly, they will stop or crash your program from running. This is where **exception handling** becomes crucial.\n",
        "\n",
        "## What is an Exception?\n",
        "\n",
        "An **exception** is an error that happens during the execution of a program. When an exception occurs, the normal flow of the program is interrupted, and the program will terminate unless you handle the exception."
      ]
    },
    {
      "cell_type": "markdown",
      "metadata": {
        "id": "tNnU_N1L3IO3"
      },
      "source": [
        "\n",
        "- The try block is used to test a block of code for errors. If an error occurs within the try block, the program will immediately jump to the except block (if provided).\n",
        "\n",
        "- The except block is used to handle specific errors that occur in the try block. You can specify the type of error to catch, or use a generic except to catch all errors.\n",
        "\n",
        "---\n",
        "\n",
        "\n"
      ]
    },
    {
      "cell_type": "code",
      "source": [
        "try:\n",
        "  num1 = int(input(\"Enter first number: \"))\n",
        "  num2 = int(input(\"Enter second number: \"))\n",
        "  print(num1/num2)\n",
        "except Exception as e:\n",
        "  print(f\"Error: {e}\")\n",
        "  print(\"Invalid input\")"
      ],
      "metadata": {
        "id": "SC0y0g4LS-UO",
        "outputId": "570aa1a8-b73d-47ca-a399-dd1a9df1b0a8",
        "colab": {
          "base_uri": "https://localhost:8080/"
        }
      },
      "execution_count": 8,
      "outputs": [
        {
          "output_type": "stream",
          "name": "stdout",
          "text": [
            "Enter first number: 5\n",
            "Enter second number: 0\n",
            "Error: division by zero\n",
            "Invalid input\n"
          ]
        }
      ]
    },
    {
      "cell_type": "markdown",
      "metadata": {
        "id": "FnmTkx4c3IO2"
      },
      "source": [
        "## Common Types of Exceptions in Python:"
      ]
    },
    {
      "cell_type": "markdown",
      "source": [
        "### 1. **`ZeroDivisionError`**\n",
        "Raised when dividing by zero.\n"
      ],
      "metadata": {
        "id": "LWRvUgid8qdM"
      }
    },
    {
      "cell_type": "code",
      "execution_count": 11,
      "metadata": {
        "id": "JspmeNFL3IO4",
        "outputId": "41c1986b-318f-49bf-c5ad-03e5659f4edf",
        "colab": {
          "base_uri": "https://localhost:8080/"
        }
      },
      "outputs": [
        {
          "output_type": "stream",
          "name": "stdout",
          "text": [
            "Division by zero is not allowed: <class 'ZeroDivisionError'>\n",
            "Division by zero is not allowed: division by zero\n"
          ]
        }
      ],
      "source": [
        "# Division by zero raises an exception\n",
        "num = 10\n",
        "den = 0\n",
        "try:\n",
        "    result = num / den  # Raises ZeroDivisionError\n",
        "except ZeroDivisionError as e: # When we use as e, e is the instance of the ZeroDivisionError exception\n",
        "# except Exception as e: # When we use as e, e is the instance of the ZeroDivisionError exception\n",
        "    print(f\"Division by zero is not allowed: {ZeroDivisionError}\")\n",
        "    print(f\"Division by zero is not allowed: {e}\")"
      ]
    },
    {
      "cell_type": "markdown",
      "metadata": {
        "id": "-41gPLuV3IO5"
      },
      "source": [
        "### 2. **`ValueError`**\n",
        "\n",
        "Raised when a function receives an argument of the correct type but with an inappropriate value.\n",
        "\n",
        "`Exception` as e (General):\n",
        "\n",
        "  - Exception is the base class for most built-in exceptions in Python. Catching Exception is considered \"general\" because it will handle all exceptions that inherit from Exception (e.g., ValueError, TypeError, KeyError, etc.).\n",
        "  - This is risky because it might catch unexpected errors, making debugging harder.\n",
        "\n",
        "`ValueError` as e (Specific):\n",
        "\n",
        "  - ValueError is a subclass of Exception. This handler is \"specific\" because it only catches ValueError exceptions (e.g., invalid type conversion, like int(\"not_a_number\")).\n",
        "\n",
        "  - This is the recommended approach, as it explicitly targets a known error and avoids unintended side effects.\n",
        "\n",
        "**Best Practice:**\n",
        "\n",
        "- Always catch specific exceptions (like ValueError) unless you have a strong reason to handle a broader category. General exceptions (like Exception) can mask bugs or unexpected errors.\n"
      ]
    },
    {
      "cell_type": "code",
      "source": [
        "value = int(\"hello\")"
      ],
      "metadata": {
        "id": "xx3ypoFTX2Zq",
        "outputId": "67d0c108-0325-40db-a2a0-c05084dbbbb5",
        "colab": {
          "base_uri": "https://localhost:8080/",
          "height": 141
        }
      },
      "execution_count": 12,
      "outputs": [
        {
          "output_type": "error",
          "ename": "ValueError",
          "evalue": "invalid literal for int() with base 10: 'hello'",
          "traceback": [
            "\u001b[0;31m---------------------------------------------------------------------------\u001b[0m",
            "\u001b[0;31mValueError\u001b[0m                                Traceback (most recent call last)",
            "\u001b[0;32m<ipython-input-12-61a5e812790b>\u001b[0m in \u001b[0;36m<cell line: 0>\u001b[0;34m()\u001b[0m\n\u001b[0;32m----> 1\u001b[0;31m \u001b[0mvalue\u001b[0m \u001b[0;34m=\u001b[0m \u001b[0mint\u001b[0m\u001b[0;34m(\u001b[0m\u001b[0;34m\"hello\"\u001b[0m\u001b[0;34m)\u001b[0m\u001b[0;34m\u001b[0m\u001b[0;34m\u001b[0m\u001b[0m\n\u001b[0m",
            "\u001b[0;31mValueError\u001b[0m: invalid literal for int() with base 10: 'hello'"
          ]
        }
      ]
    },
    {
      "cell_type": "code",
      "execution_count": 13,
      "metadata": {
        "id": "I04Nupuv3IO6",
        "outputId": "4857f7a5-9bdd-44b5-bdaf-9a50238d4be6",
        "colab": {
          "base_uri": "https://localhost:8080/"
        }
      },
      "outputs": [
        {
          "output_type": "stream",
          "name": "stdout",
          "text": [
            "Enter your age: seven\n",
            "Invalid input! Please enter a whole number. Error: invalid literal for int() with base 10: 'seven'\n"
          ]
        }
      ],
      "source": [
        "try:\n",
        "    age = int(input(\"Enter your age: \"))  # Invalid literal for `int()`\n",
        "    print(\"Your age is\", age)\n",
        "except ValueError as e:#specific\n",
        "    print(f\"Invalid input! Please enter a whole number. Error: {e}\")\n"
      ]
    },
    {
      "cell_type": "code",
      "execution_count": null,
      "metadata": {
        "id": "fLPkLhFE3IO6"
      },
      "outputs": [],
      "source": [
        "try:\n",
        "    age = int(input(\"Enter your age: \"))  # Invalid literal for `int()`\n",
        "    print(\"Your age is\", age)\n",
        "except Exception as e: # general\n",
        "    print(f\"Invalid input! Please enter a whole number. Error: {e}\")"
      ]
    },
    {
      "cell_type": "markdown",
      "metadata": {
        "id": "gxlur4zM3IO7"
      },
      "source": [
        "### 3. **`TypeError`**\n",
        "\n",
        "Raised when an operation or function is applied to an object of the wrong type.\n"
      ]
    },
    {
      "cell_type": "code",
      "source": [
        "print(44+77)"
      ],
      "metadata": {
        "id": "ytAuuKUZZZJa",
        "outputId": "c8248a6c-9d1d-4cf0-e100-9777e7a4e844",
        "colab": {
          "base_uri": "https://localhost:8080/"
        }
      },
      "execution_count": 16,
      "outputs": [
        {
          "output_type": "stream",
          "name": "stdout",
          "text": [
            "121\n"
          ]
        }
      ]
    },
    {
      "cell_type": "code",
      "execution_count": 17,
      "metadata": {
        "id": "DrjnIeLu3IO7",
        "outputId": "b1e81a65-e06f-452e-a04d-db0509046546",
        "colab": {
          "base_uri": "https://localhost:8080/"
        }
      },
      "outputs": [
        {
          "output_type": "stream",
          "name": "stdout",
          "text": [
            "Cannot add a string and a number! Error: can only concatenate str (not \"int\") to str\n"
          ]
        }
      ],
      "source": [
        "try:\n",
        "    result = \"text\" + 10  # Adding a string and an integer\n",
        "    print(result)\n",
        "except TypeError as e:\n",
        "    print(f\"Cannot add a string and a number! Error: {e}\")"
      ]
    },
    {
      "cell_type": "code",
      "execution_count": 18,
      "metadata": {
        "id": "JNnH9NRB3IO8",
        "outputId": "8f9a99de-9f55-46c6-ee48-c6ccce6bec38",
        "colab": {
          "base_uri": "https://localhost:8080/"
        }
      },
      "outputs": [
        {
          "output_type": "stream",
          "name": "stdout",
          "text": [
            "Cannot add a string and a number! Error: can only concatenate str (not \"int\") to str\n"
          ]
        }
      ],
      "source": [
        "try:\n",
        "    result = \"text\" + 10  # Adding a string and an integer\n",
        "    print(result)\n",
        "except Exception as e:\n",
        "    print(f\"Cannot add a string and a number! Error: {e}\")"
      ]
    },
    {
      "cell_type": "markdown",
      "metadata": {
        "id": "-ylBBZmj3IO8"
      },
      "source": [
        "### 4. **`IndexError`**\n",
        "\n",
        "Raised when trying to access an index that is out of range in a list or tuple.\n",
        "\n",
        "**Practice Goal:** Enter an index like 5 or -4 to trigger the IndexError."
      ]
    },
    {
      "cell_type": "code",
      "source": [
        "  my_list = [10, 20, 30]\n",
        "  print(my_list[int(input(\"Choose an index (0-2): \"))])"
      ],
      "metadata": {
        "id": "VoEF1DYGaXgm",
        "outputId": "e6358410-724d-4665-a197-8a210db52e88",
        "colab": {
          "base_uri": "https://localhost:8080/",
          "height": 176
        }
      },
      "execution_count": 21,
      "outputs": [
        {
          "name": "stdout",
          "output_type": "stream",
          "text": [
            "Choose an index (0-2): 3\n"
          ]
        },
        {
          "output_type": "error",
          "ename": "IndexError",
          "evalue": "list index out of range",
          "traceback": [
            "\u001b[0;31m---------------------------------------------------------------------------\u001b[0m",
            "\u001b[0;31mIndexError\u001b[0m                                Traceback (most recent call last)",
            "\u001b[0;32m<ipython-input-21-e9f70d878724>\u001b[0m in \u001b[0;36m<cell line: 0>\u001b[0;34m()\u001b[0m\n\u001b[1;32m      1\u001b[0m \u001b[0mmy_list\u001b[0m \u001b[0;34m=\u001b[0m \u001b[0;34m[\u001b[0m\u001b[0;36m10\u001b[0m\u001b[0;34m,\u001b[0m \u001b[0;36m20\u001b[0m\u001b[0;34m,\u001b[0m \u001b[0;36m30\u001b[0m\u001b[0;34m]\u001b[0m\u001b[0;34m\u001b[0m\u001b[0;34m\u001b[0m\u001b[0m\n\u001b[0;32m----> 2\u001b[0;31m \u001b[0mprint\u001b[0m\u001b[0;34m(\u001b[0m\u001b[0mmy_list\u001b[0m\u001b[0;34m[\u001b[0m\u001b[0mint\u001b[0m\u001b[0;34m(\u001b[0m\u001b[0minput\u001b[0m\u001b[0;34m(\u001b[0m\u001b[0;34m\"Choose an index (0-2): \"\u001b[0m\u001b[0;34m)\u001b[0m\u001b[0;34m)\u001b[0m\u001b[0;34m]\u001b[0m\u001b[0;34m)\u001b[0m\u001b[0;34m\u001b[0m\u001b[0;34m\u001b[0m\u001b[0m\n\u001b[0m",
            "\u001b[0;31mIndexError\u001b[0m: list index out of range"
          ]
        }
      ]
    },
    {
      "cell_type": "code",
      "execution_count": 19,
      "metadata": {
        "id": "S2I9SBhv3IO9",
        "outputId": "4862b0e6-d365-497c-dfc8-bf1cab1b0712",
        "colab": {
          "base_uri": "https://localhost:8080/"
        }
      },
      "outputs": [
        {
          "output_type": "stream",
          "name": "stdout",
          "text": [
            "Choose an index (0-2): 4\n",
            "IndexError occurred: list index out of range\n",
            "Index out of range!\n"
          ]
        }
      ],
      "source": [
        "try:\n",
        "    my_list = [10, 20, 30]\n",
        "    print(my_list[int(input(\"Choose an index (0-2): \"))])\n",
        "except IndexError as e:\n",
        "    print(f\"IndexError occurred: {e}\")\n",
        "    print(\"Index out of range!\")"
      ]
    },
    {
      "cell_type": "markdown",
      "metadata": {
        "id": "q9Zud8S23IO9"
      },
      "source": [
        "### 5. **`KeyError`**\n",
        "\n",
        "Raised when trying to access a dictionary key that does not exist.\n",
        "\n",
        "**Practice Goal:** Enter a key that isn’t \"apple\" or \"carrot\" to see the KeyError.\n"
      ]
    },
    {
      "cell_type": "code",
      "execution_count": 23,
      "metadata": {
        "id": "ZzMosyxh3IO9",
        "outputId": "3edfd387-db3b-4580-9f48-56198d5a4f24",
        "colab": {
          "base_uri": "https://localhost:8080/"
        }
      },
      "outputs": [
        {
          "output_type": "stream",
          "name": "stdout",
          "text": [
            "Which key do you want? mango\n",
            "Error: That key does not exist in the dictionary!\n",
            "KeyError occurred: 'mango'\n"
          ]
        }
      ],
      "source": [
        "try:\n",
        "    my_dict = {\"apple\": \"fruit\", \"carrot\": \"vegetable\"}\n",
        "    print(my_dict[input(\"Which key do you want? \")])\n",
        "except KeyError as e:\n",
        "    print(\"Error: That key does not exist in the dictionary!\")\n",
        "    print(f\"KeyError occurred: {e}\")"
      ]
    },
    {
      "cell_type": "code",
      "source": [
        "try:\n",
        "    my_dict = {\"apple\": \"fruit\", \"carrot\": \"vegetable\"}\n",
        "    print(my_dict[input(\"Which key do you want? \")])\n",
        "except:\n",
        "    print(\"Error: That key does not exist in the dictionary!\")"
      ],
      "metadata": {
        "id": "TyplZJcLbYKJ",
        "outputId": "5e63eb3b-ddb7-416c-e74f-4bd1350bbd3c",
        "colab": {
          "base_uri": "https://localhost:8080/"
        }
      },
      "execution_count": 24,
      "outputs": [
        {
          "output_type": "stream",
          "name": "stdout",
          "text": [
            "Which key do you want? mango\n",
            "Error: That key does not exist in the dictionary!\n"
          ]
        }
      ]
    },
    {
      "cell_type": "markdown",
      "metadata": {
        "id": "jhEjp8aw3IO9"
      },
      "source": [
        "### 6. **`FileNotFoundError`**\n",
        "\n",
        "Raised when a file operation is requested, but the file does not exist.\n"
      ]
    },
    {
      "cell_type": "code",
      "source": [
        "try:\n",
        "    with open(\"file.txt\") as file:  # File does not exist\n",
        "        content = file.read()\n",
        "        print(content)\n",
        "except FileNotFoundError as e:\n",
        "    print(f\"FileNotFoundError occurred: {e}\")"
      ],
      "metadata": {
        "id": "3EoXONc9bH7v",
        "outputId": "27484396-1b68-43bf-c6ee-d69948657133",
        "colab": {
          "base_uri": "https://localhost:8080/"
        }
      },
      "execution_count": 25,
      "outputs": [
        {
          "output_type": "stream",
          "name": "stdout",
          "text": [
            "hello world\n"
          ]
        }
      ]
    },
    {
      "cell_type": "code",
      "execution_count": 26,
      "metadata": {
        "id": "pPT2TuUi3IO-",
        "outputId": "a3ed143c-7c96-47e6-9745-4117b1dc0911",
        "colab": {
          "base_uri": "https://localhost:8080/"
        }
      },
      "outputs": [
        {
          "output_type": "stream",
          "name": "stdout",
          "text": [
            "FileNotFoundError occurred: [Errno 2] No such file or directory: 'non_existent_file.txt'\n"
          ]
        }
      ],
      "source": [
        "try:\n",
        "    with open(\"non_existent_file.txt\") as file:  # File does not exist\n",
        "        content = file.read()\n",
        "        print(content)\n",
        "except FileNotFoundError as e:\n",
        "    print(f\"FileNotFoundError occurred: {e}\")"
      ]
    },
    {
      "cell_type": "markdown",
      "source": [
        "### 7. **`Multiple Exceptions`**\n",
        "\n",
        "**Practice Goal:**\n",
        "\n",
        "- Enter letters to trigger the ValueError.\n",
        "- Enter 0 to trigger the ZeroDivisionError."
      ],
      "metadata": {
        "id": "zYwlp1HLcCh1"
      }
    },
    {
      "cell_type": "code",
      "execution_count": 28,
      "metadata": {
        "id": "YqPul06u3IO-",
        "outputId": "937202b6-8203-4a90-ff88-446691b82c29",
        "colab": {
          "base_uri": "https://localhost:8080/"
        }
      },
      "outputs": [
        {
          "output_type": "stream",
          "name": "stdout",
          "text": [
            "Enter a number: 0\n",
            "Error: Can't divide by zero!\n"
          ]
        }
      ],
      "source": [
        "try:\n",
        "    print(50 / int(input(\"Enter a number: \")))\n",
        "except ValueError:\n",
        "    print(\"Error: That's not a valid number!\")\n",
        "except ZeroDivisionError:\n",
        "    print(\"Error: Can't divide by zero!\")"
      ]
    },
    {
      "cell_type": "markdown",
      "metadata": {
        "id": "z0UBo9Em3IO-"
      },
      "source": [
        "### 8. **`finally` Block**\n",
        "The `finally` block always runs whether there’s an exception or not. It’s useful for cleanup tasks, like closing files.\n",
        "#### When to use:\n",
        "- When you have some code that **must run no matter what**, such as releasing resources or cleaning up after the `try` block (e.g., closing a file or a network connection).\n",
        "- finally: Ensures that its code runs regardless of how the try block is exited (normal execution, exception, or return), making it ideal for cleanup or final actions."
      ]
    },
    {
      "cell_type": "markdown",
      "source": [
        "**Practice Goal:** Even if you type something invalid (causing a crash), the message in the finally block will still run."
      ],
      "metadata": {
        "id": "ISoQZpQAdI4z"
      }
    },
    {
      "cell_type": "code",
      "source": [
        "try:\n",
        "    num = int(input(\"Enter a number: \"))\n",
        "    print(\"You typed:\", num)\n",
        "except:\n",
        "    print(\"Invalid input! Please enter a valid number.\")\n",
        "finally:\n",
        "    print(\"The 'finally' block always runs!\")"
      ],
      "metadata": {
        "id": "sQGAlxWddHke",
        "outputId": "57aaea67-03ac-4ed8-8822-2825dff2b6fc",
        "colab": {
          "base_uri": "https://localhost:8080/"
        }
      },
      "execution_count": 33,
      "outputs": [
        {
          "output_type": "stream",
          "name": "stdout",
          "text": [
            "Enter a number: 4\n",
            "You typed: 4\n",
            "The 'finally' block always runs!\n"
          ]
        }
      ]
    },
    {
      "cell_type": "code",
      "execution_count": 34,
      "metadata": {
        "id": "HBqTfVe03IO_",
        "outputId": "1857b1cc-18fa-4e62-f641-b3f899313b3b",
        "colab": {
          "base_uri": "https://localhost:8080/"
        }
      },
      "outputs": [
        {
          "output_type": "stream",
          "name": "stdout",
          "text": [
            "Enter the numerator: 55\n",
            "Enter the denominator: 11\n",
            "5.0\n",
            "Thank you for using the division program\n",
            "checking\n"
          ]
        }
      ],
      "source": [
        "def divide_numbers():\n",
        "    try:\n",
        "        a = int(input(\"Enter the numerator: \"))\n",
        "        b = int(input(\"Enter the denominator: \"))\n",
        "        result = a / b\n",
        "        print(result)\n",
        "    except Exception as e:\n",
        "        print(\"Error occurred: \", e)\n",
        "    finally:\n",
        "        print(\"Thank you for using the division program\")\n",
        "    print(\"checking\")\n",
        "divide_numbers()"
      ]
    },
    {
      "cell_type": "code",
      "source": [
        "def divide_numbers():\n",
        "    try:\n",
        "        a = int(input(\"Enter the numerator: \"))\n",
        "        b = int(input(\"Enter the denominator: \"))\n",
        "        result = a / b\n",
        "        print(result)\n",
        "        return  # Early return from the function\n",
        "    except Exception as e:\n",
        "        print(\"Error occurred:\", e)\n",
        "    finally:\n",
        "        print(\"Thank you for using the division program\")\n",
        "    print(\"checking\")\n",
        "\n",
        "divide_numbers()\n"
      ],
      "metadata": {
        "id": "YQIlChGNjxyC",
        "outputId": "acaf1009-e2be-44a7-e3e2-960e4dca81d9",
        "colab": {
          "base_uri": "https://localhost:8080/"
        }
      },
      "execution_count": 35,
      "outputs": [
        {
          "output_type": "stream",
          "name": "stdout",
          "text": [
            "Enter the numerator: 55\n",
            "Enter the denominator: 11\n",
            "5.0\n",
            "Thank you for using the division program\n"
          ]
        }
      ]
    },
    {
      "cell_type": "markdown",
      "metadata": {
        "id": "8c9S3wvK3IO_"
      },
      "source": [
        "### 8. **Using `else` Block**\n",
        "The `else` block executes only if no exceptions occur in the `try` block.\n",
        "\n",
        "#### When to use:\n",
        "- When you have code that should only run **if no exceptions were raised**. This makes your intentions clear and keeps your code cleaner."
      ]
    },
    {
      "cell_type": "code",
      "execution_count": 37,
      "metadata": {
        "id": "MQw_jtvH3IO_",
        "outputId": "9d3ccf72-0573-462d-ac1e-54dcd8d2a4da",
        "colab": {
          "base_uri": "https://localhost:8080/"
        }
      },
      "outputs": [
        {
          "output_type": "stream",
          "name": "stdout",
          "text": [
            "Enter the numerator: 44\n",
            "Enter the denominator: 11\n",
            "Division successful: 4.0\n"
          ]
        }
      ],
      "source": [
        "def divide_numbers():\n",
        "    try:\n",
        "        a = int(input(\"Enter the numerator: \"))\n",
        "        b = int(input(\"Enter the denominator: \"))\n",
        "        result = a / b\n",
        "    except ZeroDivisionError:\n",
        "        print(\"You cannot divide by zero\")\n",
        "    else:\n",
        "        print(f\"Division successful: {result}\")\n",
        "\n",
        "divide_numbers()\n"
      ]
    },
    {
      "cell_type": "markdown",
      "source": [
        "### 9. **Using `raise` and Handling a ValueError Exception**\n",
        "\n",
        "- Custom Age Validation: Handling Invalid Input with Python Exceptions"
      ],
      "metadata": {
        "id": "1b2a34lZPct4"
      }
    },
    {
      "cell_type": "code",
      "source": [
        "def validate_age(age):\n",
        "    if age < 0:\n",
        "        raise ValueError(\"Age cannot be negative\")  # Raise exception\n",
        "    print(\"Age is valid\")\n",
        "\n",
        "try:\n",
        "    validate_age(-5)  # This will trigger the exception\n",
        "except ValueError as e:\n",
        "    print(f\"Error: {e}\")  # Handle the exception"
      ],
      "metadata": {
        "id": "Z1IEXUY7PdSN",
        "outputId": "f8c36e16-6b2e-4f0d-fd02-2f67fbb5d8b6",
        "colab": {
          "base_uri": "https://localhost:8080/"
        }
      },
      "execution_count": 38,
      "outputs": [
        {
          "output_type": "stream",
          "name": "stdout",
          "text": [
            "Error: Age cannot be negative\n"
          ]
        }
      ]
    }
  ],
  "metadata": {
    "kernelspec": {
      "display_name": "Python 3",
      "language": "python",
      "name": "python3"
    },
    "language_info": {
      "codemirror_mode": {
        "name": "ipython",
        "version": 3
      },
      "file_extension": ".py",
      "mimetype": "text/x-python",
      "name": "python",
      "nbconvert_exporter": "python",
      "pygments_lexer": "ipython3",
      "version": "3.12.8"
    },
    "colab": {
      "provenance": []
    }
  },
  "nbformat": 4,
  "nbformat_minor": 0
}