{
  "cells": [
    {
      "cell_type": "markdown",
      "source": [
        "<font color=\"#a9a56c\" size=2> **@Author: Arif Kasim Rozani - (Team Operation Badar)** </font>\n"
      ],
      "metadata": {
        "id": "38_QpUXJOAII"
      }
    },
    {
      "cell_type": "markdown",
      "source": [
        "**Introduction to Asyncio in Python**\n",
        "=====================================\n",
        "\n",
        "Asyncio is a library in Python that allows you to write single-threaded concurrent code using coroutines, multiplexing I/O access over sockets and other resources, and implementing network clients and servers.\n",
        "\n",
        "\n",
        "Imagine you're cooking a meal and while you're waiting for water to boil, you start chopping vegetables. Asyncio in Python works similarly—it lets your program switch between tasks instead of just waiting around for one task to finish.\n",
        "\n",
        "In simple terms, asyncio is a tool that helps your Python program manage multiple jobs at the same time, even if it only has one \"worker\" (or thread). When one task is slow (like waiting for data from the internet), asyncio lets your program work on something else until the first task is ready to continue."
      ],
      "metadata": {
        "id": "FTpZ9mhFhS7J"
      }
    },
    {
      "cell_type": "markdown",
      "source": [
        "**Asyncio in Python: A Simplified Explanation**\n",
        "=====================================================\n",
        "\n",
        "Imagine you're at a coffee shop, and you want to order a coffee and a pastry. There are two ways to do this:\n",
        "\n",
        "1.  **Synchronous Approach**: You order the coffee, wait for it to be prepared, and then order the pastry. You can't do anything else until both orders are completed.\n",
        "2.  **Asynchronous Approach**: You order the coffee and, while it's being prepared, you order the pastry. You can do other things, like checking your phone or chatting with a friend, until both orders are ready.\n",
        "\n",
        "**Asyncio in Python works similarly to the asynchronous approach**. It allows your program to perform multiple tasks concurrently, improving efficiency and responsiveness."
      ],
      "metadata": {
        "id": "VILWDka8hxPo"
      }
    },
    {
      "cell_type": "markdown",
      "source": [
        "**Key Concepts**\n",
        "----------------\n",
        "\n",
        "*   **Coroutines**: A coroutine is a special type of function that can suspend and resume its execution at specific points. Think of it as a task that can be paused and resumed.\n",
        "*   **Event Loop**: The event loop is the central component of Asyncio. It manages the execution of coroutines, handling I/O operations and scheduling tasks.\n",
        "*   **Tasks**: A task is a coroutine that's scheduled to run concurrently with other tasks.\n",
        "*   **Futures**: A future represents the result of a task. You can wait for a future to complete, allowing you to retrieve the result of a task.\n",
        "\n",
        "**Example: Making Coffee and Pastry**\n",
        "------------------------------------\n",
        "\n",
        "Let's create an example that demonstrates the synchronous and asynchronous approaches:"
      ],
      "metadata": {
        "id": "47_DbueCiNLZ"
      }
    },
    {
      "cell_type": "code",
      "source": [
        "import asyncio\n",
        "import time\n",
        "import threading\n",
        "\n",
        "# Synchronous approach\n",
        "def make_coffee_sync():\n",
        "    print(f\"\\tMaking coffee... : Thread Name: {threading.current_thread().name}\")\n",
        "    time.sleep(2)  # Simulate coffee preparation time\n",
        "    print(\"\\tCoffee is ready!\")\n",
        "\n",
        "def make_pastry_sync():\n",
        "    print(f\"\\tMaking pastry... : Thread Name: {threading.current_thread().name}\")\n",
        "    time.sleep(3)  # Simulate pastry preparation time\n",
        "    print(\"\\tPastry is ready!\")\n",
        "\n",
        "def order_sync():\n",
        "    make_coffee_sync()\n",
        "    make_pastry_sync()\n",
        "\n",
        "# Asynchronous approach using Asyncio\n",
        "async def make_coffee_async():\n",
        "    print(f\"\\tMaking coffee... : Thread Name: {threading.current_thread().name}\")\n",
        "    await asyncio.sleep(2)  # Simulate coffee preparation time\n",
        "    print(\"\\tCoffee is ready!\")\n",
        "\n",
        "async def make_pastry_async():\n",
        "    print(f\"\\tMaking pastry... : Thread Name: {threading.current_thread().name}\")\n",
        "    await asyncio.sleep(3)  # Simulate pastry preparation time\n",
        "    print(\"\\tPastry is ready!\")\n",
        "\n",
        "async def order_async():\n",
        "    tasks = [\n",
        "        asyncio.create_task(make_coffee_async()),\n",
        "        asyncio.create_task(make_pastry_async())\n",
        "    ]\n",
        "    await asyncio.gather(*tasks)\n",
        "\n",
        "# Run the synchronous example\n",
        "print(\"Synchronous approach:\")\n",
        "start_time = time.time()\n",
        "\n",
        "print(\"Main thread entring order_sync()\")\n",
        "order_sync()\n",
        "print(\"Main thread exiting order_sync()\")\n",
        "\n",
        "print(f\"Total time: {time.time() - start_time} seconds\")\n",
        "\n",
        "# Run the asynchronous example\n",
        "print(\"\\nAsynchronous approach:\")\n",
        "start_time = time.time()\n",
        "\n",
        "\n",
        "\n",
        "print(\"Main thread entring order_async()\")\n",
        "#asyncio.run(order_async()) # This will work in stand alone IDE (VSCode, Cursor)\n",
        "\n",
        "# Instead of creating and setting a new event loop,\n",
        "# get the current running loop in the notebook\n",
        "await asyncio.create_task(order_async()) # Workaround for Colab, # Option 2: schedule as a background task\n",
        "# Use asyncio.run or create_task to schedule your coroutine\n",
        "# within the existing event loop\n",
        "# asyncio.run(order_async()) # Option 1: if no other async tasks are running\n",
        "# You should not try to create a new event loop or set it as the running loop within a Jupyter Notebook.\n",
        "print(\"Main thread exiting order_async()\")\n",
        "\n",
        "print(f\"Total time: {time.time() - start_time} seconds\")"
      ],
      "metadata": {
        "colab": {
          "base_uri": "https://localhost:8080/"
        },
        "id": "9IHym404iPqf",
        "outputId": "dc541e3d-24aa-4fea-9194-241cb7b2f9b8"
      },
      "execution_count": 1,
      "outputs": [
        {
          "output_type": "stream",
          "name": "stdout",
          "text": [
            "Synchronous approach:\n",
            "Main thread entring order_sync()\n",
            "\tMaking coffee... : Thread Name: MainThread\n",
            "\tCoffee is ready!\n",
            "\tMaking pastry... : Thread Name: MainThread\n",
            "\tPastry is ready!\n",
            "Main thread exiting order_sync()\n",
            "Total time: 5.0010826587677 seconds\n",
            "\n",
            "Asynchronous approach:\n",
            "Main thread entring order_async()\n",
            "\tMaking coffee... : Thread Name: MainThread\n",
            "\tMaking pastry... : Thread Name: MainThread\n",
            "\tCoffee is ready!\n",
            "\tPastry is ready!\n",
            "Main thread exiting order_async()\n",
            "Total time: 3.002889633178711 seconds\n"
          ]
        }
      ]
    },
    {
      "cell_type": "markdown",
      "source": [
        "In the synchronous example, the `make_coffee_sync` and `make_pastry_sync` functions are called sequentially, resulting in a total execution time of 5 seconds.\n",
        "\n",
        "In the asynchronous example, the `make_coffee_async` and `make_pastry_async` coroutines are run concurrently using `asyncio.create_task` and `asyncio.gather`. This reduces the total execution time to approximately 3 seconds, as the coffee and pastry are prepared simultaneously.\n",
        "\n",
        "**Best Practices**\n",
        "------------------\n",
        "\n",
        "*   **Use `asyncio.run()`**: Run your asynchronous code using `asyncio.run()` to ensure proper event loop setup and teardown.\n",
        "*   **Await Coroutines**: Use the `await` keyword to wait for the completion of coroutines.\n",
        "*   **Use `asyncio.gather()`**: Run multiple coroutines concurrently using `asyncio.gather()`.\n",
        "\n",
        "**Common Asyncio Functions**\n",
        "---------------------------\n",
        "\n",
        "*   `asyncio.sleep()`: Suspends the execution of the current coroutine for a specified amount of time.\n",
        "*   `asyncio.create_task()`: Creates a new task from a coroutine, allowing it to run concurrently.\n",
        "*   `asyncio.gather()`: Runs multiple coroutines concurrently and returns their results as a list.\n",
        "\n",
        "By following these guidelines and using Asyncio effectively, you can write efficient and responsive asynchronous code in Python."
      ],
      "metadata": {
        "id": "fldY9fqSjEcn"
      }
    },
    {
      "cell_type": "markdown",
      "source": [
        "## **Understanding `asyncio` and `await`**"
      ],
      "metadata": {
        "id": "mWPyjqS72VAH"
      }
    },
    {
      "cell_type": "markdown",
      "source": [
        "`asyncio` provides the event loop and tools to manage async operations, while `await` is the keyword that allows functions to yield control at specific points, enabling non-blocking waits. Using them together allows writing efficient `single-threaded concurrent code`, especially for I/O-bound tasks."
      ],
      "metadata": {
        "id": "qPgmuGXM2avW"
      }
    },
    {
      "cell_type": "markdown",
      "source": [
        "To address the question of understanding `asyncio` and `await` in Python, let's break down the concepts and their usage:\n",
        "\n",
        "### Understanding `asyncio` and `await`\n",
        "\n",
        "1. **Asyncio**:\n",
        "\n",
        "   - **Definition**: Asyncio is a Python library that facilitates writing single-threaded concurrent code using coroutines, multiplexing I/O access over sockets, and other resources. It's ideal for handling I/O-bound tasks, such as network requests or database queries.\n",
        "\n",
        "   - **Key Components**:\n",
        "     - **Event Loop**: Manages the scheduling and switching between tasks.\n",
        "\n",
        "     - **Coroutines**: Functions defined with `async def` that can suspend and resume execution.\n",
        "     - **Tasks**: Used to run coroutines concurrently.\n",
        "     - **Futures**: Represent the result of a task that may not have completed yet.(we will discuss `futures` later on)\n",
        "\n",
        "2. **Await**:\n",
        "\n",
        "   - **Definition**: `await` is a keyword used within async functions to suspend the execution of the coroutine until the awaited task is complete. It allows the event loop to handle other tasks while waiting.\n",
        "\n",
        "   - **Usage**: It is used to wait for coroutines, tasks, or futures, enabling non-blocking operations."
      ],
      "metadata": {
        "id": "of8SLcRK2nXQ"
      }
    },
    {
      "cell_type": "markdown",
      "source": [
        "### Difference Between `asyncio` and `await`\n",
        "\n",
        "- **Asyncio**: The library provides the framework for asynchronous operations, including the event loop and tools for creating and managing tasks.\n",
        "- **Await**: The keyword used within async functions to create points where execution can yield control back to the event loop, allowing other tasks to run.\n",
        "\n",
        "### Using Them Together\n",
        "\n",
        "1. **Basic Structure**:\n",
        "   - Define an async function using `async def`.\n",
        "   - Use `await` within the function to wait for coroutines.\n",
        "   - Run the top-level async function with `asyncio.run()`.\n",
        "   \n",
        "\n",
        "2. **Example**:"
      ],
      "metadata": {
        "id": "d7qKyoaM30iW"
      }
    },
    {
      "cell_type": "code",
      "source": [
        "import asyncio\n",
        "\n",
        "async def my_function():\n",
        "  await asyncio.sleep(4)\n",
        "  print(\"Hello\")\n",
        "\n",
        "async def main():\n",
        "  await my_function()\n",
        "\n",
        "#asyncio.run(main())\n",
        "await asyncio.create_task(main())"
      ],
      "metadata": {
        "colab": {
          "base_uri": "https://localhost:8080/"
        },
        "id": "z_MwFMtz4AOM",
        "outputId": "98de4884-a945-42e0-d1de-e75d710cd95d"
      },
      "execution_count": null,
      "outputs": [
        {
          "output_type": "stream",
          "name": "stdout",
          "text": [
            "Hello\n"
          ]
        }
      ]
    },
    {
      "cell_type": "code",
      "source": [
        "import asyncio\n",
        "\n",
        "async def task1():\n",
        "       await asyncio.sleep(4)\n",
        "       print(\"Task 1 done\")\n",
        "\n",
        "async def task2():\n",
        "       await asyncio.sleep(1)\n",
        "       print(\"Task 2 done\")\n",
        "\n",
        "async def main():\n",
        "       t1 = asyncio.create_task(task1())\n",
        "       t2 = asyncio.create_task(task2())\n",
        "       print(t2)\n",
        "       await asyncio.gather(t1, t2)\n",
        "\n",
        "#asyncio.run(main())\n",
        "await asyncio.create_task(main())"
      ],
      "metadata": {
        "colab": {
          "base_uri": "https://localhost:8080/"
        },
        "id": "Ppt91_oD5Tny",
        "outputId": "7ff2cee1-6778-4939-9892-2892ace25d99"
      },
      "execution_count": null,
      "outputs": [
        {
          "output_type": "stream",
          "name": "stdout",
          "text": [
            "<Task pending name='Task-25' coro=<task2() running at <ipython-input-6-59354714ae6a>:7>>\n",
            "Task 2 done\n",
            "Task 1 done\n"
          ]
        }
      ]
    },
    {
      "cell_type": "markdown",
      "source": [
        "### Implications\n",
        "\n",
        "- **Efficiency**: Ideal for I/O-bound tasks, allowing efficient handling of multiple operations without blocking.\n",
        "\n",
        "- **Single-Threaded**: Not suitable for CPU-bound tasks, which may require multiprocessing.\n",
        "- **Correct Usage**: Ensure all coroutines are awaited properly to avoid returning coroutine objects instead of results.\n",
        "\n",
        "### Conclusion\n",
        "\n",
        "`asyncio` and `await` work together to enable asynchronous programming in Python, allowing for efficient handling of concurrent operations, particularly in I/O-bound scenarios. Understanding their roles and correct usage is key to writing effective async code."
      ],
      "metadata": {
        "id": "gvIpYYQf5lKa"
      }
    },
    {
      "cell_type": "markdown",
      "source": [
        "## **Futures**\n",
        "\n",
        "\n",
        "\n",
        "---\n",
        "\n",
        "\n",
        "\n",
        "In Python's `asyncio` library, **Futures** are a fundamental concept that represents the result of an asynchronous operation that may not have completed yet. Futures are closely related to coroutines and tasks, but they serve a specific purpose in handling asynchronous operations.\n",
        "\n",
        "### **What Are Futures**?\n",
        "\n",
        "A **Future** is an object that represents the result of a task that is not yet complete. It acts as a placeholder for the result, which will be available at some point in the future. Once the task completes, the Future is resolved, and its result (or exception, if the task failed) can be retrieved.\n",
        "\n",
        "### **Key Characteristics of Futures**\n",
        "\n",
        "1. **Asynchronous Result**:\n",
        "   - A Future is created when an asynchronous operation is initiated, but the result of that operation is not immediately available.\n",
        "   - The Future keeps track of the result and notifies any waiting code once the result is available.\n",
        "\n",
        "2. **States of a Future**:\n",
        "   - **Pending**: The initial state where the operation has not yet started or is still in progress.\n",
        "   - **Done**: The operation has completed, and the result is available.\n",
        "   - **Cancelled**: The operation was cancelled before it could complete.\n",
        "\n",
        "3. **Awaitable**:\n",
        "   - Futures are awaitable objects, meaning they can be used with the `await` keyword in async functions.\n",
        "\n",
        "4. **One-Time Use**:\n",
        "   - A Future can only be resolved once. Once it is done, it cannot be reset or reused.\n",
        "\n",
        "### **Relationship Between Futures, Coroutines, and Tasks**\n",
        "\n",
        "- **Coroutines**: Defined using `async def`, coroutines are functions that can be paused and resumed. They are not directly executable and must be scheduled as tasks.\n",
        "  \n",
        "- **Tasks**: A Task wraps a coroutine and is responsible for running it. When you create a Task, it automatically schedules the coroutine to run on the event loop. A Task returns a Future that represents the result of the coroutine.\n",
        "\n",
        "- **Futures**: A Future is the result of a Task. When you await a Task, you are effectively awaiting its Future.\n",
        "\n",
        "### **Example of Using Futures**\n",
        "\n",
        "Here’s an example that demonstrates how Futures work:"
      ],
      "metadata": {
        "id": "rJz1gZrI6UKe"
      }
    },
    {
      "cell_type": "code",
      "source": [
        "import asyncio\n",
        "\n",
        "async def my_coroutine():\n",
        "    await asyncio.sleep(1)\n",
        "    return \"Coroutine completed\"\n",
        "\n",
        "async def main():\n",
        "    # Create a Task (which returns a Future)\n",
        "    future = asyncio.create_task(my_coroutine())\n",
        "    print(\"future: \",future)\n",
        "    print(\"Going to Maldives on a 2 day vacation\")\n",
        "    await asyncio.sleep(5)\n",
        "    print(\"Come back from vacation\")\n",
        "\n",
        "\n",
        "    # Await the Future\n",
        "    result = await future\n",
        "    print(result)\n",
        "\n",
        "#asyncio.run(main())\n",
        "await asyncio.create_task(main())"
      ],
      "metadata": {
        "colab": {
          "base_uri": "https://localhost:8080/"
        },
        "id": "wIKt1fXK8qK8",
        "outputId": "65e08ec6-75db-4036-c9c2-006cfd79010d"
      },
      "execution_count": null,
      "outputs": [
        {
          "output_type": "stream",
          "name": "stdout",
          "text": [
            "future:  <Task pending name='Task-28' coro=<my_coroutine() running at <ipython-input-7-623f1bf2d1fe>:3>>\n",
            "Going to Maldives on a 2 day vacation\n",
            "Come back from vacation\n",
            "Coroutine completed\n"
          ]
        }
      ]
    },
    {
      "cell_type": "markdown",
      "source": [
        "**Introduction to Threads**\n",
        "==========================\n",
        "\n",
        "Threads are a fundamental concept in programming, allowing multiple tasks to run concurrently within a single program. In this tutorial, we will cover the basics of threads, their benefits, and how to use them effectively.\n",
        "\n",
        "\n",
        "\n",
        "---\n",
        "\n",
        "\n",
        "**What are Threads?**\n",
        "--------------------\n",
        "\n",
        "A thread is a separate flow of execution within a program, allowing multiple tasks to run simultaneously. Each thread has its own program counter, stack, and local variables, but shares the same memory space as other threads.\n",
        "\n",
        "\n",
        "**Key Concepts of Threading**\n",
        "\n",
        "1.  **Thread**: A thread is the smallest unit of a process that can be scheduled and executed. Threads within the same process share the same memory space.\n",
        "\n",
        "2.  **Concurrency**: Python threads run in the same process concurrently. However, due to the Global Interpreter Lock (GIL), only one thread executes Python bytecode at a time.\n",
        "\n",
        "3.  **Use Cases**: Threading is best suited for:\n",
        "    * I/O-bound tasks (e.g., file reading/writing, network requests).\n",
        "    * Tasks that involve waiting for external resources.\n",
        "\n",
        "**Note**: For CPU-bound tasks, consider using the multiprocessing module instead."
      ],
      "metadata": {
        "id": "JqvNtBzIYfPo"
      }
    },
    {
      "cell_type": "markdown",
      "source": [
        "## **Understanding The Concept of Concurrency and Parallelism**\n",
        "\n",
        "**Concurrency: switching between tasks, giving the illusion of simultaneous execution."
      ],
      "metadata": {
        "id": "uDujEiH5cqzF"
      }
    },
    {
      "cell_type": "markdown",
      "source": [
        "![0_E0u400kg-QgUuo0t.webp](data:image/webp;base64,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)"
      ],
      "metadata": {
        "id": "Tl_0nj49c2Hk"
      }
    },
    {
      "cell_type": "markdown",
      "source": [
        "[Source: Threading vs Multiprocessing in Python: A Comprehensive Guide](https://medium.com/@arjunprakash027/threading-vs-multiprocessing-in-python-a-comprehensive-guide-cae3ce0ca6c1)"
      ],
      "metadata": {
        "id": "wlBqS5S-c8L0"
      }
    },
    {
      "cell_type": "markdown",
      "source": [
        "![Untitled.png](data:image/png;base64,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)"
      ],
      "metadata": {
        "id": "Uk_U9V1EdzW0"
      }
    },
    {
      "cell_type": "markdown",
      "source": [
        "Concurrency and parallelism are two important concepts in programming, particularly when dealing with tasks that can be executed simultaneously. While they are often used interchangeably, they refer to different approaches to handling multiple tasks. Here’s a breakdown of both concepts in the context of Python:"
      ],
      "metadata": {
        "id": "tzKLXm-wfD6K"
      }
    },
    {
      "cell_type": "markdown",
      "source": [
        "## **Concurrency**\n",
        "\n",
        "**Definition**:\n",
        "\n",
        "Concurrency is the ability of a program to manage multiple tasks at the same time. It does not necessarily mean that the tasks are being executed simultaneously; rather, it means that the program can switch between tasks, giving the illusion of simultaneous execution.\n",
        "\n",
        "**Key Points**:\n",
        "\n",
        "- **Single Core**:\n",
        "\n",
        "     Concurrency can be achieved on a single-core processor by interleaving the execution of tasks. The operating system can switch between tasks, allowing one task to run while another is waiting (e.g., for I/O operations).\n",
        "\n",
        "- **I/O-Bound Tasks**:\n",
        "\n",
        "     Concurrency is particularly useful for I/O-bound tasks, such as network requests, file I/O, or database queries, where tasks spend a significant amount of time waiting for external resources.\n",
        "\n",
        "\n",
        "- **Threading and Asyncio**:\n",
        "\n",
        "     In Python, concurrency can be achieved using threads (via the threading module) or asynchronous programming (via the asyncio module). Both approaches allow for managing multiple tasks without blocking the main thread."
      ],
      "metadata": {
        "id": "wyCkYBP5fIOa"
      }
    },
    {
      "cell_type": "markdown",
      "source": [
        "**Thread States**\n",
        "----------------\n",
        "\n",
        "A thread can be in one of the following states:\n",
        "\n",
        "1. **New**: The thread is created but not yet started.\n",
        "2. **Runnable**: The thread is running and executing its instructions.\n",
        "3. **Blocked**: The thread is waiting for a resource, such as a lock or I/O operation.\n",
        "4. **Waiting**: The thread is waiting for a specific condition to be met, such as a notification or timeout.\n",
        "5. **Timed Waiting**: The thread is waiting for a specific condition to be met, with a timeout.\n",
        "6. **Terminated**: The thread has completed its execution and is no longer running.\n",
        "\n",
        "**Thread Synchronization**\n",
        "-------------------------\n",
        "\n",
        "Thread synchronization is the process of coordinating the execution of multiple threads to ensure data consistency and prevent conflicts. Common synchronization techniques include:\n",
        "\n",
        "1. **Locks**: A lock is a mechanism that allows only one thread to access a shared resource at a time.\n",
        "2. **Semaphores**:(*seh.muh.forz*) A semaphore is a variable that controls the access to a shared resource, allowing a limited number of threads to access it simultaneously.\n",
        "3. **Monitors**: A monitor is a synchronization construct that allows threads to synchronize their execution and access to shared resources.\n",
        "\n",
        "**Thread Communication**\n",
        "----------------------\n",
        "\n",
        "Thread communication refers to the exchange of data between threads. Common techniques include:\n",
        "\n",
        "1. **Shared Variables**: Shared variables are variables that can be accessed by multiple threads.\n",
        "2. **Message Passing**: Message passing is a technique where threads communicate by sending and receiving messages.\n",
        "3. **Pipes**: Pipes are a unidirectional communication channel that allows threads to send data to each other.\n"
      ],
      "metadata": {
        "id": "hci2qvJJZuzG"
      }
    },
    {
      "cell_type": "markdown",
      "source": [
        "## **How to Use threading in Python**\n",
        "\n",
        "### Basic Example\n",
        "\n",
        "1.  **Thread Creation and Execution**:\n",
        "\n",
        "  A new thread (my_thread) is created to run the print_numbers function, which prints numbers from 0 to 4 with a 1-second delay between each print. The thread is started using my_thread.start(), allowing it to run concurrently with the main thread.\n",
        "\n",
        "2.  **Concurrency**:\n",
        "\n",
        "      After starting the thread, the main thread continues executing its own code independently. The print statement \"Main thread is still running!\" is executed immediately after my_thread.start(), showing that both threads are running concurrently.\n",
        "\n",
        "3.  **Main Thread Pauses Temporarily**:\n",
        "\n",
        "      The time.sleep(3) in the main thread causes it to pause for 3 seconds while the print_numbers thread continues to execute in the background. During this time, numbers from the print_numbers function will be printed.\n",
        "      \n",
        "      `(I have change the sleep time to 0(zero)in example)`\n",
        "\n",
        "4.  **Synchronization Using join()**:\n",
        "\n",
        "      After the main thread resumes, it calls my_thread.join(). This causes the main thread to wait until the my_thread thread finishes its execution (i.e., finishes printing all numbers). This ensures that the main thread does not terminate prematurely.\n",
        "\n",
        "5.  **Thread Completion**:\n",
        "\n",
        "      Once the my_thread thread finishes executing the print_numbers function, control returns to the main thread, which then prints \"Thread finished!\", signaling the end of the program."
      ],
      "metadata": {
        "id": "IEeciS79aw61"
      }
    },
    {
      "cell_type": "code",
      "source": [
        "import threading\n",
        "import time\n",
        "\n",
        "# Function to be run in a thread\n",
        "def print_numbers():\n",
        "    for i in range(5):\n",
        "        print(f\"Number: {i} : Thread Name: {threading.current_thread().name}\")\n",
        "        time.sleep(3) # change the sleep value, play and learn\n",
        "\n",
        "# Create a thread\n",
        "my_thread = threading.Thread(target=print_numbers, name='Worker Thread')\n",
        "\n",
        "# Start the thread\n",
        "my_thread.start()\n",
        "\n",
        "# Main thread continues executing\n",
        "print(f\"After spawning other threads Main thread is continue doing its works! : Thread Name: {threading.current_thread().name}\")\n",
        "\n",
        "time.sleep(0) # change the sleep value, play and learn\n",
        "\n",
        "print(f\"Main thread is waiting for other threads to join: my_thread.join() : Thread Name: {threading.current_thread().name}\")\n",
        "# Wait for the thread to finish\n",
        "my_thread.join()\n",
        "\n",
        "print(f\"Main thread starts executing becuase all other threads join main thread : Thread Name: {threading.current_thread().name}\")\n",
        "\n",
        "print(f\"Main Thread finished! : Thread Name: {threading.current_thread().name}\")"
      ],
      "metadata": {
        "colab": {
          "base_uri": "https://localhost:8080/"
        },
        "id": "wUSBqNMza-rR",
        "outputId": "4ea8f6b8-be94-47ae-92d3-420d11596d80"
      },
      "execution_count": null,
      "outputs": [
        {
          "output_type": "stream",
          "name": "stdout",
          "text": [
            "Number: 0 : Thread Name: Worker Thread\n",
            "After spawning other threads Main thread is continue doing its works! : Thread Name: MainThread\n",
            "Main thread is waiting for other threads to join: my_thread.join() : Thread Name: MainThread\n",
            "Number: 1 : Thread Name: Worker Thread\n",
            "Number: 2 : Thread Name: Worker Thread\n",
            "Number: 3 : Thread Name: Worker Thread\n",
            "Number: 4 : Thread Name: Worker Thread\n",
            "Main thread starts executing becuase all other threads join main thread : Thread Name: MainThread\n",
            "Main Thread finished! : Thread Name: MainThread\n"
          ]
        }
      ]
    },
    {
      "cell_type": "markdown",
      "source": [
        "## **Lets Try To Understand The Difference Between `asyncio` and `threading`**"
      ],
      "metadata": {
        "id": "0tpVUXwxpgaK"
      }
    },
    {
      "cell_type": "markdown",
      "source": [
        "Both asyncio and the threading module in Python provide mechanisms for concurrency, but they do so in different ways and are suited for different types of tasks. Let's break down the differences between concurrency in asyncio and concurrency in threading."
      ],
      "metadata": {
        "id": "UzGmBUK0p2ha"
      }
    },
    {
      "cell_type": "markdown",
      "source": [
        "## **Concurrency with asyncio**\n",
        "\n",
        "1.  **Event-Driven Model**:\n",
        "\n",
        "  - asyncio uses an event-driven model where a single thread runs an event loop. This loop manages the execution of multiple coroutines, allowing them to yield control back to the event loop when they are waiting for I/O operations to complete.\n",
        "\n",
        "  - This means that while one coroutine is waiting (e.g., for a network response), the event loop can switch to another coroutine that is ready to run.\n",
        "\n",
        "2.  **Coroutines**:\n",
        "\n",
        "  - Coroutines are defined using the async def syntax and can be paused and resumed using the await keyword. This allows for cooperative multitasking, where coroutines voluntarily yield control.\n",
        "\n",
        "  - This model is particularly efficient for I/O-bound tasks, such as network requests or file operations, where the program spends a lot of time waiting.\n",
        "\n",
        "3.  **Single Thread**:\n",
        "\n",
        "  - asyncio typically runs in a single thread, which means it does not take advantage of multiple CPU cores for CPU-bound tasks. However, it can handle many I/O-bound tasks concurrently without the overhead of thread management.\n",
        "\n",
        "4.  **Use Cases**:\n",
        "\n",
        "  - asyncio is ideal for applications that require handling many simultaneous I/O operations, such as web servers, web scraping, or any application that needs to manage multiple network connections."
      ],
      "metadata": {
        "id": "vKgHb7kGp-Hq"
      }
    },
    {
      "cell_type": "markdown",
      "source": [
        "## **Concurrency with threading**\n",
        "\n",
        "1.  **Thread-Based Model**:\n",
        "\n",
        "  - The threading module allows you to create multiple threads within a single process. Each thread can run independently and can be scheduled by the operating system to run on different CPU cores.\n",
        "\n",
        "  - This model is suitable for both I/O-bound and CPU-bound tasks, as threads can run in parallel on multiple cores.\n",
        "\n",
        "2.  **Preemptive Multitasking**:\n",
        "\n",
        "  - Threads are managed by the operating system, which can preemptively switch between threads. This means that a thread can be interrupted and another thread can be scheduled to run, allowing for true parallel execution on multi-core systems.\n",
        "\n",
        "3.  **Global Interpreter Lock (GIL)**:\n",
        "\n",
        "  - In CPython (the standard implementation of Python), the Global Interpreter Lock (GIL) allows only one thread to execute Python bytecode at a time. This can limit the performance of CPU-bound tasks when using threads, as they cannot fully utilize multiple cores.\n",
        "\n",
        "  - However, for I/O-bound tasks, threads can still be beneficial, as they can perform I/O operations while other threads are waiting.\n",
        "\n",
        "4.  **Use Cases**:\n",
        "\n",
        "  - The threading module is suitable for applications that require concurrent execution of tasks, such as GUI applications, network servers, or any application that needs to perform multiple tasks simultaneously."
      ],
      "metadata": {
        "id": "p_DmCU-8qypB"
      }
    },
    {
      "cell_type": "markdown",
      "source": [
        "Summary of Differences\n",
        "\n",
        "| Aspect | asyncio | threading |\n",
        "|-----------------------|------------------------------------|--------------------------------------|\n",
        "| Model | Event-driven, single-threaded | Thread-based, multi-threaded |\n",
        "| Task Type | Best for I/O-bound tasks | Suitable for both I/O-bound and CPU-bound tasks |\n",
        "| Execution | Cooperative multitasking | Preemptive multitasking |\n",
        "| Performance | Efficient for many concurrent I/O operations | Limited by GIL for CPU-bound tasks |\n",
        "| Complexity | Requires understanding of async/await syntax | More straightforward for traditional threading |\n",
        "\n",
        "<br>\n",
        "\n",
        "## **Conclusion**\n",
        "\n",
        "In summary, both asyncio and threading provide ways to achieve concurrency in Python, but they are suited for different types of tasks and have different execution models. asyncio is ideal for I/O-bound tasks that can benefit from cooperative multitasking, while threading is more versatile for both I/O-bound and CPU-bound tasks, albeit with some limitations due to the GIL in CPython. Understanding the strengths and weaknesses of each approach will help you choose the right one for your specific use case."
      ],
      "metadata": {
        "id": "-8WLN7r2tLvG"
      }
    },
    {
      "cell_type": "markdown",
      "source": [
        "## **Creating Threads with a Class**\n",
        "\n",
        "You can create a custom thread class by subclassing threading.Thread:"
      ],
      "metadata": {
        "id": "RXH1exMQbPmt"
      }
    },
    {
      "cell_type": "code",
      "source": [
        "import threading\n",
        "import time\n",
        "\n",
        "class MyThread(threading.Thread):\n",
        "    def run(self):\n",
        "        for i in range(5):\n",
        "            print(f\"Thread {threading.current_thread().name}: {i}\")\n",
        "            time.sleep(1)\n",
        "\n",
        "# Create and start the thread\n",
        "my_thread = MyThread(name=\"MyCustomThread\")\n",
        "\n",
        "\n",
        "# Wait for the thread to finish\n",
        "my_thread.start()\n",
        "\n",
        "# Wait for the thread to finish\n",
        "my_thread.join()\n",
        "print(\"Thread execution completed.\")"
      ],
      "metadata": {
        "colab": {
          "base_uri": "https://localhost:8080/"
        },
        "id": "oEm1J32qbT_9",
        "outputId": "41c0b964-17f3-4e38-80f8-c5c7b3433216"
      },
      "execution_count": null,
      "outputs": [
        {
          "output_type": "stream",
          "name": "stdout",
          "text": [
            "Thread MyCustomThread: 0\n",
            "Thread MyCustomThread: 1\n",
            "Thread MyCustomThread: 2\n",
            "Thread MyCustomThread: 3\n",
            "Thread MyCustomThread: 4\n",
            "Thread execution completed.\n"
          ]
        }
      ]
    },
    {
      "cell_type": "markdown",
      "source": [
        "Here's a simple example of a multi-threaded program in Python. This program uses the `threading` module to create two threads that print numbers from 0 to 9 and letters from A to J, respectively."
      ],
      "metadata": {
        "id": "OuGq7PcSbuhc"
      }
    },
    {
      "cell_type": "code",
      "source": [
        "import threading\n",
        "import time\n",
        "\n",
        "def print_numbers():\n",
        "    for i in range(10):\n",
        "        time.sleep(2)  # simulate some work\n",
        "        print(f\"Thread {threading.current_thread().name}: Number: {i}\")\n",
        "\n",
        "def print_letters():\n",
        "    for letter in \"ABCDEFGHIJ\":\n",
        "        time.sleep(1)  # simulate some work\n",
        "        print(f\"Thread {threading.current_thread().name}: Letter: {letter}\")\n",
        "\n",
        "# Create two threads\n",
        "thread1 = threading.Thread(target=print_numbers)\n",
        "thread2 = threading.Thread(target=print_letters)\n",
        "\n",
        "# Start the threads\n",
        "thread1.start()\n",
        "thread2.start()\n",
        "\n",
        "# Wait for the threads to finish\n",
        "thread1.join()\n",
        "thread2.join()\n",
        "\n",
        "print(\"Both threads have finished.\")"
      ],
      "metadata": {
        "colab": {
          "base_uri": "https://localhost:8080/"
        },
        "id": "OUczQ_HAbvPs",
        "outputId": "0ca82e8c-81b0-44cd-e51b-8a55c091ae68"
      },
      "execution_count": null,
      "outputs": [
        {
          "output_type": "stream",
          "name": "stdout",
          "text": [
            "Thread Thread-17 (print_letters): Letter: A\n",
            "Thread Thread-16 (print_numbers): Number: 0\n",
            "Thread Thread-17 (print_letters): Letter: B\n",
            "Thread Thread-17 (print_letters): Letter: C\n",
            "Thread Thread-16 (print_numbers): Number: 1\n",
            "Thread Thread-17 (print_letters): Letter: D\n",
            "Thread Thread-17 (print_letters): Letter: E\n",
            "Thread Thread-16 (print_numbers): Number: 2\n",
            "Thread Thread-17 (print_letters): Letter: F\n",
            "Thread Thread-17 (print_letters): Letter: G\n",
            "Thread Thread-16 (print_numbers): Number: 3\n",
            "Thread Thread-17 (print_letters): Letter: H\n",
            "Thread Thread-17 (print_letters): Letter: I\n",
            "Thread Thread-16 (print_numbers): Number: 4\n",
            "Thread Thread-17 (print_letters): Letter: J\n",
            "Thread Thread-16 (print_numbers): Number: 5\n",
            "Thread Thread-16 (print_numbers): Number: 6\n",
            "Thread Thread-16 (print_numbers): Number: 7\n",
            "Thread Thread-16 (print_numbers): Number: 8\n",
            "Thread Thread-16 (print_numbers): Number: 9\n",
            "Both threads have finished.\n"
          ]
        }
      ]
    },
    {
      "cell_type": "markdown",
      "source": [
        "## **Daemon Threads**\n",
        "\n",
        "A daemon thread runs in the background and is terminated automatically when the main thread exits. Use daemon threads for background tasks."
      ],
      "metadata": {
        "id": "3X-OYurQre7y"
      }
    },
    {
      "cell_type": "code",
      "source": [
        "import threading\n",
        "import time\n",
        "\n",
        "def background_task():\n",
        "    while True:\n",
        "        print(\"Background task is running...\")\n",
        "        time.sleep(1)\n",
        "\n",
        "# Create a daemon thread\n",
        "daemon_thread = threading.Thread(target=background_task, daemon=True)\n",
        "daemon_thread.start()\n",
        "\n",
        "time.sleep(3)\n",
        "print(\"Main program exiting...\")"
      ],
      "metadata": {
        "colab": {
          "base_uri": "https://localhost:8080/"
        },
        "id": "WSXTpsaYritq",
        "outputId": "f1403bbf-39e4-40b2-bcee-804b52619600"
      },
      "execution_count": null,
      "outputs": [
        {
          "output_type": "stream",
          "name": "stdout",
          "text": [
            "Background task is running...\n",
            "Background task is running...\n",
            "Background task is running...\n",
            "Background task is running...\n",
            "Background task is running...\n",
            "Background task is running...\n",
            "Main program exiting...\n",
            "Background task is running...\n"
          ]
        }
      ]
    },
    {
      "cell_type": "markdown",
      "source": [
        "Output:\n",
        "The background_task will stop running when the main program exits.\n",
        "\n",
        "\n",
        "\n",
        "---\n",
        "\n"
      ],
      "metadata": {
        "id": "BR_An4AyrvDi"
      }
    },
    {
      "cell_type": "markdown",
      "source": [
        "## **Thread Synchronization**\n",
        "\n",
        "When multiple threads access shared resources (e.g., variables, files), synchronization is needed to avoid race conditions.\n",
        "\n",
        "**Using Locks**\n",
        "\n",
        "A Lock ensures that only one thread can access a critical section of code at a time."
      ],
      "metadata": {
        "id": "UUJIlcz1eI8n"
      }
    },
    {
      "cell_type": "code",
      "source": [
        "import threading\n",
        "\n",
        "counter_1 = 0\n",
        "counter_2 = 0\n",
        "counter_lock = threading.Lock()\n",
        "\n",
        "def increment_counter():\n",
        "    global counter_1, counter_2\n",
        "\n",
        "    for _ in range(100000):\n",
        "        # Acquire lock before modifying the shared variable\n",
        "        with counter_lock:\n",
        "            counter_1 += 1\n",
        "            counter_2 += 2\n",
        "\n",
        "# Create two threads\n",
        "thread1 = threading.Thread(target=increment_counter)\n",
        "thread2 = threading.Thread(target=increment_counter)\n",
        "\n",
        "# Start threads\n",
        "thread1.start()\n",
        "thread2.start()\n",
        "\n",
        "# Wait for threads to finish\n",
        "thread1.join()\n",
        "thread2.join()\n",
        "\n",
        "print(f\"Final Counter Value: counter_1={counter_1} , counter_2={counter_2}\")"
      ],
      "metadata": {
        "colab": {
          "base_uri": "https://localhost:8080/"
        },
        "id": "hMyxeot9eRQT",
        "outputId": "ec580054-545e-49a6-eb2f-481447fd26f3"
      },
      "execution_count": null,
      "outputs": [
        {
          "output_type": "stream",
          "name": "stdout",
          "text": [
            "Final Counter Value: counter_1=200000 , counter_2=400000\n"
          ]
        }
      ]
    },
    {
      "cell_type": "code",
      "source": [
        "import threading\n",
        "\n",
        "# Shared resource\n",
        "counter = 0\n",
        "\n",
        "# Lock object\n",
        "lock = threading.Lock()\n",
        "\n",
        "def increment_counter():\n",
        "    global counter\n",
        "    with lock:  # Lock is automatically acquired and released\n",
        "        counter += 1\n",
        "    print(f\"Counter: {counter}\")\n",
        "\n",
        "# Create and start 5 threads\n",
        "threads = []\n",
        "for _ in range(5):\n",
        "    thread = threading.Thread(target=increment_counter, name=\"MyCustomThread\")\n",
        "    thread.start()\n",
        "    threads.append(thread)\n",
        "\n",
        "# Wait for all threads to finish\n",
        "for thread in threads:\n",
        "    thread.join()\n",
        "\n",
        "print(\"Waiting finish for main thread, all other thread joined main thread\")\n",
        "\n",
        "print(f\"Final Counter: {counter}\")"
      ],
      "metadata": {
        "colab": {
          "base_uri": "https://localhost:8080/"
        },
        "id": "XHJzrKBKhjSs",
        "outputId": "2e31bc8e-2c85-4e1f-8b3c-030945a8c901"
      },
      "execution_count": null,
      "outputs": [
        {
          "output_type": "stream",
          "name": "stdout",
          "text": [
            "Counter: 1Counter: 2\n",
            "Counter: 3\n",
            "\n",
            "Counter: 4\n",
            "Counter: 5\n",
            "Waiting finish for main thread, all other thread joined main thread\n",
            "Final Counter: 5\n"
          ]
        }
      ]
    },
    {
      "cell_type": "markdown",
      "source": [
        "## **What is with?**\n",
        "\n",
        "The with statement is used with objects that support the **context management** protocol, such as locks, files, etc. It ensures that resources are properly managed by performing setup and cleanup actions automatically.\n",
        "\n",
        "The syntax with counter_lock: is a convenient way of acquiring and automatically releasing a lock in Python using the context manager protocol. This approach avoids the need to explicitly acquire and release the lock, reducing the chances of errors (like forgetting to release the lock in the case of an exception)."
      ],
      "metadata": {
        "id": "Uc9lEbKOMKAU"
      }
    },
    {
      "cell_type": "markdown",
      "source": [
        "## **How Does It Work with Locks?**\n",
        "\n",
        "When using with counter_lock:, the following happens:\n",
        "\n",
        "1.  **Lock Acquisition:** The lock (counter_lock) is acquired before entering the block of code.\n",
        "\n",
        "2.  **Execution:** The code inside the with block executes while the lock is held.\n",
        "3.  **Lock Release:** The lock is automatically released when the block is exited, even if an exception occurs.\n",
        "\n",
        "This eliminates the need to explicitly call counter_lock.acquire() and counter_lock.release()."
      ],
      "metadata": {
        "id": "TiVvTDodMv2c"
      }
    },
    {
      "cell_type": "markdown",
      "source": [
        "\n",
        "Here’s an example of how with simplifies thread-safe code:\n",
        "\n",
        "Without with:"
      ],
      "metadata": {
        "id": "h-wJ0iipNPAk"
      }
    },
    {
      "cell_type": "code",
      "source": [
        "import threading\n",
        "\n",
        "counter = 0\n",
        "counter_lock = threading.Lock()\n",
        "\n",
        "def increment_counter():\n",
        "    global counter\n",
        "    for _ in range(10000):\n",
        "        counter_lock.acquire()  # Manually acquire the lock\n",
        "        try:\n",
        "            counter += 1\n",
        "        finally:\n",
        "            counter_lock.release()  # Manually release the lock\n",
        "\n",
        "# Create and start threads\n",
        "threads = [threading.Thread(target=increment_counter) for _ in range(2)]\n",
        "for t in threads: t.start()\n",
        "for t in threads: t.join()\n",
        "\n",
        "print(f\"Final Counter Value: {counter}\")"
      ],
      "metadata": {
        "colab": {
          "base_uri": "https://localhost:8080/"
        },
        "id": "yjVmgs4_Nhel",
        "outputId": "6c3471bf-17f6-4cdc-ad4d-80ccba5686ab"
      },
      "execution_count": null,
      "outputs": [
        {
          "output_type": "stream",
          "name": "stdout",
          "text": [
            "Final Counter Value: 20000\n"
          ]
        }
      ]
    },
    {
      "cell_type": "markdown",
      "source": [
        "## **Benefits of with counter_lock:**\n",
        "\n",
        "1.  **Cleaner Code**: Avoids the need to explicitly acquire and release the lock.\n",
        "2.  **Error Handling**: Ensures the lock is released even if an exception occurs.\n",
        "3.  **Readability**: The intent of locking is more explicit and easier to understand."
      ],
      "metadata": {
        "id": "K1gs42nfN4IM"
      }
    },
    {
      "cell_type": "markdown",
      "source": [
        "## **Underlying Mechanism**\n",
        "\n",
        "When you use with counter_lock:, the following happens:\n",
        "\n",
        "1.  counter_lock.\\_\\_enter__() is called to acquire the lock.\n",
        "2.  The code block executes.\n",
        "3.  When the block is exited, counter_lock.\\_\\_exit__() is called to release the lock.\n",
        "This is how the with statement works with all objects that implement the context management protocol (\\_\\_enter__ and \\_\\_exit__ methods)."
      ],
      "metadata": {
        "id": "nUMPwteLOLgn"
      }
    },
    {
      "cell_type": "markdown",
      "source": [
        "## **Conclusion**\n",
        "\n",
        "Using with counter_lock: is the preferred way to manage locks in Python because it is safer, more concise, and less error-prone. It ensures proper lock handling and improves the readability of your multithreaded code."
      ],
      "metadata": {
        "id": "_LzLaBh2OgMD"
      }
    },
    {
      "cell_type": "markdown",
      "source": [
        "\n",
        "\n",
        "---\n",
        "\n",
        "\n",
        "## **Thread Communication with queue.Queue**\n",
        "\n",
        "The queue.Queue module in Python provides a thread-safe way to communicate between threads. It allows you to safely pass data between producer and consumer threads without the need for explicit locking mechanisms. This is particularly useful in scenarios where one or more threads are producing data (e.g., generating tasks) and one or more threads are consuming that data (e.g., processing tasks).\n",
        "\n",
        "## **Example: Thread Communication with queue.Queue**\n",
        "\n",
        "In this example, we will create a simple producer-consumer scenario where one thread produces numbers and puts them into a queue, while another thread consumes those numbers from the queue and processes them."
      ],
      "metadata": {
        "id": "A1bjnSNMsdk5"
      }
    },
    {
      "cell_type": "code",
      "source": [
        "import threading\n",
        "import queue\n",
        "import time\n",
        "import random\n",
        "\n",
        "# Function for the producer thread\n",
        "def producer(q, num_items):\n",
        "    for i in range(num_items):\n",
        "        item = random.randint(1, 100)  # Produce a random number\n",
        "        q.put(item)  # Put the item in the queue\n",
        "        print(f\"Produced: {item}\")\n",
        "        time.sleep(random.uniform(0.1, 0.5))  # Simulate variable production time\n",
        "    q.put(None)  # Signal the consumer to stop\n",
        "\n",
        "# Function for the consumer thread\n",
        "def consumer(q):\n",
        "    while True:\n",
        "        item = q.get()  # Get an item from the queue\n",
        "        if item is None:  # Check for the stop signal\n",
        "            break\n",
        "        print(f\"Consumed: {item}\")\n",
        "        time.sleep(random.uniform(0.1, 0.5))  # Simulate variable processing time\n",
        "    print(\"Consumer finished processing.\")\n",
        "\n",
        "if __name__ == \"__main__\":\n",
        "    num_items = 10  # Number of items to produce\n",
        "    q = queue.Queue()  # Create a queue\n",
        "\n",
        "    # Create producer and consumer threads\n",
        "    producer_thread = threading.Thread(target=producer, args=(q, num_items))\n",
        "    consumer_thread = threading.Thread(target=consumer, args=(q,))\n",
        "\n",
        "    # Start the threads\n",
        "    producer_thread.start()\n",
        "    consumer_thread.start()\n",
        "\n",
        "    # Wait for the threads to finish\n",
        "    producer_thread.join()\n",
        "    consumer_thread.join()\n",
        "\n",
        "    print(\"All threads have finished.\")"
      ],
      "metadata": {
        "colab": {
          "base_uri": "https://localhost:8080/"
        },
        "id": "8IrKqQvzEHu0",
        "outputId": "28dca3a8-e727-4053-a5d7-859d41f6e32e"
      },
      "execution_count": null,
      "outputs": [
        {
          "output_type": "stream",
          "name": "stdout",
          "text": [
            "Produced: 98\n",
            "Consumed: 98\n",
            "Produced: 74\n",
            "Produced: 89\n",
            "Background task is running...\n",
            "Consumed: 74\n",
            "Background task is running...\n",
            "Produced: 83\n",
            "Produced: 1\n",
            "Consumed: 89\n",
            "Produced: 96\n",
            "Consumed: 83\n",
            "Produced: 6\n",
            "Background task is running...\n",
            "Background task is running...\n",
            "Produced: 85Consumed: 1\n",
            "\n",
            "Consumed: 96\n",
            "Produced: 6\n",
            "Consumed: 6\n",
            "Background task is running...\n",
            "Produced: 86\n",
            "Background task is running...Consumed: 85\n",
            "\n",
            "Consumed: 6\n",
            "Consumed: 86\n",
            "Consumer finished processing.\n",
            "All threads have finished.\n"
          ]
        }
      ]
    },
    {
      "cell_type": "markdown",
      "source": [
        "## **Thread Safety of Common Python Objects**"
      ],
      "metadata": {
        "id": "AhapQSxJE617"
      }
    },
    {
      "cell_type": "markdown",
      "source": [
        "| Object      | Thread-Safe | Reason                                                       |   |\n",
        "|-------------|-------------|--------------------------------------------------------------|---|\n",
        "| list        | No          | Mutable; concurrent modifications can cause race conditions. |   |\n",
        "| dict        | No          | Mutable; requires synchronization for safe access.           |   |\n",
        "| set         | No          | Mutable; concurrent modifications are not safe.              |   |\n",
        "| frozenset   | Yes         | Immutable; safe for concurrent access.                       |   |\n",
        "| int, str    | Yes         | Immutable; inherently thread-safe.                           |   |\n",
        "| queue.Queue | Yes         | Designed for thread-safe communication.                      |   |"
      ],
      "metadata": {
        "id": "EFugh3OuE1j7"
      }
    },
    {
      "cell_type": "markdown",
      "source": [
        "## **Thread Pooling with concurrent.futures**\n",
        "\n",
        "The concurrent.futures module in Python provides a high-level interface for asynchronously executing callables using threads or processes. The ThreadPoolExecutor class allows you to manage a pool of threads, making it easier to execute tasks concurrently without having to manage the threads manually.\n",
        "\n",
        "### **Example: Thread Pooling with concurrent.futures.ThreadPoolExecutor**\n",
        "\n",
        "In this example, we will demonstrate how to use ThreadPoolExecutor to execute a function that simulates a time-consuming task concurrently across multiple threads."
      ],
      "metadata": {
        "id": "3r-7PyZZIpOw"
      }
    },
    {
      "cell_type": "code",
      "source": [
        "import concurrent.futures\n",
        "import time\n",
        "import random\n",
        "\n",
        "# A function that simulates a time-consuming task\n",
        "def task(n):\n",
        "    sleep_time = random.uniform(0.5, 2.0)  # Random sleep time between 0.5 and 2 seconds\n",
        "    print(f\"Task {n} will sleep for {sleep_time:.2f} seconds.\")\n",
        "    time.sleep(sleep_time)\n",
        "    return f\"Task {n} completed.\"\n",
        "\n",
        "if __name__ == \"__main__\":\n",
        "    num_tasks = 10  # Number of tasks to execute\n",
        "    results = []\n",
        "\n",
        "    # Using ThreadPoolExecutor to manage threads\n",
        "    with concurrent.futures.ThreadPoolExecutor(max_workers=5) as executor:\n",
        "        # Submit tasks to the executor\n",
        "        future_to_task = {executor.submit(task, i): i for i in range(num_tasks)}\n",
        "\n",
        "        # Process the results as they complete\n",
        "        for future in concurrent.futures.as_completed(future_to_task):\n",
        "            task_number = future_to_task[future]\n",
        "            try:\n",
        "                result = future.result()  # Get the result of the task\n",
        "                results.append(result)\n",
        "                print(result)\n",
        "            except Exception as exc:\n",
        "                print(f\"Task {task_number} generated an exception: {exc}\")\n",
        "\n",
        "    print(\"All tasks have been completed.\")"
      ],
      "metadata": {
        "colab": {
          "base_uri": "https://localhost:8080/"
        },
        "id": "6vvUOGJSIuiI",
        "outputId": "d0ef0c8f-610d-4460-9bf9-af1523d4bb71"
      },
      "execution_count": null,
      "outputs": [
        {
          "output_type": "stream",
          "name": "stdout",
          "text": [
            "Task 0 will sleep for 1.33 seconds.\n",
            "Task 1 will sleep for 1.77 seconds.\n",
            "Task 2 will sleep for 0.75 seconds.\n",
            "Task 3 will sleep for 1.94 seconds.Task 4 will sleep for 1.32 seconds.\n",
            "\n",
            "Background task is running...\n",
            "Background task is running...\n",
            "Task 5 will sleep for 1.36 seconds.\n",
            "Task 2 completed.\n",
            "Task 6 will sleep for 0.68 seconds.\n",
            "Task 0 completed.\n",
            "Task 7 will sleep for 1.98 seconds.Background task is running...\n",
            "Task 4 completed.\n",
            "Background task is running...\n",
            "\n",
            "Task 8 will sleep for 0.66 seconds.\n",
            "Task 1 completed.\n",
            "Task 9 will sleep for 1.75 seconds.\n",
            "Task 6 completed.\n",
            "Task 3 completed.\n",
            "Task 5 completed.\n",
            "Task 8 completed.Background task is running...\n",
            "\n",
            "Background task is running...\n",
            "Task 7 completed.\n",
            "Background task is running...\n",
            "Background task is running...\n",
            "Task 9 completed.\n",
            "All tasks have been completed.\n"
          ]
        }
      ]
    },
    {
      "cell_type": "markdown",
      "source": [
        "**Explanation**:\n",
        "\n",
        "1.  **CPU-bound Task**:\n",
        "\n",
        "  The cpu_bound_task function performs a large number of calculations. This is a CPU-bound task, meaning it requires significant CPU processing.\n",
        "\n",
        "2.  **Threading**:\n",
        "\n",
        "  The run_with_threads function creates multiple threads to execute the cpu_bound_task. Each thread runs the task independently, but due to the GIL, only one thread can execute Python bytecode at a time.\n",
        "\n",
        "3.  **Multiprocessing**:\n",
        "\n",
        "  The run_with_multiprocessing function creates multiple processes to execute the same task. Each process has its own Python interpreter and memory space, allowing them to run in parallel without being affected by the GIL.\n",
        "\n",
        "4.  **Timing**:\n",
        "\n",
        "  The script measures the time taken to complete the tasks using both threading and multiprocessing.\n",
        "\n",
        "**Expected Output**:\n",
        "\n",
        "When you run this script, you will likely observe that the time taken with multiprocessing is significantly lower than the time taken with threading, especially for CPU-bound tasks. This demonstrates the impact of the GIL on multi-threaded performance in Python.\n",
        "\n",
        "**`Note`**:\n",
        "\n",
        "Keep in mind that the actual execution time may vary based on your machine's specifications and current load. Additionally, for I/O-bound tasks, the performance difference may not be as pronounced."
      ],
      "metadata": {
        "id": "1bXTGNFxI-qc"
      }
    }
  ],
  "metadata": {
    "colab": {
      "provenance": []
    },
    "kernelspec": {
      "display_name": "Python 3",
      "name": "python3"
    },
    "language_info": {
      "name": "python"
    }
  },
  "nbformat": 4,
  "nbformat_minor": 0
}