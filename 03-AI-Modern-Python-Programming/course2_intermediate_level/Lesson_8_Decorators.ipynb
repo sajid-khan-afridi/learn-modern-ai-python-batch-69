{
  "cells": [
    {
      "cell_type": "markdown",
      "metadata": {
        "id": "4TKWBDh-fqaT"
      },
      "source": [
        "# Decorators in Python\n",
        "\n",
        "Decorators are powerful tools in Python that allow you to modify the *functionality* of another function. They make your code more concise, modular, and \"Pythonic.\"  \n",
        "**Pythonic** refers to writing code that is clear, efficient, and easy to understand at a glance.\n",
        "\n",
        "Imagine you have a function, and you want to add some extra functionality to it. You have two options:  \n",
        "1. Modify the original function to include the new functionality.  \n",
        "2. Create a new function that includes the original functionality along with the additional features.\n",
        "\n",
        "Now, consider a scenario where you may want to remove this added functionality later. Wouldn't it be great if you could simply toggle this extra functionality on and off without altering the original function or creating multiple versions of it?  \n",
        "\n",
        "This is where **decorators** come into play.  \n",
        "\n",
        "### What Are Decorators?\n",
        "Decorators in Python enable you to add functionality to an existing function in a clean and reusable way. If you no longer need the additional functionality, you can simply remove the decorator from the function definition.\n",
        "\n",
        "Decorators use the `@` operator and are placed directly above the function they modify.\n",
        "\n",
        "---\n",
        "\n",
        "### Structure of a Decorator\n",
        "Here’s a basic example of how a decorator is structured:\n",
        "\n",
        "```python\n",
        "@some_decorator\n",
        "def simple_func():\n",
        "    # Original functionality\n",
        "    return \"Doing something simple\"\n",
        "```\n",
        "\n",
        "In this example:\n",
        "- `@some_decorator` adds extra functionality to `simple_func`.\n",
        "- If you don’t want the added functionality anymore, simply remove the `@some_decorator` line, and `simple_func` will work as it originally did.\n",
        "\n",
        "### Key Benefits of Decorators:\n",
        "- **Modularity**: You can separate additional functionality from the core logic of your function.  \n",
        "- **Flexibility**: Easily toggle functionality on and off by adding or removing the decorator.  \n",
        "- **Reusability**: Apply the same decorator to multiple functions for consistent behavior.\n",
        "\n",
        "Decorators are an elegant solution to modify behavior without cluttering your codebase. By leveraging them, you can keep your code clean, maintainable, and Pythonic.  "
      ]
    },
    {
      "cell_type": "markdown",
      "source": [
        "## Functions Review"
      ],
      "metadata": {
        "id": "xO-Wy4EAEnQP"
      }
    },
    {
      "cell_type": "code",
      "execution_count": null,
      "metadata": {
        "collapsed": true,
        "id": "waPwcoIyfqaV"
      },
      "outputs": [],
      "source": [
        "def func():\n",
        "    return 1"
      ]
    },
    {
      "cell_type": "code",
      "execution_count": null,
      "metadata": {
        "id": "MGWuVaAWfqaX"
      },
      "outputs": [],
      "source": [
        "func()"
      ]
    },
    {
      "cell_type": "markdown",
      "metadata": {
        "id": "d2BO5T7Ffqaf"
      },
      "source": [
        "Great! Now lets continue with building out the logic of what a decorator is. Remember that in Python **everything is an object**. That means functions are objects which can be assigned labels and passed into other functions. Lets start with some simple examples:"
      ]
    },
    {
      "cell_type": "code",
      "execution_count": null,
      "metadata": {
        "collapsed": true,
        "id": "ImraVZOLfqaf"
      },
      "outputs": [],
      "source": [
        "def hello(name='Jose'):\n",
        "    return 'Hello '+name"
      ]
    },
    {
      "cell_type": "code",
      "execution_count": null,
      "metadata": {
        "id": "e1-lcAXKfqag",
        "outputId": "4ce9f217-b8d0-4712-eba6-ba9e0f7fd7b7",
        "colab": {
          "base_uri": "https://localhost:8080/",
          "height": 35
        }
      },
      "outputs": [
        {
          "output_type": "execute_result",
          "data": {
            "text/plain": [
              "'Hello Jose'"
            ],
            "application/vnd.google.colaboratory.intrinsic+json": {
              "type": "string"
            }
          },
          "metadata": {},
          "execution_count": 16
        }
      ],
      "source": [
        "hello()"
      ]
    },
    {
      "cell_type": "markdown",
      "metadata": {
        "id": "nKqVmm7efqah"
      },
      "source": [
        "Assign another label to the function. Note that we are not using parentheses here because we are not calling the function **hello**, instead we are just passing a function object to the **greet** variable."
      ]
    },
    {
      "cell_type": "code",
      "execution_count": null,
      "metadata": {
        "collapsed": true,
        "id": "0-y2CnHVfqah"
      },
      "outputs": [],
      "source": [
        "greet = hello"
      ]
    },
    {
      "cell_type": "code",
      "execution_count": null,
      "metadata": {
        "id": "U29E9P7ifqah",
        "outputId": "0c48570b-3d53-4a1a-d614-45205139b36c",
        "colab": {
          "base_uri": "https://localhost:8080/"
        }
      },
      "outputs": [
        {
          "output_type": "stream",
          "name": "stdout",
          "text": [
            "<function hello at 0x7a69652828e0>\n"
          ]
        }
      ],
      "source": [
        "greet\n",
        "print(greet)"
      ]
    },
    {
      "cell_type": "code",
      "execution_count": null,
      "metadata": {
        "id": "h_InHdb6fqai",
        "outputId": "9b1aa66f-ea78-481a-875e-360fd0739fba",
        "colab": {
          "base_uri": "https://localhost:8080/",
          "height": 35
        }
      },
      "outputs": [
        {
          "output_type": "execute_result",
          "data": {
            "text/plain": [
              "'Hello Jose'"
            ],
            "application/vnd.google.colaboratory.intrinsic+json": {
              "type": "string"
            }
          },
          "metadata": {},
          "execution_count": 20
        }
      ],
      "source": [
        "greet()"
      ]
    },
    {
      "cell_type": "markdown",
      "metadata": {
        "id": "2XUikQsufqai"
      },
      "source": [
        "So what happens when we delete the name **hello**?"
      ]
    },
    {
      "cell_type": "code",
      "execution_count": null,
      "metadata": {
        "collapsed": true,
        "id": "LHy8aFTBfqaj"
      },
      "outputs": [],
      "source": [
        "del hello"
      ]
    },
    {
      "cell_type": "code",
      "execution_count": null,
      "metadata": {
        "id": "7gMNCjOBfqaj"
      },
      "outputs": [],
      "source": [
        "hello()"
      ]
    },
    {
      "cell_type": "code",
      "execution_count": null,
      "metadata": {
        "id": "XwnWOG6Dfqak",
        "outputId": "488fb987-3ae7-4121-8b22-1822896352f6",
        "colab": {
          "base_uri": "https://localhost:8080/",
          "height": 35
        }
      },
      "outputs": [
        {
          "output_type": "execute_result",
          "data": {
            "text/plain": [
              "'Hello Jose'"
            ],
            "application/vnd.google.colaboratory.intrinsic+json": {
              "type": "string"
            }
          },
          "metadata": {},
          "execution_count": 23
        }
      ],
      "source": [
        "greet()"
      ]
    },
    {
      "cell_type": "markdown",
      "metadata": {
        "id": "iN7zH2Jzfqak"
      },
      "source": [
        "Even though we deleted the name **hello**, the name **greet** *still points to* our original function object. It is important to know that functions are objects that can be passed to other objects!"
      ]
    },
    {
      "cell_type": "markdown",
      "metadata": {
        "id": "cX5BMxGVfqal"
      },
      "source": [
        "## Functions within functions\n",
        "Great! So we've seen how we can treat functions as objects, now let's see how we can define functions inside of other functions:"
      ]
    },
    {
      "cell_type": "code",
      "execution_count": null,
      "metadata": {
        "collapsed": true,
        "id": "lTFJ_2tGfqal"
      },
      "outputs": [],
      "source": [
        "def hello(name='Jose'):\n",
        "    print('The hello() function has been executed')\n",
        "\n",
        "    def greet():\n",
        "        return '\\t This is inside the greet() function'\n",
        "\n",
        "    def welcome():\n",
        "        return \"\\t This is inside the welcome() function\"\n",
        "\n",
        "    print(greet())\n",
        "    print(welcome())\n",
        "    print(\"Now we are back inside the hello() function\")"
      ]
    },
    {
      "cell_type": "code",
      "execution_count": null,
      "metadata": {
        "id": "hfa8rrzEfqam",
        "outputId": "54cb3169-e8cb-46ed-8f40-2385a6c19e68",
        "colab": {
          "base_uri": "https://localhost:8080/"
        }
      },
      "outputs": [
        {
          "output_type": "stream",
          "name": "stdout",
          "text": [
            "The hello() function has been executed\n",
            "\t This is inside the greet() function\n",
            "\t This is inside the welcome() function\n",
            "Now we are back inside the hello() function\n"
          ]
        }
      ],
      "source": [
        "hello()"
      ]
    },
    {
      "cell_type": "code",
      "execution_count": null,
      "metadata": {
        "id": "kTpi9KDJfqam"
      },
      "outputs": [],
      "source": [
        "welcome()"
      ]
    },
    {
      "cell_type": "markdown",
      "metadata": {
        "id": "Qn2lfJTbfqan"
      },
      "source": [
        "Note how due to scope, the welcome() function is not defined outside of the hello() function. Now lets learn about returning functions from within functions:\n",
        "## Returning Functions"
      ]
    },
    {
      "cell_type": "code",
      "execution_count": null,
      "metadata": {
        "collapsed": true,
        "id": "LXmp31l1fqan"
      },
      "outputs": [],
      "source": [
        "def hello(name='Jose'):\n",
        "\n",
        "    def greet():\n",
        "        return '\\t This is inside the greet() function'\n",
        "\n",
        "    def welcome():\n",
        "        return \"\\t This is inside the welcome() function\"\n",
        "\n",
        "    if name == 'Jose':\n",
        "        return greet\n",
        "    else:\n",
        "        return welcome"
      ]
    },
    {
      "cell_type": "markdown",
      "metadata": {
        "id": "w1e2DFMVfqao"
      },
      "source": [
        "Now let's see what function is returned if we set x = hello(), note how the empty parentheses means that name has been defined as Jose."
      ]
    },
    {
      "cell_type": "code",
      "execution_count": null,
      "metadata": {
        "collapsed": true,
        "id": "cLEAKq1hfqao"
      },
      "outputs": [],
      "source": [
        "x = hello()"
      ]
    },
    {
      "cell_type": "code",
      "execution_count": null,
      "metadata": {
        "id": "BTUSfUnAfqao",
        "outputId": "2977f8c5-6560-4d03-c9da-10741898f8f7",
        "colab": {
          "base_uri": "https://localhost:8080/"
        }
      },
      "outputs": [
        {
          "output_type": "stream",
          "name": "stdout",
          "text": [
            "<function hello.<locals>.greet at 0x7a6954e5d120>\n"
          ]
        }
      ],
      "source": [
        "print(x)"
      ]
    },
    {
      "cell_type": "markdown",
      "metadata": {
        "id": "qZ3TR9SGfqap"
      },
      "source": [
        "Great! Now we can see how x is pointing to the greet function inside of the hello function."
      ]
    },
    {
      "cell_type": "code",
      "execution_count": null,
      "metadata": {
        "id": "5T3ImnbBfqap",
        "outputId": "670e6c42-0e65-499a-9dc6-11c4a33d0b1b",
        "colab": {
          "base_uri": "https://localhost:8080/"
        }
      },
      "outputs": [
        {
          "output_type": "stream",
          "name": "stdout",
          "text": [
            "\t This is inside the greet() function\n"
          ]
        }
      ],
      "source": [
        "print(x())"
      ]
    },
    {
      "cell_type": "markdown",
      "metadata": {
        "id": "MU4uRrx9fqaq"
      },
      "source": [
        "Let's take a quick look at the code again.\n",
        "\n",
        "In the <code>if</code>/<code>else</code> clause we are returning <code>greet</code> and <code>welcome</code>, not <code>greet()</code> and <code>welcome()</code>.\n",
        "\n",
        "This is because when you put a pair of parentheses after it, the function gets executed; whereas if you don’t put parentheses after it, then it can be passed around and can be assigned to other variables without executing it.\n",
        "\n",
        "When we write <code>x = hello()</code>, hello() gets executed and because the name is Jose by default, the function <code>greet</code> is returned. If we change the statement to <code>x = hello(name = \"Sam\")</code> then the <code>welcome</code> function will be returned. We can also do <code>print(hello()())</code> which outputs *This is inside the greet() function*."
      ]
    },
    {
      "cell_type": "code",
      "source": [
        "print(hello()())"
      ],
      "metadata": {
        "colab": {
          "base_uri": "https://localhost:8080/"
        },
        "id": "ms2BAxp0qy_k",
        "outputId": "295b9cbb-542e-44ab-e9d8-c0fbdcf45898"
      },
      "execution_count": null,
      "outputs": [
        {
          "output_type": "stream",
          "name": "stdout",
          "text": [
            "\t This is inside the greet() function\n"
          ]
        }
      ]
    },
    {
      "cell_type": "markdown",
      "metadata": {
        "id": "M3k3dhL5fqaq"
      },
      "source": [
        "## Functions as Arguments\n",
        "Now let's see how we can pass functions as arguments into other functions:"
      ]
    },
    {
      "cell_type": "code",
      "execution_count": null,
      "metadata": {
        "collapsed": true,
        "id": "h99Fbrecfqaw"
      },
      "outputs": [],
      "source": [
        "def hello():\n",
        "    return 'Hi Jose!'\n",
        "\n",
        "def other(func):\n",
        "    print('Other code would go here')\n",
        "    print(func())"
      ]
    },
    {
      "cell_type": "code",
      "execution_count": null,
      "metadata": {
        "id": "wguU-qEffqaw",
        "outputId": "716f41da-d2df-4e21-a3f5-9615f996db6e",
        "colab": {
          "base_uri": "https://localhost:8080/"
        }
      },
      "outputs": [
        {
          "output_type": "stream",
          "name": "stdout",
          "text": [
            "Other code would go here\n",
            "Hi Jose!\n"
          ]
        }
      ],
      "source": [
        "other(hello)"
      ]
    },
    {
      "cell_type": "markdown",
      "metadata": {
        "id": "i0zntBsOfqax"
      },
      "source": [
        "Great! Note how we can pass the functions as objects and then use them within other functions. Now we can get started with writing our first decorator:"
      ]
    },
    {
      "cell_type": "markdown",
      "metadata": {
        "id": "4otgm5Ywfqax"
      },
      "source": [
        "## Creating a Decorator\n",
        "In the previous example we actually manually created a Decorator. Here we will modify it to make its use case clear:"
      ]
    },
    {
      "cell_type": "code",
      "execution_count": null,
      "metadata": {
        "collapsed": true,
        "id": "gG_DP1Iwfqax"
      },
      "outputs": [],
      "source": [
        "def new_decorator(func):\n",
        "\n",
        "    def wrap_func():\n",
        "        print(\"Code would be here, before executing the func()\")\n",
        "\n",
        "        func()\n",
        "\n",
        "        print(\"Code here will execute after the func()\")\n",
        "\n",
        "    return wrap_func\n",
        "\n",
        "def func_needs_decorator():\n",
        "    print(\"This function is in need of a Decorator\")"
      ]
    },
    {
      "cell_type": "code",
      "execution_count": null,
      "metadata": {
        "id": "o07oz-_Ofqax",
        "outputId": "24875645-ddee-46dd-bcdb-242b16cdc59d",
        "colab": {
          "base_uri": "https://localhost:8080/"
        }
      },
      "outputs": [
        {
          "output_type": "stream",
          "name": "stdout",
          "text": [
            "This function is in need of a Decorator\n"
          ]
        }
      ],
      "source": [
        "func_needs_decorator()"
      ]
    },
    {
      "cell_type": "code",
      "execution_count": null,
      "metadata": {
        "collapsed": true,
        "id": "QuQbVM56fqax"
      },
      "outputs": [],
      "source": [
        "# Reassign func_needs_decorator\n",
        "func_needs_decorator = new_decorator(func_needs_decorator)"
      ]
    },
    {
      "cell_type": "code",
      "source": [
        "print(func_needs_decorator)"
      ],
      "metadata": {
        "colab": {
          "base_uri": "https://localhost:8080/"
        },
        "id": "Yq4OIAndrtEx",
        "outputId": "cb00af47-97fd-4c1f-c02c-f474cb6fcfee"
      },
      "execution_count": null,
      "outputs": [
        {
          "output_type": "stream",
          "name": "stdout",
          "text": [
            "<function new_decorator.<locals>.wrap_func at 0x7a6954e5bec0>\n"
          ]
        }
      ]
    },
    {
      "cell_type": "code",
      "execution_count": null,
      "metadata": {
        "id": "B1FLl4Ftfqay",
        "outputId": "f6548619-804f-4c37-cfc1-10d4b4dca624",
        "colab": {
          "base_uri": "https://localhost:8080/"
        }
      },
      "outputs": [
        {
          "output_type": "stream",
          "name": "stdout",
          "text": [
            "Code would be here, before executing the func\n",
            "This function is in need of a Decorator\n",
            "Code here will execute after the func()\n"
          ]
        }
      ],
      "source": [
        "func_needs_decorator()"
      ]
    },
    {
      "cell_type": "markdown",
      "metadata": {
        "id": "IuxxVge4fqay"
      },
      "source": [
        "So what just happened here? A decorator simply wrapped the function and modified its behavior. Now let's understand how we can rewrite this code using the @ symbol, which is what Python uses for Decorators:"
      ]
    },
    {
      "cell_type": "code",
      "execution_count": null,
      "metadata": {
        "collapsed": true,
        "id": "UD_YIS6pfqay"
      },
      "outputs": [],
      "source": [
        "@new_decorator\n",
        "def func_needs_decorator():\n",
        "    print(\"This function is in need of a Decorator\")"
      ]
    },
    {
      "cell_type": "code",
      "execution_count": null,
      "metadata": {
        "id": "8JIE6c1mfqay"
      },
      "outputs": [],
      "source": [
        "func_needs_decorator()"
      ]
    },
    {
      "cell_type": "markdown",
      "metadata": {
        "id": "BhQ3axcQfqay"
      },
      "source": [
        "**Great! You've now built a Decorator manually and then saw how we can use the @ symbol in Python to automate this and clean our code. You'll run into Decorators a lot if you begin using Python for Api such as FastApi or Web Development, such as Flask or Django!**"
      ]
    },
    {
      "cell_type": "markdown",
      "source": [
        "## Practice"
      ],
      "metadata": {
        "id": "0WdTQe2UXDik"
      }
    },
    {
      "cell_type": "code",
      "source": [
        "def new_decorator(func):\n",
        "\n",
        "    def wrap_func():\n",
        "        print(\"Code would be here, before executing the func()\")\n",
        "\n",
        "        func()\n",
        "\n",
        "        print(\"Code here will execute after the func()\")\n",
        "\n",
        "    return wrap_func\n"
      ],
      "metadata": {
        "id": "nJsqYOMsOXTp"
      },
      "execution_count": null,
      "outputs": []
    },
    {
      "cell_type": "code",
      "source": [
        "def simple_fun():\n",
        "    print(\"This is simple function\")\n"
      ],
      "metadata": {
        "id": "KnoIE5oAWU-A"
      },
      "execution_count": null,
      "outputs": []
    },
    {
      "cell_type": "code",
      "source": [
        "gen_return = new_decorator(simple_fun)"
      ],
      "metadata": {
        "id": "F13zwNflWmKF"
      },
      "execution_count": null,
      "outputs": []
    },
    {
      "cell_type": "code",
      "source": [
        "print(gen_return)"
      ],
      "metadata": {
        "id": "HtSUeu9TWxL9"
      },
      "execution_count": null,
      "outputs": []
    },
    {
      "cell_type": "code",
      "source": [
        "gen_return()"
      ],
      "metadata": {
        "id": "uNYoli13W24e"
      },
      "execution_count": null,
      "outputs": []
    }
  ],
  "metadata": {
    "kernelspec": {
      "display_name": "Python 3",
      "language": "python",
      "name": "python3"
    },
    "language_info": {
      "codemirror_mode": {
        "name": "ipython",
        "version": 3
      },
      "file_extension": ".py",
      "mimetype": "text/x-python",
      "name": "python",
      "nbconvert_exporter": "python",
      "pygments_lexer": "ipython3",
      "version": "3.6.6"
    },
    "colab": {
      "provenance": [],
      "collapsed_sections": [
        "0WdTQe2UXDik"
      ]
    }
  },
  "nbformat": 4,
  "nbformat_minor": 0
}