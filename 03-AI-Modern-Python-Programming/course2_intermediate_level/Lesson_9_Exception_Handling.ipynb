{
  "cells": [
    {
      "cell_type": "markdown",
      "metadata": {
        "id": "0i-IiMCB3IO0"
      },
      "source": [
        "# Exception Handling in Python\n",
        "\n",
        "When you're writing a program, things don't always go as planned. Sometimes, unexpected errors, called **exceptions**, can occur. If these exceptions are not handled properly, they will stop or crash your program from running. This is where **exception handling** becomes crucial.\n",
        "\n",
        "## What is an Exception?\n",
        "\n",
        "An **exception** is an error that happens during the execution of a program. When an exception occurs, the normal flow of the program is interrupted, and the program will terminate unless you handle the exception."
      ]
    },
    {
      "cell_type": "markdown",
      "metadata": {
        "id": "tNnU_N1L3IO3"
      },
      "source": [
        "\n",
        "- The try block is used to test a block of code for errors. If an error occurs within the try block, the program will immediately jump to the except block (if provided).\n",
        "\n",
        "- The except block is used to handle specific errors that occur in the try block. You can specify the type of error to catch, or use a generic except to catch all errors.\n",
        "\n",
        "---\n",
        "\n",
        "\n"
      ]
    },
    {
      "cell_type": "markdown",
      "metadata": {
        "id": "FnmTkx4c3IO2"
      },
      "source": [
        "## Common Types of Exceptions in Python:"
      ]
    },
    {
      "cell_type": "markdown",
      "source": [
        "### 1. **`ZeroDivisionError`**\n",
        "Raised when dividing by zero.\n"
      ],
      "metadata": {
        "id": "LWRvUgid8qdM"
      }
    },
    {
      "cell_type": "code",
      "execution_count": null,
      "metadata": {
        "id": "JspmeNFL3IO4"
      },
      "outputs": [],
      "source": [
        "# Division by zero raises an exception\n",
        "num = 10\n",
        "den = 0\n",
        "try:\n",
        "    result = num / den  # Raises ZeroDivisionError\n",
        "except ZeroDivisionError as e: # When we use as e, e is the instance of the ZeroDivisionError exception\n",
        "    print(f\"Division by zero is not allowed: {ZeroDivisionError}\")\n",
        "    print(f\"Division by zero is not allowed: {e}\")"
      ]
    },
    {
      "cell_type": "markdown",
      "metadata": {
        "id": "-41gPLuV3IO5"
      },
      "source": [
        "### 2. **`ValueError`**\n",
        "\n",
        "Raised when a function receives an argument of the correct type but with an inappropriate value.\n",
        "\n",
        "`Exception` as e (General):\n",
        "\n",
        "  - Exception is the base class for most built-in exceptions in Python. Catching Exception is considered \"general\" because it will handle all exceptions that inherit from Exception (e.g., ValueError, TypeError, KeyError, etc.).\n",
        "  - This is risky because it might catch unexpected errors, making debugging harder.\n",
        "\n",
        "`ValueError` as e (Specific):\n",
        "\n",
        "  - ValueError is a subclass of Exception. This handler is \"specific\" because it only catches ValueError exceptions (e.g., invalid type conversion, like int(\"not_a_number\")).\n",
        "\n",
        "  - This is the recommended approach, as it explicitly targets a known error and avoids unintended side effects.\n",
        "\n",
        "**Best Practice:**\n",
        "\n",
        "- Always catch specific exceptions (like ValueError) unless you have a strong reason to handle a broader category. General exceptions (like Exception) can mask bugs or unexpected errors.\n"
      ]
    },
    {
      "cell_type": "code",
      "execution_count": null,
      "metadata": {
        "id": "I04Nupuv3IO6"
      },
      "outputs": [],
      "source": [
        "try:\n",
        "    age = int(input(\"Enter your age: \"))  # Invalid literal for `int()`\n",
        "    print(\"Your age is\", age)\n",
        "except ValueError as e:#specific\n",
        "    print(f\"Invalid input! Please enter a whole number. Error: {e}\")\n"
      ]
    },
    {
      "cell_type": "code",
      "execution_count": null,
      "metadata": {
        "id": "fLPkLhFE3IO6"
      },
      "outputs": [],
      "source": [
        "try:\n",
        "    age = int(input(\"Enter your age: \"))  # Invalid literal for `int()`\n",
        "    print(\"Your age is\", age)\n",
        "except Exception as e: # general\n",
        "    print(f\"Invalid input! Please enter a whole number. Error: {e}\")"
      ]
    },
    {
      "cell_type": "markdown",
      "metadata": {
        "id": "gxlur4zM3IO7"
      },
      "source": [
        "### 3. **`TypeError`**\n",
        "\n",
        "Raised when an operation or function is applied to an object of the wrong type.\n"
      ]
    },
    {
      "cell_type": "code",
      "execution_count": null,
      "metadata": {
        "id": "DrjnIeLu3IO7"
      },
      "outputs": [],
      "source": [
        "try:\n",
        "    result = \"text\" + 10  # Adding a string and an integer\n",
        "    print(result)\n",
        "except TypeError as e:\n",
        "    print(f\"Cannot add a string and a number! Error: {e}\")"
      ]
    },
    {
      "cell_type": "code",
      "execution_count": null,
      "metadata": {
        "id": "JNnH9NRB3IO8"
      },
      "outputs": [],
      "source": [
        "try:\n",
        "    result = \"text\" + 10  # Adding a string and an integer\n",
        "    print(result)\n",
        "except Exception as e:\n",
        "    print(f\"Cannot add a string and a number! Error: {e}\")"
      ]
    },
    {
      "cell_type": "markdown",
      "metadata": {
        "id": "-ylBBZmj3IO8"
      },
      "source": [
        "### 4. **`IndexError`**\n",
        "\n",
        "Raised when trying to access an index that is out of range in a list or tuple.\n",
        "\n",
        "**Practice Goal:** Enter an index like 5 or -4 to trigger the IndexError."
      ]
    },
    {
      "cell_type": "code",
      "execution_count": null,
      "metadata": {
        "id": "S2I9SBhv3IO9"
      },
      "outputs": [],
      "source": [
        "try:\n",
        "    my_list = [10, 20, 30]\n",
        "    print(my_list[int(input(\"Choose an index (0-2): \"))])\n",
        "except IndexError as e:\n",
        "    print(f\"IndexError occurred: {e}\")\n",
        "    print(\"Index out of range!\")"
      ]
    },
    {
      "cell_type": "markdown",
      "metadata": {
        "id": "q9Zud8S23IO9"
      },
      "source": [
        "### 5. **`KeyError`**\n",
        "\n",
        "Raised when trying to access a dictionary key that does not exist.\n",
        "\n",
        "**Practice Goal:** Enter a key that isn’t \"apple\" or \"carrot\" to see the KeyError.\n"
      ]
    },
    {
      "cell_type": "code",
      "execution_count": null,
      "metadata": {
        "id": "ZzMosyxh3IO9"
      },
      "outputs": [],
      "source": [
        "try:\n",
        "    my_dict = {\"apple\": \"fruit\", \"carrot\": \"vegetable\"}\n",
        "    print(my_dict[input(\"Which key do you want? \")])\n",
        "except KeyError as e:\n",
        "    print(\"Error: That key does not exist in the dictionary!\")\n",
        "    print(f\"KeyError occurred: {e}\")"
      ]
    },
    {
      "cell_type": "code",
      "source": [
        "try:\n",
        "    my_dict = {\"apple\": \"fruit\", \"carrot\": \"vegetable\"}\n",
        "    print(my_dict[input(\"Which key do you want? \")])\n",
        "except KeyError:\n",
        "    print(\"Error: That key does not exist in the dictionary!\")"
      ],
      "metadata": {
        "id": "TyplZJcLbYKJ"
      },
      "execution_count": null,
      "outputs": []
    },
    {
      "cell_type": "markdown",
      "metadata": {
        "id": "jhEjp8aw3IO9"
      },
      "source": [
        "### 6. **`FileNotFoundError`**\n",
        "\n",
        "Raised when a file operation is requested, but the file does not exist.\n"
      ]
    },
    {
      "cell_type": "code",
      "execution_count": null,
      "metadata": {
        "id": "pPT2TuUi3IO-"
      },
      "outputs": [],
      "source": [
        "try:\n",
        "    with open(\"non_existent_file.txt\") as file:  # File does not exist\n",
        "        content = file.read()\n",
        "        print(content)\n",
        "except FileNotFoundError as e:\n",
        "    print(f\"FileNotFoundError occurred: {e}\")"
      ]
    },
    {
      "cell_type": "markdown",
      "source": [
        "### 7. **`Multiple Exceptions`**\n",
        "\n",
        "**Practice Goal:**\n",
        "\n",
        "- Enter letters to trigger the ValueError.\n",
        "- Enter 0 to trigger the ZeroDivisionError."
      ],
      "metadata": {
        "id": "zYwlp1HLcCh1"
      }
    },
    {
      "cell_type": "code",
      "execution_count": null,
      "metadata": {
        "id": "YqPul06u3IO-"
      },
      "outputs": [],
      "source": [
        "try:\n",
        "    print(50 / int(input(\"Enter a number: \")))\n",
        "except ValueError:\n",
        "    print(\"Error: That's not a valid number!\")\n",
        "except ZeroDivisionError:\n",
        "    print(\"Error: Can't divide by zero!\")"
      ]
    },
    {
      "cell_type": "markdown",
      "metadata": {
        "id": "z0UBo9Em3IO-"
      },
      "source": [
        "### 8. **`finally` Block**\n",
        "The `finally` block always runs whether there’s an exception or not. It’s useful for cleanup tasks, like closing files.\n",
        "#### When to use:\n",
        "- When you have some code that **must run no matter what**, such as releasing resources or cleaning up after the `try` block (e.g., closing a file or a network connection).\n",
        "- finally: Ensures that its code runs regardless of how the try block is exited (normal execution, exception, or return), making it ideal for cleanup or final actions."
      ]
    },
    {
      "cell_type": "markdown",
      "source": [
        "**Practice Goal:** Even if you type something invalid (causing a crash), the message in the finally block will still run."
      ],
      "metadata": {
        "id": "ISoQZpQAdI4z"
      }
    },
    {
      "cell_type": "code",
      "source": [
        "try:\n",
        "    num = int(input(\"Enter a number: \"))\n",
        "    print(\"You typed:\", num)\n",
        "except:\n",
        "    print(\"Invalid input! Please enter a valid number.\")\n",
        "finally:\n",
        "    print(\"The 'finally' block always runs!\")"
      ],
      "metadata": {
        "id": "sQGAlxWddHke"
      },
      "execution_count": null,
      "outputs": []
    },
    {
      "cell_type": "code",
      "execution_count": null,
      "metadata": {
        "id": "HBqTfVe03IO_"
      },
      "outputs": [],
      "source": [
        "def divide_numbers():\n",
        "    try:\n",
        "        a = int(input(\"Enter the numerator: \"))\n",
        "        b = int(input(\"Enter the denominator: \"))\n",
        "        result = a / b\n",
        "        print(result)\n",
        "    except Exception as e:\n",
        "        print(\"Error occurred: \", e)\n",
        "    finally:\n",
        "        print(\"Thank you for using the division program\")\n",
        "    print(\"checking\")\n",
        "divide_numbers()"
      ]
    },
    {
      "cell_type": "code",
      "source": [
        "def divide_numbers():\n",
        "    try:\n",
        "        a = int(input(\"Enter the numerator: \"))\n",
        "        b = int(input(\"Enter the denominator: \"))\n",
        "        result = a / b\n",
        "        print(result)\n",
        "        return  # Early return from the function\n",
        "    except Exception as e:\n",
        "        print(\"Error occurred:\", e)\n",
        "    finally:\n",
        "        print(\"Thank you for using the division program\")\n",
        "    print(\"checking\")\n",
        "\n",
        "divide_numbers()\n"
      ],
      "metadata": {
        "id": "YQIlChGNjxyC"
      },
      "execution_count": null,
      "outputs": []
    },
    {
      "cell_type": "markdown",
      "metadata": {
        "id": "8c9S3wvK3IO_"
      },
      "source": [
        "### 8. **Using `else` Block**\n",
        "The `else` block executes only if no exceptions occur in the `try` block.\n",
        "\n",
        "#### When to use:\n",
        "- When you have code that should only run **if no exceptions were raised**. This makes your intentions clear and keeps your code cleaner."
      ]
    },
    {
      "cell_type": "code",
      "execution_count": null,
      "metadata": {
        "id": "MQw_jtvH3IO_"
      },
      "outputs": [],
      "source": [
        "def divide_numbers():\n",
        "    try:\n",
        "        a = int(input(\"Enter the numerator: \"))\n",
        "        b = int(input(\"Enter the denominator: \"))\n",
        "        result = a / b\n",
        "    except ZeroDivisionError:\n",
        "        print(\"You cannot divide by zero\")\n",
        "    else:\n",
        "        print(f\"Division successful: {result}\")\n",
        "\n",
        "divide_numbers()\n"
      ]
    },
    {
      "cell_type": "markdown",
      "source": [
        "### 9. **Using `raise` and Handling a ValueError Exception**\n",
        "\n",
        "- Custom Age Validation: Handling Invalid Input with Python Exceptions"
      ],
      "metadata": {
        "id": "1b2a34lZPct4"
      }
    },
    {
      "cell_type": "code",
      "source": [
        "def validate_age(age):\n",
        "    if age < 0:\n",
        "        raise ValueError(\"Age cannot be negative\")  # Raise exception\n",
        "    print(\"Age is valid\")\n",
        "\n",
        "try:\n",
        "    validate_age(-5)  # This will trigger the exception\n",
        "except ValueError as e:\n",
        "    print(f\"Error: {e}\")  # Handle the exception"
      ],
      "metadata": {
        "id": "Z1IEXUY7PdSN"
      },
      "execution_count": null,
      "outputs": []
    }
  ],
  "metadata": {
    "kernelspec": {
      "display_name": "Python 3",
      "language": "python",
      "name": "python3"
    },
    "language_info": {
      "codemirror_mode": {
        "name": "ipython",
        "version": 3
      },
      "file_extension": ".py",
      "mimetype": "text/x-python",
      "name": "python",
      "nbconvert_exporter": "python",
      "pygments_lexer": "ipython3",
      "version": "3.12.8"
    },
    "colab": {
      "provenance": []
    }
  },
  "nbformat": 4,
  "nbformat_minor": 0
}