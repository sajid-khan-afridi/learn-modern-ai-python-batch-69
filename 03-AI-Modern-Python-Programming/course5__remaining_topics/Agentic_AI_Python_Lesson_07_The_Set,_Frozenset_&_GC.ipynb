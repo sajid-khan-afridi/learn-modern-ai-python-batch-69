{
  "cells": [
    {
      "cell_type": "markdown",
      "source": [
        "<font color=\"#a9a56c\" size=2> **@Author: Arif Kasim Rozani - (Team Operation Badar)** </font>"
      ],
      "metadata": {
        "id": "38_QpUXJOAII"
      }
    },
    {
      "cell_type": "markdown",
      "metadata": {
        "id": "ElzHttv1PQ6O"
      },
      "source": [
        "# **The Set Data Type**\n",
        "----\n",
        "\n",
        "Set is one of `4 built-in data types` in Python used to store collections of data, the other 3 are **`List, Tuple, and Dictionary`**, all with different qualities and usage.\n",
        "\n",
        "A set is:\n",
        "  - **unordered**\n",
        "  - **unchangeable**\n",
        "  - **unindexed**\n",
        "\n",
        "An object cannot appear more than once in a set, whereas in List and Tuple, same object can appear more than once.\n",
        "\n"
      ]
    },
    {
      "cell_type": "code",
      "source": [
        "# unique elements\n",
        "my_set = {1,2,3,4,4,5,6,4}\n",
        "print(my_set)"
      ],
      "metadata": {
        "id": "rBBw5bavLK3R"
      },
      "execution_count": null,
      "outputs": []
    },
    {
      "cell_type": "code",
      "source": [
        "# # --------------changes---------------------\n",
        "[i for i in dir(my_set) if '__' not in i]"
      ],
      "metadata": {
        "id": "q1ZmIB6a4ZVA"
      },
      "execution_count": null,
      "outputs": []
    },
    {
      "cell_type": "code",
      "source": [
        "# # --------------changes---------------------\n",
        "# Unordered elements\n",
        "# Creating a set with numbers\n",
        "my_set = {123, 452, 5, 6, 202}\n",
        "print(my_set)\n"
      ],
      "metadata": {
        "id": "LF-Nl2zQ8OUM"
      },
      "execution_count": null,
      "outputs": []
    },
    {
      "cell_type": "code",
      "source": [
        "# # --------------changes---------------------\n",
        "# Unindexed elements\n",
        "# Creating a set with fruit names\n",
        "fruits = {\"apple\", \"banana\", \"cherry\"}\n",
        "# Trying to access the first element (this will cause an error)\n",
        "# print(fruits[0])  # Uncommenting this line will raise a TypeError\n"
      ],
      "metadata": {
        "id": "CuyLT2l38tmR"
      },
      "execution_count": 4,
      "outputs": []
    },
    {
      "cell_type": "code",
      "source": [
        "# # --------------changes---------------------\n",
        "# unchanged elements\n",
        "#------- Mutable Sets:-------------\n",
        "# Create a set of numbers\n",
        "numbers = {1, 2, 3}\n",
        "print(\"Original set:\", numbers)\n",
        "\n",
        "# Adding an element (allowed)\n",
        "numbers.add(4)\n",
        "print(\"After adding 4:\", numbers)\n",
        "\n",
        "# Removing an element (allowed)\n",
        "numbers.remove(2)\n",
        "print(\"After removing 2:\", numbers)\n",
        "\n",
        "# Attempting to modify an element in place (not allowed)\n",
        "try:\n",
        "    # This line tries to change an element directly, but since sets are unindexed,\n",
        "    # it raises a TypeError.\n",
        "    numbers[0] = 10\n",
        "except TypeError as e:\n",
        "    print(\"Error when trying to modify an element:\", e)"
      ],
      "metadata": {
        "id": "TKDnJK4w_FGD"
      },
      "execution_count": null,
      "outputs": []
    },
    {
      "cell_type": "code",
      "source": [
        "# # --------------changes---------------------\n",
        "#\n",
        "#------- Set is Mutable :-------------\n",
        "# create set variable using set() method\n",
        "names : list = [\"Ahmad\",\"Kashif\",\"Asim\"]\n",
        "my_set = set(names)\n",
        "my_set.add(\"Ali\")\n",
        "print(my_set)"
      ],
      "metadata": {
        "id": "rruk24V568nW"
      },
      "execution_count": null,
      "outputs": []
    },
    {
      "cell_type": "code",
      "source": [
        "# # --------------changes---------------------\n",
        "#\n",
        "#------- Frozensets Immutable :-------------\n",
        "\n",
        "# Creating an immutable frozenset\n",
        "frozen = frozenset([1, 2, 3])\n",
        "# frozen.add(4)  # Uncommenting this line will raise an AttributeError because frozensets cannot be changed\n",
        "print(frozen)\n"
      ],
      "metadata": {
        "id": "SGG3FibkCpHN"
      },
      "execution_count": null,
      "outputs": []
    },
    {
      "cell_type": "code",
      "execution_count": null,
      "metadata": {
        "id": "ZvbT0hJ-LADm"
      },
      "outputs": [],
      "source": [
        "my_set: set = {123, 452, 5, 6}\n",
        "my_set2: set = set([123, 452, 5, 6])\n",
        "print(\"my_set            = \", my_set)\n",
        "print(\"my_set2           = \", my_set2)\n",
        "print(\"type(my_set)      = \", type(my_set))\n",
        "print(\"type(my_set2)     = \", type(my_set2))\n",
        "print(\"my_set == my_set2 = \", my_set == my_set2)"
      ]
    },
    {
      "cell_type": "markdown",
      "metadata": {
        "id": "pNhsvX1LUZb4"
      },
      "source": [
        "###Holds only Immutable Objects\n",
        "----\n",
        "\n",
        "A set can store only immutable objects such as number `(int, float, complex or bool), string or tuple`. If you try to put a *list or a dictionary* in the set collection, Python raises a TypeError."
      ]
    },
    {
      "cell_type": "markdown",
      "source": [
        "Lets check set if it can hold mutable object like **`list[]`**"
      ],
      "metadata": {
        "id": "q0VvZmJKMvIq"
      }
    },
    {
      "cell_type": "code",
      "source": [
        "my_set = {[123, 452, 5, 6]} # TypeError: unhashable type: 'list'\n",
        "print(my_set)"
      ],
      "metadata": {
        "id": "WGtIbCgjMk67"
      },
      "execution_count": null,
      "outputs": []
    },
    {
      "cell_type": "markdown",
      "source": [
        "### It can hold multiple data types at once."
      ],
      "metadata": {
        "id": "jYalnGVrNQUJ"
      }
    },
    {
      "cell_type": "code",
      "execution_count": null,
      "metadata": {
        "id": "2bMzW0h4U4XY"
      },
      "outputs": [],
      "source": [
        "multi_type_set: set = {7, 9.0, False, True, \"Hello! World\", (1,5,9,'hi') }\n",
        "print(multi_type_set)"
      ]
    },
    {
      "cell_type": "markdown",
      "metadata": {
        "id": "-CiR-y34SQGa"
      },
      "source": [
        "##The set is **unordered**\n",
        "----\n",
        "Note that items in the set collection may not follow the same order in which they are entered. The position of items is optimized by Python to perform operations over set as defined in mathematics.\n"
      ]
    },
    {
      "cell_type": "code",
      "execution_count": null,
      "metadata": {
        "id": "TPR9EMVQSXLh"
      },
      "outputs": [],
      "source": [
        "set2: set = {'Java', 'Python', 'JavaScript', 'java'}\n",
        "print(set2)"
      ]
    },
    {
      "cell_type": "markdown",
      "source": [
        "\"*Python sets are unordered collections, but internally, elements are stored based on their hash values. However, this internal structure is not predictable or stable across operations*\".\n",
        "\n",
        "We will dive into the details of hashing later in this tutorial."
      ],
      "metadata": {
        "id": "K8c6VAYLbhej"
      }
    },
    {
      "cell_type": "markdown",
      "metadata": {
        "id": "znyxviVbXwq0"
      },
      "source": [
        "##The set is **Unchangeable**\n",
        "----\n",
        "When we say that set items are unchangeable, it means that you cannot modify an individual item in a set directly. However, you can add or remove items from the set.\n",
        "\n",
        "Here is an example to illustrate this concept:\n",
        "\n",
        "```python\n",
        "# Create a set\n",
        "my_set: set = {1, 2, 3, 4, 5}\n",
        "print(my_set)  # Output: {1, 2, 3, 4, 5}\n",
        "\n",
        "# Try to change an item (this will raise an error)\n",
        "try:\n",
        "    my_set[0] = 10  # Sets are unordered, so indexing doesn't work\n",
        "except TypeError as e:\n",
        "    print(e)  # Output: 'set' object does not support item assignment\n",
        "```\n",
        "\n",
        "  - set's are unordered, so indexing doesn't work ~my_set[0]~\n",
        "  - set object does not support item assignment ~my_set[0] = 10~"
      ]
    },
    {
      "cell_type": "code",
      "execution_count": null,
      "metadata": {
        "colab": {
          "base_uri": "https://localhost:8080/"
        },
        "id": "zjayfy8bcm9y",
        "outputId": "66bfa9ff-b511-4607-f15d-3220e417180f"
      },
      "outputs": [
        {
          "output_type": "stream",
          "name": "stdout",
          "text": [
            "{1, 2, 3, 4, 5}\n",
            "*TypeError*  ABC :  'set' object does not support item assignment\n",
            "Program execution continues as normal because we handle the error condition in try-except block\n"
          ]
        }
      ],
      "source": [
        "# Create a set\n",
        "my_set: set = {1, 2, 3, 4, 5}\n",
        "print(my_set)  # Output: {1, 2, 3, 4, 5}\n",
        "\n",
        "# Try to change an item (this will raise an error)\n",
        "try:\n",
        "    my_set[0] = 10  # Sets are unordered, so indexing doesn't work\n",
        "except TypeError as e:\n",
        "    print(\"*TypeError*  ABC : \", e)  # Output: 'set' object does not support item assignment\n",
        "\n",
        "print(\"Program execution continues as normal because we handle the error condition in try-except block\")"
      ]
    },
    {
      "cell_type": "markdown",
      "metadata": {
        "id": "DqSz0CaqdJ5I"
      },
      "source": [
        "As you can see, you can't change an individual item in a set directly. Instead, you can remove the item and add a new one with the updated value. Alternatively, you can use the `discard()` or `remove()` methods to remove items and the `add()` or `update()` methods to add new items."
      ]
    },
    {
      "cell_type": "code",
      "execution_count": null,
      "metadata": {
        "colab": {
          "base_uri": "https://localhost:8080/"
        },
        "id": "7lCgxTR6dPyI",
        "outputId": "8beb5cf6-c6a8-4657-92d7-8696a325ad9a"
      },
      "outputs": [
        {
          "output_type": "stream",
          "name": "stdout",
          "text": [
            "{1, 2, 3, 4, 5, 'a', 'A'}\n",
            "{1, 2, 4, 5, 'a'}\n"
          ]
        }
      ],
      "source": [
        "my_set: set = {1, 2, 3, 4, 5, 'A', 'a'}\n",
        "print(my_set)\n",
        "# Remove an item\n",
        "my_set.remove(3)\n",
        "my_set.remove('A')\n",
        "print(my_set)"
      ]
    },
    {
      "cell_type": "markdown",
      "source": [
        "**difference between remove() and discard()**"
      ],
      "metadata": {
        "id": "C5ljKktuJtFD"
      }
    },
    {
      "cell_type": "code",
      "source": [
        "#\n",
        "print(my_set)\n",
        "my_set.discard(6)\n",
        "# my_set.remove(6)"
      ],
      "metadata": {
        "colab": {
          "base_uri": "https://localhost:8080/"
        },
        "id": "G2zZLN7rINPK",
        "outputId": "49a90a8d-386d-4d9c-f3ed-8593e0c7d3b1"
      },
      "execution_count": null,
      "outputs": [
        {
          "output_type": "stream",
          "name": "stdout",
          "text": [
            "{1, 2, 4, 5, 'a'}\n"
          ]
        }
      ]
    },
    {
      "cell_type": "code",
      "execution_count": null,
      "metadata": {
        "colab": {
          "base_uri": "https://localhost:8080/"
        },
        "id": "zl0x_zEJdgJ4",
        "outputId": "8f03c79d-0d4d-47cc-847e-a6364dcacf06"
      },
      "outputs": [
        {
          "output_type": "stream",
          "name": "stdout",
          "text": [
            "{1, 2, 4, 5, 'a', 6}\n"
          ]
        }
      ],
      "source": [
        "my_set.add(6)\n",
        "print(my_set)  # Output: {1, 2, 4, 5, 6}"
      ]
    },
    {
      "cell_type": "code",
      "execution_count": null,
      "metadata": {
        "id": "SoPzoq0W5sjd",
        "colab": {
          "base_uri": "https://localhost:8080/"
        },
        "outputId": "fb77f628-bc9b-4538-83da-1be6417618cb"
      },
      "outputs": [
        {
          "output_type": "stream",
          "name": "stdout",
          "text": [
            "my_set =  {1, 2, 3, 4, 5, 'a', 'A'}\n",
            "None\n",
            "After: my_set =  {1, 2, 3, 4, 5, 'a', 'A'}\n",
            "After removing multiple elements: my_set =  {4, 5, 'a', 'A'}\n"
          ]
        }
      ],
      "source": [
        "my_set: set = {1, 2, 3, 4, 5, 'A', 'a'}\n",
        "print(\"my_set = \", my_set)\n",
        "\n",
        "# discard() only removes a single element.\n",
        "# {1, 2, 3} is a set itself, not an element within my_set.\n",
        "# Therefore, discard does not find it and returns None, without modifying the set.\n",
        "print(my_set.discard({1,2,3}))\n",
        "\n",
        "\n",
        "print(\"After: my_set = \", my_set) # return None\n",
        "\n",
        "# To remove multiple elements, iterate and discard each one individually:\n",
        "for item in {1, 2, 3}:\n",
        "    my_set.discard(item)\n",
        "\n",
        "print(\"After removing multiple elements: my_set = \", my_set)"
      ]
    },
    {
      "cell_type": "markdown",
      "source": [
        "**Use difference_update() method to remove multiple element at once.**"
      ],
      "metadata": {
        "id": "wPaPLpITST1Q"
      }
    },
    {
      "cell_type": "code",
      "execution_count": null,
      "metadata": {
        "id": "SwwadfPUd1lH"
      },
      "outputs": [],
      "source": [
        "my_set: set = {1, 2, 3, 4, 5, 'A', 'a'}\n",
        "print(\"Before: my_set = \", my_set)\n",
        "my_set.difference_update({1, 5, 3, 'A'})\n",
        "print(\"After:  my_set = \", my_set)"
      ]
    },
    {
      "cell_type": "markdown",
      "source": [
        "**Use update() method to add multiple element at once.**"
      ],
      "metadata": {
        "id": "2CGh7cNCJ-jO"
      }
    },
    {
      "cell_type": "code",
      "execution_count": null,
      "metadata": {
        "id": "oreM1Nu7d5UH"
      },
      "outputs": [],
      "source": [
        "print(\"Before: \", my_set)\n",
        "# Add multiple items\n",
        "my_set.update([7, 8, 9, \"Hello\"])\n",
        "print(my_set)  # Output: {4, 5, 6, 7, 8, 9}"
      ]
    },
    {
      "cell_type": "markdown",
      "source": [
        "**Using the union() method or | operator:**\n",
        "\n",
        "In Python, the `union()` method or the `|` operator is used to combine two sets into a single set. This operation returns a new set containing all unique elements from both sets.\n",
        "\n",
        "**Using the union() method:**\n",
        "\n",
        "The `union()` method is a built-in method of the set data type in Python. It takes an iterable (such as a set, list, or tuple) as an argument and returns a new set containing all unique elements from both the original set and the iterable."
      ],
      "metadata": {
        "id": "HwbXiIUKVBMB"
      }
    },
    {
      "cell_type": "code",
      "source": [
        "my_set: set   = {1, 2, 3, 5}\n",
        "my_set_2: set = {1, 5, 6, 7}\n",
        "\n",
        "\n",
        "\n",
        "my_set3: set  = my_set.union(my_set_2)\n",
        "print(my_set3)"
      ],
      "metadata": {
        "id": "BvIyS7tqTAS0"
      },
      "execution_count": null,
      "outputs": []
    },
    {
      "cell_type": "code",
      "source": [
        "# # --------------changes---------------------\n",
        "##  iterable can be union in set\n",
        "my_list = ['a', 'b', 'c']\n",
        "my_set3: set  = my_set.union(my_set_2, my_list)\n",
        "print(my_set3)"
      ],
      "metadata": {
        "id": "06rlCBdq961U"
      },
      "execution_count": null,
      "outputs": []
    },
    {
      "cell_type": "markdown",
      "source": [
        "**Using the | operator:**\n",
        "\n",
        "The `|` operator is a binary operator that can be used to combine two sets into a single set. It has the same effect as the `union()` method, but is often more concise and readable."
      ],
      "metadata": {
        "id": "EqFciQpGRgGC"
      }
    },
    {
      "cell_type": "code",
      "source": [
        "my_set: set   = {1, 2, 3, 5}\n",
        "my_set_2: set = {1, 5, 6,4, 7}\n",
        "\n",
        "my_set3: set  = my_set | my_set_2 # | operator\n",
        "print(my_set3)"
      ],
      "metadata": {
        "id": "NOSJg-BXU4zC"
      },
      "execution_count": null,
      "outputs": []
    },
    {
      "cell_type": "markdown",
      "source": [
        "**Key aspects of union() and | operator:**\n",
        "\n",
        "1. **Unique elements**: The resulting set contains only unique elements from both sets.\n",
        "\n",
        "2. **Order does not matter**: The order in which the sets are combined does not affect the result.\n",
        "3. **Original sets remain unchanged**: The original sets are not modified by the union operation."
      ],
      "metadata": {
        "id": "B8lh8_vERqRS"
      }
    },
    {
      "cell_type": "code",
      "source": [
        "# # --------------changes---------------------\n",
        "# Order Does Not Matter\n",
        "\n",
        "set1 = {10, 20}\n",
        "set2 = {30, 40}\n",
        "\n",
        "result = set1.union(set2)\n",
        "print(\"Union result:\", result)  # The output order can vary, e.g., {40, 10, 20, 30}\n"
      ],
      "metadata": {
        "colab": {
          "base_uri": "https://localhost:8080/"
        },
        "id": "hTfCinLvSQxu",
        "outputId": "d2153abc-fbe9-453c-9df5-08bfbd84652d"
      },
      "execution_count": null,
      "outputs": [
        {
          "output_type": "stream",
          "name": "stdout",
          "text": [
            "Union result: {40, 10, 20, 30}\n"
          ]
        }
      ]
    },
    {
      "cell_type": "markdown",
      "metadata": {
        "id": "UOcDC2vLeiZo"
      },
      "source": [
        "### **Unique Elements**\n",
        "----\n",
        "\n",
        "Note that sets only store unique elements, so if you try to add a duplicate item, it will be ignored. For example:"
      ]
    },
    {
      "cell_type": "code",
      "execution_count": null,
      "metadata": {
        "id": "xBRG0FQKeyWv"
      },
      "outputs": [],
      "source": [
        "my_set: set = {1,2,3,4,5, \"Hello! World\"}\n",
        "print(\"Before : \", my_set)\n",
        "\n",
        "my_set.add(2)\n",
        "my_set.add(\"Hello! World\")\n",
        "\n",
        "print(\"After  : \", my_set)"
      ]
    },
    {
      "cell_type": "markdown",
      "metadata": {
        "id": "wAWDfdPsgPI2"
      },
      "source": [
        "`discard()` and `remove()` methods\n",
        "----\n",
        "In Python, both `discard()` and `remove()` methods are used to remove items from a set. However, there is a key difference between the two methods:\n",
        "\n",
        "1. **`remove()` method:**\n",
        "   - The `remove()` method removes the specified item from the set.\n",
        "   - If the item is not found in the set, it raises a `KeyError`.\n",
        "   - This method is suitable when you are sure that the item exists in the set.\n",
        "\n",
        "2. **`discard()` method:**\n",
        "   - The `discard()` method also removes the specified item from the set.\n",
        "   - However, if the item is not found in the set, it does not raise any error. It simply does nothing.\n",
        "   - This method is suitable when you are not sure if the item exists in the set.\n",
        "\n",
        "Here's an example to illustrate the difference:"
      ]
    },
    {
      "cell_type": "code",
      "execution_count": null,
      "metadata": {
        "id": "Ue5ljHYDgjIu"
      },
      "outputs": [],
      "source": [
        "# Lets create an error to understand\n",
        "my_set: set = {1,2,3}\n",
        "\n",
        "my_set.remove(4)\n",
        "print(my_set)"
      ]
    },
    {
      "cell_type": "code",
      "source": [
        "print(\"Before pop() = \", my_set)\n",
        "\n",
        "#When you call `my_set.pop()`, it removes and returns an arbitrary element from the set.\n",
        "#Since sets are unordered data structures, the element that is removed and returned is ----not predictable----.\n",
        "my_set.pop()\n",
        "print(\"After pop() = \", my_set)\n"
      ],
      "metadata": {
        "id": "x2jBVHOFU-_f"
      },
      "execution_count": null,
      "outputs": []
    },
    {
      "cell_type": "code",
      "source": [
        "my_set.pop()\n",
        "print(\"After pop() = \", my_set)"
      ],
      "metadata": {
        "id": "pJ8IyVWN-nBn"
      },
      "execution_count": null,
      "outputs": []
    },
    {
      "cell_type": "code",
      "source": [
        "my_set.pop()\n",
        "print(\"After pop() = \", my_set)"
      ],
      "metadata": {
        "id": "7C91oRWL-wFk"
      },
      "execution_count": null,
      "outputs": []
    },
    {
      "cell_type": "code",
      "execution_count": null,
      "metadata": {
        "colab": {
          "base_uri": "https://localhost:8080/"
        },
        "id": "HQsESdqyg6Km",
        "outputId": "2a6b3508-bae3-4282-851c-68c908aad41f"
      },
      "outputs": [
        {
          "output_type": "stream",
          "name": "stdout",
          "text": [
            "None\n",
            "{1, 2, 3}\n"
          ]
        }
      ],
      "source": [
        "my_set = {1,2,3}\n",
        "\n",
        "# # --------------changes---------------------\n",
        "print(my_set.discard(4))\n",
        "\n",
        "\n",
        "my_set.discard(4) # method\n",
        "print(my_set)"
      ]
    },
    {
      "cell_type": "markdown",
      "metadata": {
        "id": "QK5WKJishiJN"
      },
      "source": [
        "In summary:\n",
        "\n",
        "- Use `remove()` when you are sure that the item exists in the set and you want to handle the error if it does not exist.\n",
        "- Use `discard()` when you are not sure if the item exists in the set and you want to avoid raising an error if it does not exist.\n",
        "\n",
        "When to use each method:\n",
        "\n",
        "- **`remove()`**:\n",
        "  - When working with small sets where performance is not a concern.\n",
        "  - When you need to handle the error if the item does not exist.\n",
        "- **`discard()`**:\n",
        "  - When working with large sets where performance is a concern.\n",
        "  - When you do not care about handling the error if the item does not exist.\n",
        "\n",
        "In general, if you are not sure which method to use, `discard()` is a safe choice as it does not raise an error if the item does not exist."
      ]
    },
    {
      "cell_type": "markdown",
      "metadata": {
        "id": "8NSPYz7oh4qU"
      },
      "source": [
        "## **The Inner Working of SET (Advance Topic)**\n",
        "----\n",
        "\n",
        "##The Hashing\n",
        "  - Hashing is a mechanism in computer science which enables quicker searching of objects in computer's memory. Only immutable objects are hashable.\n",
        "\n",
        "  - Immutable data types in Python come with a built-in method for computing their hash value, which is called __hash__.\n",
        "\n",
        "  - A hash table is a data structure that can map keys to values and that implements a hash function to compute the index to an array of buckets or slots"
      ]
    },
    {
      "cell_type": "code",
      "execution_count": null,
      "metadata": {
        "id": "lv-fKYDQpXVx"
      },
      "outputs": [],
      "source": [
        "# # --------------changes---------------------\n",
        "a: str = \"H\"\n",
        "b: str = \"H\"\n",
        "\n",
        "print(\"id(a) = \", id(a))\n",
        "print(\"id(b) = \", id(b))"
      ]
    },
    {
      "cell_type": "code",
      "source": [
        "# # --------------changes---------------------\n",
        "a: str = \"Hello! World\"\n",
        "b: str = \"Hello! World\"\n",
        "\n",
        "\n",
        "print(\"id(a) = \", id(a))\n",
        "print(\"id(b) = \", id(b))"
      ],
      "metadata": {
        "id": "iez72mpx61xM"
      },
      "execution_count": null,
      "outputs": []
    },
    {
      "cell_type": "code",
      "source": [
        "# # --------------changes---------------------\n",
        "## Longer or more complex strings\n",
        "a = \"5qqqqqqqq!\"\n",
        "b = \"5qqqqqqqq!\"\n",
        "print(id(a))\n",
        "print(id(b))"
      ],
      "metadata": {
        "colab": {
          "base_uri": "https://localhost:8080/"
        },
        "id": "BLgdDPT-5-wj",
        "outputId": "8b85dad2-7c4c-45b4-b9cd-2e710719e7e4"
      },
      "execution_count": 22,
      "outputs": [
        {
          "output_type": "stream",
          "name": "stdout",
          "text": [
            "138758541159984\n",
            "138758541159600\n"
          ]
        }
      ]
    },
    {
      "cell_type": "code",
      "execution_count": 21,
      "metadata": {
        "colab": {
          "base_uri": "https://localhost:8080/"
        },
        "id": "-4C9L3k4pvkX",
        "outputId": "61d6eee6-2f6f-49d3-8428-d53dde24bd34"
      },
      "outputs": [
        {
          "output_type": "stream",
          "name": "stdout",
          "text": [
            "hash(a) =  -1283224428022645246\n",
            "hash(b) =  -1283224428022645246\n",
            "-----------\n",
            "hash(a)      =  -1283224428022645246\n",
            "a.__hash__() =  -1283224428022645246\n"
          ]
        }
      ],
      "source": [
        "# # --------------changes---------------------\n",
        "print(\"hash(a) = \", hash(a))\n",
        "print(\"hash(b) = \", hash(b))\n",
        "print(\"-----------\")\n",
        "print(\"hash(a)      = \",hash(a))\n",
        "print(\"a.__hash__() = \", a.__hash__()) # __dunder__()"
      ]
    },
    {
      "cell_type": "markdown",
      "metadata": {
        "id": "35BOSmOXqI1V"
      },
      "source": [
        "###Important Note:\n",
        "----\n",
        "  - Even if a set only allows `immutable items`, the set itself is **`mutable`**. Hence, add/delete/update operations are permitted on a set object\n",
        "\n",
        "  - In Python, a dictionary **`key`** must be an **`immutable`** object, meaning its value cannot be changed after it's created. This is because dictionaries use a hash table to store key-value pairs, and mutable objects cannot be hashed.\n",
        "\n",
        "  - Lets pass the set as key in dictionary which only accept immutable item as a key."
      ]
    },
    {
      "cell_type": "code",
      "source": [
        "# TypeError: unhashable type: 'set'\n",
        "my_set: set   = {1,2,3,4,5, \"Hello! World\"}\n",
        "# my_set: set   = \"k\"\n",
        "my_dict: dict = {my_set: \"Hello! World\"} # dictionary only accept immutable objects as a key\n",
        "print(my_dict)"
      ],
      "metadata": {
        "colab": {
          "base_uri": "https://localhost:8080/"
        },
        "id": "OHCdl2FHbqgu",
        "outputId": "4d4ffa46-9801-4535-9ea7-c5271e555105"
      },
      "execution_count": null,
      "outputs": [
        {
          "output_type": "stream",
          "name": "stdout",
          "text": [
            "{'k': 'Hello! World'}\n"
          ]
        }
      ]
    },
    {
      "cell_type": "markdown",
      "source": [
        "## **How Hashing Determines Internal Storage in Sets**\n",
        "\n",
        "In Python, sets are implemented using hash tables (specifically, dictionaries under the hood). This allows O(1) average-time complexity for lookups, insertions, and deletions. However, the way elements are stored in memory depends on hashing, which can lead to unpredictable ordering.\n",
        "\n",
        "## **Key Points About Hashing in Sets:**\n",
        "\n",
        "\n",
        "1. Each element in a set is hashed to determine its storage position.\n",
        "\n",
        "2.  The internal order is based on hash values, not insertion order.\n",
        "3.  The order can change dynamically when elements are added or removed."
      ],
      "metadata": {
        "id": "w4eFy3Keh8yu"
      }
    },
    {
      "cell_type": "markdown",
      "source": [
        "## **Understanding Rehashing and Changing Order**\n",
        "\n",
        "### **What is Rehashing?**\n",
        "\n",
        "* Rehashing occurs when the underlying hash table needs to expand due to increasing elements.\n",
        "\n",
        "* Python dynamically resizes the hash table when it reaches a certain load factor (a ratio of stored elements to available slots).\n",
        "\n",
        "* During rehashing, all elements get redistributed, meaning their storage positions can change, even if no explicit sorting is done.\n",
        "\n",
        "### **Example: How Set Order Can Change Dynamically**"
      ],
      "metadata": {
        "id": "eTqJRhU2iMMl"
      }
    },
    {
      "cell_type": "code",
      "source": [
        "# Initial set\n",
        "my_set = {10, 3, 5, 8}\n",
        "print(my_set)  # Output may be {8, 10, 3, 5} or another order\n",
        "\n",
        "# Adding an element\n",
        "my_set.add(20)\n",
        "print(my_set)  # The order might change unpredictably\n",
        "\n",
        "# Removing an element\n",
        "my_set.remove(10)\n",
        "print(my_set)  # Again, the order can change\n"
      ],
      "metadata": {
        "colab": {
          "base_uri": "https://localhost:8080/"
        },
        "id": "rOoFA-3sierd",
        "outputId": "24cfeb3e-3c28-4894-f4b8-12e5f3c2e684"
      },
      "execution_count": null,
      "outputs": [
        {
          "output_type": "stream",
          "name": "stdout",
          "text": [
            "{8, 10, 3, 5}\n",
            "{3, 5, 8, 10, 20}\n",
            "{3, 5, 8, 20}\n"
          ]
        }
      ]
    },
    {
      "cell_type": "markdown",
      "source": [
        "### **Why Does the Order Change?**\n",
        "\n",
        "* New elements may trigger rehashing, leading to reallocation of storage.\n",
        "\n",
        "* Removing an element can also affect the layout, especially if rehashing is triggered due to shrinking.\n",
        "\n",
        "### **Does This Mean Sets Are Ordered Internally?**\n",
        "🚫 No.\n",
        "\n",
        "Even though elements are stored based on their hash values, this does not mean sets are ordered in the way lists or tuples are. Order can change unexpectedly, so it’s unreliable for ordered operations like indexing."
      ],
      "metadata": {
        "id": "vPVsfZrgiyY0"
      }
    },
    {
      "cell_type": "markdown",
      "source": [
        "## **Conclusion**\n",
        "\n",
        "* Hashing determines where elements are stored, but this structure is not stable across operations.\n",
        "\n",
        "* Adding or removing elements can trigger rehashing, which causes internal storage reallocation and an unpredictable order.\n"
      ],
      "metadata": {
        "id": "c_EgzqOVkSgD"
      }
    },
    {
      "cell_type": "markdown",
      "metadata": {
        "id": "lu-ejrgwv7mp"
      },
      "source": [
        "# **The Frozenset**\n",
        "----\n",
        "In Python, a `frozenset` is an `immutable` (unchangeable) version of a set. It is a collection of unique elements, just like a set, but it cannot be modified after it is created.\n",
        "\n",
        "Here are the key features of a `frozenset`:\n",
        "\n",
        "1. **Immutable**: A `frozenset` cannot be modified after it is created. You cannot add, remove, or change elements in a `frozenset`.\n",
        "2. **Ordered**: Like sets, `frozensets` are unordered in Python versions before 3.7. However, from Python 3.7 onwards, `frozensets` maintain their insertion order, just like sets.\n",
        "3. **Hashable**: `frozensets` are hashable, meaning they can be used as keys in dictionaries or elements in other sets.\n",
        "4. **Unique elements**: A `frozenset` can only contain unique elements, just like a set.\n",
        "\n",
        "Here are the key differences between a `set` and a `frozenset` in Python:\n",
        "\n",
        "1. **Immutability**:\n",
        "   - `set`: Mutable (can be modified after creation)\n",
        "   - `frozenset`: Immutable (cannot be modified after creation)\n",
        "\n",
        "2. **Modification methods**:\n",
        "   - `set`: Supports methods like `add()`, `remove()`, `discard()`, `clear()`, `pop()`, `update()`\n",
        "   - `frozenset`: Does not support any modification methods\n",
        "\n",
        "3. **Hashability**:\n",
        "   - `set`: Not hashable (cannot be used as keys in dictionaries or elements in other sets)\n",
        "   - `frozenset`: Hashable (can be used as keys in dictionaries or elements in other sets)\n",
        "\n",
        "4. **Thread safety**:\n",
        "   - `set`: Not thread-safe (multiple threads can modify the set simultaneously, leading to inconsistencies)\n",
        "   - `frozenset`: Thread-safe (since it's immutable, it's safe to access from multiple threads)\n",
        "\n",
        "5. **Syntax**:\n",
        "   - `set`: Created using the `set()` function or the `{}` syntax (e.g., `my_set = {1, 2, 3}`)\n",
        "   - `frozenset`: Created using the `frozenset()` function (e.g., `my_frozenset = frozenset([1, 2, 3])`)\n",
        "\n",
        "6. **Use cases**:\n",
        "   - `set`: Suitable for situations where you need to frequently add or remove elements (e.g., when filtering data)\n",
        "   - `frozenset`: Suitable for situations where you need an immutable collection (e.g., when using it as a key in a dictionary or as an element in another set)\n",
        "\n",
        "\n",
        "   Here's a summary of the differences:\n",
        "\n",
        "| Feature | Set | Frozenset |\n",
        "| --- | --- | --- |\n",
        "| Immutability | Mutable | Immutable |\n",
        "| Modification methods | Yes | No |\n",
        "| Hashability | No | Yes |\n",
        "| Thread safety | No | Yes |\n",
        "| Syntax | `set()` or `{}` | `frozenset()` |\n",
        "| Use cases | Frequent modifications | Immutable collection |"
      ]
    },
    {
      "cell_type": "code",
      "execution_count": null,
      "metadata": {
        "colab": {
          "base_uri": "https://localhost:8080/"
        },
        "id": "xvsuFrLAxS0P",
        "outputId": "44afb4fa-dfc6-4ce0-b6ed-8950af698f9d"
      },
      "outputs": [
        {
          "output_type": "stream",
          "name": "stdout",
          "text": [
            "my_frozenset  =  frozenset({1, 2, 3, 'Hello! World'})\n",
            "my_frozenset2 =  frozenset({1, 2, 3, 'Hello! World'})\n"
          ]
        }
      ],
      "source": [
        "my_frozenset: frozenset = frozenset([1,2,3, \"Hello! World\"])\n",
        "print(\"my_frozenset  = \", my_frozenset)\n",
        "\n",
        "my_set: set = {1,2,3, \"Hello! World\"}\n",
        "my_frozenset2: frozenset = frozenset(my_set)\n",
        "print(\"my_frozenset2 = \",my_frozenset2)"
      ]
    },
    {
      "cell_type": "markdown",
      "metadata": {
        "id": "sKRwmvouzgGN"
      },
      "source": [
        "Set Methods\n",
        "----\n"
      ]
    },
    {
      "cell_type": "code",
      "execution_count": null,
      "metadata": {
        "colab": {
          "base_uri": "https://localhost:8080/"
        },
        "id": "Is00lInyzpA9",
        "outputId": "a8fe7765-4c23-4cb9-8bd2-09a225a54ab0"
      },
      "outputs": [
        {
          "output_type": "stream",
          "name": "stdout",
          "text": [
            "difference()           =  {4, 5, 6}\n",
            "intersection()         =  {1, 2, 3, 'Hello! World'}\n",
            "union()                =  {1, 2, 3, 4, 5, 6, 8, 9, 'Hello! World'}\n",
            "symmetric_difference() =  {4, 5, 6, 8, 9}\n",
            "isdisjoint()           =  False\n",
            "issuperset()           =  True\n",
            "issuperset()           =  False\n",
            "issubset()             =  True\n",
            "issubset()             =  False\n"
          ]
        }
      ],
      "source": [
        "my_set: set  = {1,2,3, \"Hello! World\", 4,5,6}\n",
        "my_set2: set = {1,2,3, \"Hello! World\", 8,9}\n",
        "\n",
        "print(\"difference()           = \", my_set.difference(my_set2)) #Returns a set containing the difference between two or more sets\n",
        "print(\"intersection()         = \", my_set.intersection(my_set2))#Return a set that contains the items that exist in both set\n",
        "print(\"union()                = \", my_set.union(my_set2))#Return a set that contains all items from both sets, duplicates are excluded:\n",
        "print(\"symmetric_difference() = \", my_set.symmetric_difference(my_set2))#Return a set that contains only unique items from both sets\n",
        "\n",
        "#my_set = {55,66}\n",
        "\n",
        "print(\"isdisjoint()           = \", my_set.isdisjoint(my_set2))#Return True if no items in set my_set2 is present in set my_set\n",
        "\n",
        "my_set2 = {1,2,3, \"Hello! World\"}\n",
        "print(\"issuperset()           = \", my_set.issuperset(my_set2))#Return True if all items in set my_set2 are present in set my_set\n",
        "print(\"issuperset()           = \", my_set2.issuperset(my_set))#Return True if all items in set my_set are present in set my_set2\n",
        "print(\"issubset()             = \", my_set2.issubset(my_set))\n",
        "print(\"issubset()             = \", my_set.issubset(my_set2))"
      ]
    },
    {
      "cell_type": "code",
      "source": [
        "# # --------------changes---------------------\n",
        "my_set: set  = {1,2,3, \"Hello! World\", 4,5,6}\n",
        "my_set2: set = {1,2,3, \"Hello! World\", 8,9}\n",
        "print(\"isdisjoint()           = \", my_set.isdisjoint(my_set2))#Return True if no items in set x is present in set y\n",
        "#                                     x                 y\n",
        "\n",
        "my_set: set  = { 4,5,6}\n",
        "my_set2: set = {1,2,3, \"Hello! World\", 8,9}\n",
        "print(\"isdisjoint()           = \", my_set.isdisjoint(my_set2))#Return True if no items in set x is present in set y\n",
        "#                                     x                 y\n",
        "\n",
        "\n",
        "my_set: set  = {1,2,3, \"Hello! World\", 4,5,6} #---x\n",
        "my_set2 = {1,2,3, \"Hello! World\"}#---y\n",
        "print(\"issuperset()           = \", my_set.issuperset(my_set2))#Return True if all items in set y are present in set x\n",
        "print(\"issubset()             = \", my_set2.issubset(my_set)) # myset2 is the subset of myset"
      ],
      "metadata": {
        "colab": {
          "base_uri": "https://localhost:8080/"
        },
        "id": "CzNTZ4zdQQPB",
        "outputId": "fd8c41dc-5fe2-40ab-eaa2-7c332075a96b"
      },
      "execution_count": null,
      "outputs": [
        {
          "output_type": "stream",
          "name": "stdout",
          "text": [
            "isdisjoint()           =  False\n",
            "isdisjoint()           =  True\n",
            "issuperset()           =  True\n",
            "issubset()             =  True\n"
          ]
        }
      ]
    },
    {
      "cell_type": "code",
      "source": [
        "# prompt: generate examples of all the method of set\n",
        "\n",
        "# Example usage of set methods\n",
        "\n",
        "# Initialize two sets for demonstration\n",
        "set1: set = {1, 2, 3, 4, 5}\n",
        "set2: set = {4, 5, 6, 7, 8}\n",
        "\n",
        "# 1. add(): Adds an element to the set.\n",
        "set1.add(6)\n",
        "print(f\"add(6): {set1}\")  # Output: {1, 2, 3, 4, 5, 6}\n",
        "\n",
        "# 2. clear(): Removes all elements from the set.\n",
        "set_copy: set = set1.copy()\n",
        "set_copy.clear()\n",
        "print(f\"clear(): {set_copy}\")  # Output: set()\n",
        "\n",
        "# 3. copy(): Returns a copy of the set.\n",
        "set_copy: set = set1.copy()\n",
        "print(f\"copy(): {set_copy}\")  # Output: {1, 2, 3, 4, 5, 6}\n",
        "\n",
        "# 4. difference(): Returns a set containing the difference between two or more sets.\n",
        "difference_set: set = set1.difference(set2)\n",
        "print(f\"difference(): {difference_set}\")  # Output: {1, 2, 3}\n",
        "\n",
        "# 5. difference_update(): Removes the items in this set that are also included in another, specified set.\n",
        "set1.difference_update(set2)\n",
        "print(f\"difference_update(): {set1}\")  # Output: {1, 2, 3}\n",
        "set1: set = {1, 2, 3, 4, 5,6} #reset set1\n",
        "\n",
        "# 6. discard(): Remove the specified item.\n",
        "set1.discard(6)\n",
        "print(f\"discard(6): {set1}\")  # Output: {1, 2, 3, 4, 5}\n",
        "\n",
        "# 7. intersection(): Returns a set, that is the intersection of two other sets.\n",
        "intersection_set: set = set1.intersection(set2)\n",
        "print(f\"intersection(): {intersection_set}\")  # Output: {4, 5}\n",
        "\n",
        "# 8. intersection_update(): Removes the items in this set that are not present in other, specified set(s)\n",
        "set1.intersection_update(set2)\n",
        "print(f\"intersection_update(): {set1}\") # Output: {4, 5}\n",
        "set1 = {1, 2, 3, 4, 5,6} #reset set1\n",
        "\n",
        "# 9. isdisjoint(): Returns whether two sets have a intersection or not.\n",
        "print(f\"isdisjoint(): {set1.isdisjoint(set2)}\")  # Output: False\n",
        "print(f\"isdisjoint(): {set1.isdisjoint({9,10})}\") # Output: True\n",
        "\n",
        "# 10. issubset(): Returns whether another set contains this set or not.\n",
        "print(f\"issubset(): {set1.issubset(set2)}\")  # Output: False\n",
        "print(f\"issubset(): {{1,2}}.issubset({set1})\")  # Output: True\n",
        "print(f\"issubset(): {{1,2}}.issubset({{1,2}})\")  # Output: True\n",
        "\n",
        "\n",
        "# 11. issuperset(): Returns whether this set contains another set or not.\n",
        "print(f\"issuperset(): {set1.issuperset(set2)}\")  # Output: False\n",
        "print(f\"issuperset(): {set1.issuperset({1,2})}\")  # Output: True\n",
        "print(f\"issuperset(): {{1,2}}.issuperset({{1,2}})\")  # Output: True\n",
        "\n",
        "# 12. pop(): Removes a random element from the set.\n",
        "removed_element: int = set1.pop()\n",
        "print(f\"pop(): {removed_element}\")  # Output: (random element)\n",
        "print(f\"set after pop(): {set1}\")  # Output: (set without removed_element)\n",
        "set1.add(removed_element)#put back the element for others test\n",
        "\n",
        "# 13. remove(): Removes the specified element. Raises an error if the element is not present.\n",
        "set1.remove(1)\n",
        "print(f\"remove(1): {set1}\")  # Output: {2, 3, 4, 5,6}\n",
        "set1.add(1)#put back the element for others test\n",
        "\n",
        "# 14. symmetric_difference(): Returns a set with the symmetric differences of two sets.\n",
        "symmetric_difference_set: set = set1.symmetric_difference(set2)\n",
        "print(f\"symmetric_difference(): {symmetric_difference_set}\")  # Output: {1, 2, 3, 6, 7, 8}\n",
        "\n",
        "# 15. symmetric_difference_update(): Inserts the symmetric differences from this set and another\n",
        "set1.symmetric_difference_update(set2)\n",
        "print(f\"symmetric_difference_update(): {set1}\")  # Output: {1, 2, 3, 6, 7, 8}\n",
        "set1 = {1, 2, 3, 4, 5,6} #reset set1\n",
        "\n",
        "# 16. union(): Returns a set containing the union of sets.\n",
        "union_set = set1.union(set2)\n",
        "print(f\"union(): {union_set}\")  # Output: {1, 2, 3, 4, 5, 6, 7, 8}\n",
        "\n",
        "# 17. update(): Update the set with the union of this set and others\n",
        "set1.update(set2)\n",
        "print(f\"update(): {set1}\") # Output: {1, 2, 3, 4, 5, 6, 7, 8}\n"
      ],
      "metadata": {
        "colab": {
          "base_uri": "https://localhost:8080/"
        },
        "id": "oKSc6p2Cocrl",
        "outputId": "ce8ae98b-41de-4fb9-b68a-fea4855b91f6"
      },
      "execution_count": null,
      "outputs": [
        {
          "output_type": "stream",
          "name": "stdout",
          "text": [
            "add(6): {1, 2, 3, 4, 5, 6}\n",
            "clear(): set()\n",
            "copy(): {1, 2, 3, 4, 5, 6}\n",
            "difference(): {1, 2, 3}\n",
            "difference_update(): {1, 2, 3}\n",
            "discard(6): {1, 2, 3, 4, 5}\n",
            "intersection(): {4, 5}\n",
            "intersection_update(): {4, 5}\n",
            "isdisjoint(): False\n",
            "isdisjoint(): True\n",
            "issubset(): False\n",
            "issubset(): {1,2}.issubset({1, 2, 3, 4, 5, 6})\n",
            "issubset(): {1,2}.issubset({1,2})\n",
            "issuperset(): False\n",
            "issuperset(): True\n",
            "issuperset(): {1,2}.issuperset({1,2})\n",
            "pop(): 1\n",
            "set after pop(): {2, 3, 4, 5, 6}\n",
            "remove(1): {2, 3, 4, 5, 6}\n",
            "symmetric_difference(): {1, 2, 3, 7, 8}\n",
            "symmetric_difference_update(): {1, 2, 3, 7, 8}\n",
            "union(): {1, 2, 3, 4, 5, 6, 7, 8}\n",
            "update(): {1, 2, 3, 4, 5, 6, 7, 8}\n"
          ]
        }
      ]
    },
    {
      "cell_type": "code",
      "source": [
        "# Create some example frozensets\n",
        "frozen_set1: frozenset = frozenset([1, 2, 3, 4])\n",
        "frozen_set2: frozenset = frozenset([3, 4, 5, 6])\n",
        "frozen_set3: frozenset = frozenset([1, 2])\n",
        "\n",
        "print(f\"frozen_set1: {frozen_set1}\")\n",
        "print(f\"frozen_set2: {frozen_set2}\")\n",
        "print(f\"frozen_set3: {frozen_set3}\")\n",
        "print(\"\\n----------\\n\")\n",
        "# Methods that work with frozensets (since they are immutable)\n",
        "# These methods return a new frozenset or a boolean value\n",
        "\n",
        "# 1. difference(): Returns a new frozenset with elements present in the first frozenset but not in the second.\n",
        "difference_set: frozenset = frozen_set1.difference(frozen_set2)\n",
        "print(f\"difference(): {difference_set}\")  # Output: frozenset({1, 2})\n",
        "\n",
        "# 2. intersection(): Returns a new frozenset containing only elements common to both frozensets.\n",
        "intersection_set: frozenset = frozen_set1.intersection(frozen_set2)\n",
        "print(f\"intersection(): {intersection_set}\")  # Output: frozenset({3, 4})\n",
        "\n",
        "# 3. union(): Returns a new frozenset containing all unique elements from both frozensets.\n",
        "union_set: frozenset = frozen_set1.union(frozen_set2)\n",
        "print(f\"union(): {union_set}\")  # Output: frozenset({1, 2, 3, 4, 5, 6})\n",
        "\n",
        "# 4. symmetric_difference(): Returns a new frozenset with elements that are in either of the sets but not in both.\n",
        "symmetric_difference_set: frozenset = frozen_set1.symmetric_difference(frozen_set2)\n",
        "print(f\"symmetric_difference(): {symmetric_difference_set}\")  # Output: frozenset({1, 2, 5, 6})\n",
        "\n",
        "# 5. isdisjoint(): Returns True if the two frozensets have no elements in common; otherwise, False.\n",
        "print(f\"isdisjoint(): {frozen_set1.isdisjoint(frozen_set2)}\")  # Output: False\n",
        "print(f\"isdisjoint(): {frozen_set1.isdisjoint(frozenset([7, 8]))}\")  # Output: True\n",
        "\n",
        "# 6. issubset(): Returns True if all elements of the first frozenset are present in the second frozenset.\n",
        "print(f\"issubset(): {frozen_set3.issubset(frozen_set1)}\")  # Output: True\n",
        "print(f\"issubset(): {frozen_set1.issubset(frozen_set3)}\")  # Output: False\n",
        "\n",
        "# 7. issuperset(): Returns True if all elements of the second frozenset are present in the first frozenset.\n",
        "print(f\"issuperset(): {frozen_set1.issuperset(frozen_set3)}\")  # Output: True\n",
        "print(f\"issuperset(): {frozen_set3.issuperset(frozen_set1)}\")  # Output: False\n",
        "\n",
        "# 8. copy(): Returns a new frozenset that is a shallow copy of the original.\n",
        "copy_set: frozenset = frozen_set1.copy()\n",
        "print(f\"copy(): {copy_set}\")  # Output: frozenset({1, 2, 3, 4})\n",
        "print(f\"copy() is same object?: {copy_set is frozen_set1}\") # Output: True because frozensets are immutable\n"
      ],
      "metadata": {
        "colab": {
          "base_uri": "https://localhost:8080/"
        },
        "id": "E3-xYTgVopAr",
        "outputId": "2c1645a1-53de-4ac5-83b2-08335f092a2c"
      },
      "execution_count": null,
      "outputs": [
        {
          "output_type": "stream",
          "name": "stdout",
          "text": [
            "frozen_set1: frozenset({1, 2, 3, 4})\n",
            "frozen_set2: frozenset({3, 4, 5, 6})\n",
            "frozen_set3: frozenset({1, 2})\n",
            "\n",
            "----------\n",
            "\n",
            "difference(): frozenset({1, 2})\n",
            "intersection(): frozenset({3, 4})\n",
            "union(): frozenset({1, 2, 3, 4, 5, 6})\n",
            "symmetric_difference(): frozenset({1, 2, 5, 6})\n",
            "isdisjoint(): False\n",
            "isdisjoint(): True\n",
            "issubset(): True\n",
            "issubset(): False\n",
            "issuperset(): True\n",
            "issuperset(): False\n",
            "copy(): frozenset({1, 2, 3, 4})\n",
            "copy() is same object?: True\n"
          ]
        }
      ]
    },
    {
      "cell_type": "markdown",
      "source": [
        "## **GC: Garbage Collection**"
      ],
      "metadata": {
        "id": "zLa7XJTiYbeX"
      }
    },
    {
      "cell_type": "markdown",
      "source": [
        "**Python has a garbage collection mechanism.**\n",
        "\n",
        "Python's garbage collector is a **`Memory Management System`** that **`automatically`** frees up memory occupied by objects that are no longer needed or referenced. This helps prevent memory leaks and allows Python to manage memory efficiently.\n",
        "\n",
        "### **Here's how it works:**\n",
        "\n",
        "1. **Reference Counting**: Python uses a reference counting algorithm to track the number of references to each object. When an object is created, its reference count is set to 1. Each time a new reference to the object is created (e.g., assigning it to a variable or passing it as an argument), the reference count is incremented.\n",
        "\n",
        "2. **Garbage Collection**: When an object's reference count reaches 0, it is no longer needed and becomes eligible for garbage collection. The garbage collector periodically runs in the background to identify and free up memory occupied by these objects.\n",
        "\n",
        "### **Python's garbage collector is:**\n",
        "\n",
        "* **Automatic**: You don't need to manually manage memory or explicitly free up memory.\n",
        "\n",
        "* **Periodic**: The garbage collector runs periodically to clean up memory.\n",
        "* **Reference-based**: It uses reference counting to determine which objects are no longer needed.\n",
        "\n",
        "You can also manually trigger the garbage collector using the `gc.collect()` function from the `gc` module:"
      ],
      "metadata": {
        "id": "QimtK1yfYTyX"
      }
    },
    {
      "cell_type": "code",
      "source": [
        "import gc\n",
        "\n",
        "gc.collect()\n",
        "print(gc.get_count())  # prints the number of collected objects, unreachable objects, and reference cycles"
      ],
      "metadata": {
        "colab": {
          "base_uri": "https://localhost:8080/"
        },
        "id": "OHvopLm6Y0Bv",
        "outputId": "a8ce97a5-a4d8-4c04-f23e-e3092a36e370"
      },
      "execution_count": null,
      "outputs": [
        {
          "output_type": "stream",
          "name": "stdout",
          "text": [
            "(30, 0, 0)\n"
          ]
        }
      ]
    },
    {
      "cell_type": "markdown",
      "source": [
        "However, this is usually not necessary, as the garbage collector runs automatically in the background.\n",
        "\n",
        "Some benefits of Python's garbage collection:\n",
        "\n",
        "* **Memory safety**: Prevents memory leaks and ensures memory is freed up when no longer needed.\n",
        "* **Convenience**: You don't need to worry about manually managing memory.\n",
        "* **Efficiency**: The garbage collector runs periodically to optimize memory usage.\n",
        "\n",
        "Note that Python's garbage collection is not perfect, and there are some cases where it may not work as expected (e.g., circular references, file descriptors). However, it provides a convenient and efficient way to manage memory in most cases."
      ],
      "metadata": {
        "id": "jRy01_4tY7m2"
      }
    }
  ],
  "metadata": {
    "colab": {
      "provenance": []
    },
    "kernelspec": {
      "display_name": "Python 3",
      "name": "python3"
    },
    "language_info": {
      "name": "python"
    }
  },
  "nbformat": 4,
  "nbformat_minor": 0
}