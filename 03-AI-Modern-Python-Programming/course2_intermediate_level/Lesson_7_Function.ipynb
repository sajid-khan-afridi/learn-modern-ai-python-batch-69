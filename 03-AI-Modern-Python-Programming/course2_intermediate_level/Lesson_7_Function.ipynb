{
 "cells": [
  {
   "cell_type": "markdown",
   "id": "179e4aba",
   "metadata": {},
   "source": [
    "# 1. Functions in Python"
   ]
  },
  {
   "cell_type": "markdown",
   "id": "b0fe05fe",
   "metadata": {},
   "source": [
    "Functions are reusable blocks of code that perform a specific task. They help simplify repetitive operations, improve code organization, and reduce redundancy."
   ]
  },
  {
   "cell_type": "markdown",
   "id": "5646d517",
   "metadata": {},
   "source": [
    "## 1.1 Why Use Functions?"
   ]
  },
  {
   "cell_type": "markdown",
   "id": "36fe0bf7",
   "metadata": {},
   "source": [
    "- **Code Reusability:** Write once, use multiple times.\n",
    "- **Avoid Code Duplication:** Keep your code DRY (Don’t Repeat Yourself).\n",
    "- **Simplify Debugging:** Isolate functionality, making issues easier to locate and fix.\n",
    "- **Modular Design:** Break down complex problems into smaller, manageable tasks."
   ]
  },
  {
   "cell_type": "markdown",
   "id": "c4e0372d",
   "metadata": {},
   "source": [
    "> **Best Practice:** Adhere to the [PEP 8](https://peps.python.org/pep-0008/) naming conventions for functions. Use lowercase letters and underscores (e.g., calculate_total, not CalculateTotal)."
   ]
  },
  {
   "cell_type": "markdown",
   "id": "2d08c6c2",
   "metadata": {},
   "source": [
    "## 1.2 Types of Functions"
   ]
  },
  {
   "cell_type": "markdown",
   "id": "4618f31e",
   "metadata": {},
   "source": [
    "1. **Built-in Functions:** Predefined functions like print(), len(), type(), etc.\n",
    "2. **User-Defined Functions:** Functions written by users to address specific requirements."
   ]
  },
  {
   "cell_type": "markdown",
   "id": "8e0b68df",
   "metadata": {},
   "source": [
    "## 1.3 Creating and Using Functions"
   ]
  },
  {
   "cell_type": "markdown",
   "id": "02f90151",
   "metadata": {},
   "source": [
    "You define a function using the def keyword followed by a function name, parentheses, and a colon. The function’s body is indented, and you can optionally include a return statement to send a value back to the caller."
   ]
  },
  {
   "cell_type": "markdown",
   "id": "1d28aa1d",
   "metadata": {},
   "source": [
    "**Syntax**:\n",
    "```python\n",
    " def function_name(parameters):\n",
    "    # Function body\n",
    "    # Optional docstring\n",
    "    return result\n",
    "```"
   ]
  },
  {
   "cell_type": "markdown",
   "id": "9ab5768e",
   "metadata": {},
   "source": [
    "To call (invoke) the function, simply use:"
   ]
  },
  {
   "cell_type": "markdown",
   "id": "997430a4",
   "metadata": {},
   "source": [
    "```python\n",
    " function_name(arguments)\n",
    "```"
   ]
  },
  {
   "cell_type": "markdown",
   "id": "3256c8d8",
   "metadata": {},
   "source": [
    "> **Tip:** Include a docstring (triple-quoted string) inside your function to describe its purpose, parameters, and return value. This helps with readability and maintenance.\n",
    "\n",
    "> A **docstring** in a Python function provides a concise description of the function's purpose, parameters, and return values. It improves code readability and serves as documentation for developers.\n",
    "\n",
    "> In tools like **LangChain** and **LangGraph**, docstrings can be used to generate automated documentation for chains, agents, and components. This is particularly valuable for managing and explaining complex workflows, enabling seamless collaboration and faster debugging in AI projects."
   ]
  },
  {
   "cell_type": "markdown",
   "id": "154b77cf",
   "metadata": {},
   "source": [
    "## 1.4 Example: A Simple Function"
   ]
  },
  {
   "cell_type": "markdown",
   "id": "0dc2901d",
   "metadata": {},
   "source": [
    "Creating a reusable function that prompts the user for a number and prints it:"
   ]
  },
  {
   "cell_type": "code",
   "execution_count": null,
   "id": "17dc2970",
   "metadata": {},
   "outputs": [],
   "source": [
    "\n",
    "def print_number():\n",
    "    \"\"\"\n",
    "    Prompts the user for a number and prints it.\n",
    "    \"\"\"\n",
    "    number = int(input(\"Enter a number: \"))\n",
    "    print(f\"You entered: {number}\")\n",
    "\n",
    "print_number()\n"
   ]
  },
  {
   "cell_type": "markdown",
   "id": "0b920c93",
   "metadata": {},
   "source": [
    "# 2. Function Parameters and Arguments"
   ]
  },
  {
   "cell_type": "markdown",
   "id": "3377c623",
   "metadata": {},
   "source": [
    "Functions can optionally accept inputs (parameters) to handle data more flexibly."
   ]
  },
  {
   "cell_type": "markdown",
   "id": "cca255e7",
   "metadata": {},
   "source": [
    "## 2.1 Parameterless Functions"
   ]
  },
  {
   "cell_type": "markdown",
   "id": "0162d7e3",
   "metadata": {},
   "source": [
    "A function without parameters:"
   ]
  },
  {
   "cell_type": "code",
   "execution_count": null,
   "id": "c3952d27",
   "metadata": {},
   "outputs": [],
   "source": [
    "\n",
    "def greet():\n",
    "    \"\"\"\n",
    "    Prints a simple greeting.\n",
    "    \"\"\"\n",
    "    print(\"Hello!\")\n",
    "\n",
    "greet()  # Output: Hell"
   ]
  },
  {
   "cell_type": "markdown",
   "id": "4f27eb46",
   "metadata": {},
   "source": [
    "## 2.2 Parameterized Functions"
   ]
  },
  {
   "cell_type": "markdown",
   "id": "5913d04a",
   "metadata": {},
   "source": [
    "A function with parameters:"
   ]
  },
  {
   "cell_type": "code",
   "execution_count": null,
   "id": "13a784c8",
   "metadata": {},
   "outputs": [],
   "source": [
    "def greet(name):\n",
    "    \"\"\"\n",
    "    Prints a personalized greeting using the provided name.\n",
    "    \"\"\"\n",
    "    print(f\"Hello, {name}!\")\n",
    "\n",
    "greet(\"Ali\")  # Output: Hello, Ali!"
   ]
  },
  {
   "cell_type": "markdown",
   "id": "4de94a09",
   "metadata": {},
   "source": [
    "## 2.3 Difference Between Parameters and Arguments"
   ]
  },
  {
   "cell_type": "markdown",
   "id": "9fba6cab",
   "metadata": {},
   "source": [
    "- **Parameters:** Variables listed inside the parentheses in the function definition.\n",
    "- **Arguments:** Values passed into the function when it is invoked."
   ]
  },
  {
   "cell_type": "markdown",
   "id": "b7e092c3",
   "metadata": {},
   "source": [
    "> **Additional Insight:** Python allows default parameter values, which can be especially handy:"
   ]
  },
  {
   "cell_type": "code",
   "execution_count": null,
   "id": "0cfc6f14",
   "metadata": {},
   "outputs": [],
   "source": [
    "def greet(name=\"Guest\"):\n",
    "    print(f\"Hello, {name}!\")\n",
    "greet()         # Uses default: Hello, Guest!\n",
    "greet(\"Alice\")  # Hello, Alice!"
   ]
  },
  {
   "cell_type": "markdown",
   "id": "e525c6c7",
   "metadata": {},
   "source": [
    "> **Warning:** Avoid using mutable objects (e.g., lists, dictionaries) as default parameter values because they can lead to unexpected behavior if modified within the function."
   ]
  },
  {
   "cell_type": "markdown",
   "id": "49dd3fff",
   "metadata": {},
   "source": [
    "# 3. Function Return Types"
   ]
  },
  {
   "cell_type": "markdown",
   "id": "47330a05",
   "metadata": {},
   "source": [
    "Functions can (optionally) return results using the return keyword. If no return is specified, the function returns None."
   ]
  },
  {
   "cell_type": "markdown",
   "id": "f513d43e",
   "metadata": {},
   "source": [
    "## 3.1 Single Value Return"
   ]
  },
  {
   "cell_type": "code",
   "execution_count": null,
   "id": "461c3a2f",
   "metadata": {},
   "outputs": [],
   "source": [
    "def add(a, b):\n",
    "    \"\"\"\n",
    "    Returns the sum of two numbers.\n",
    "    \"\"\"\n",
    "    return a + b\n",
    "\n",
    "result = add(3, 5)\n",
    "print(result)  # Output: 8"
   ]
  },
  {
   "cell_type": "markdown",
   "id": "b288d088",
   "metadata": {},
   "source": [
    "## 3.2 Return Multiple Values"
   ]
  },
  {
   "cell_type": "markdown",
   "id": "914ebf63",
   "metadata": {},
   "source": [
    "You can return multiple values in one go (Python treats these as a tuple under the hood):"
   ]
  },
  {
   "cell_type": "code",
   "execution_count": null,
   "id": "e5ed7728",
   "metadata": {},
   "outputs": [],
   "source": [
    "def operations(a, b):\n",
    "    \"\"\"\n",
    "    Returns both the sum and product of two numbers.\n",
    "    \"\"\"\n",
    "    return a + b, a * b\n",
    "\n",
    "sum_val, prod_val = operations(3, 5)\n",
    "print(f\"Sum: {sum_val}, Product: {prod_val}\")\n",
    "# Output: Sum: 8, Product: 15"
   ]
  },
  {
   "cell_type": "markdown",
   "id": "f6b35cb0",
   "metadata": {},
   "source": [
    "## 3.3 Returning Collections"
   ]
  },
  {
   "cell_type": "markdown",
   "id": "96040d15",
   "metadata": {},
   "source": [
    "You can return data structures like lists, tuples, dictionaries, etc.:"
   ]
  },
  {
   "cell_type": "code",
   "execution_count": null,
   "id": "44252c02",
   "metadata": {},
   "outputs": [],
   "source": [
    "def get_student():\n",
    "    \"\"\"\n",
    "    Returns a dictionary with student data.\n",
    "    \"\"\"\n",
    "    return {\"name\": \"Ali\", \"age\": 20}\n",
    "\n",
    "print(get_student())  # Output: {'name': 'Ali', 'age': 20}\n"
   ]
  },
  {
   "cell_type": "markdown",
   "id": "2116a502",
   "metadata": {},
   "source": [
    "# 4. Positional and Keyword Arguments"
   ]
  },
  {
   "cell_type": "markdown",
   "id": "75c52301",
   "metadata": {},
   "source": [
    "## 4.1 Positional Arguments"
   ]
  },
  {
   "cell_type": "markdown",
   "id": "2d765e89",
   "metadata": {},
   "source": [
    "Arguments are assigned to parameters based on their position:"
   ]
  },
  {
   "cell_type": "code",
   "execution_count": null,
   "id": "c79bd9d1",
   "metadata": {},
   "outputs": [],
   "source": [
    "def greet(name, message):\n",
    "    print(f\"{message}, {name}!\")\n",
    "\n",
    "greet(\"Ali\", \"Hello\")  # Output: Hello, Ali!\n"
   ]
  },
  {
   "cell_type": "markdown",
   "id": "a2934a7a",
   "metadata": {},
   "source": [
    "## 4.2 Keyword Arguments"
   ]
  },
  {
   "cell_type": "markdown",
   "id": "9e71f7d5",
   "metadata": {},
   "source": [
    "Arguments are explicitly named, so the order does not matter:"
   ]
  },
  {
   "cell_type": "code",
   "execution_count": null,
   "id": "ed5e706a",
   "metadata": {},
   "outputs": [],
   "source": [
    "greet(message=\"Hello\", name=\"Ali\")  # Output: Hello, Ali!\n"
   ]
  },
  {
   "cell_type": "markdown",
   "id": "eee1974d",
   "metadata": {},
   "source": [
    "## 4.3 Combining Positional and Keyword Arguments"
   ]
  },
  {
   "cell_type": "markdown",
   "id": "96f762f7",
   "metadata": {},
   "source": [
    "- Positional arguments must come before any keyword arguments.\n",
    "- Use keyword arguments when clarity of each argument’s purpose is beneficial."
   ]
  },
  {
   "cell_type": "code",
   "execution_count": null,
   "id": "92d0d597",
   "metadata": {},
   "outputs": [],
   "source": [
    "def describe_person(name, age, city):\n",
    "    print(f\"{name} is {age} years old and lives in {city}.\")\n",
    "\n",
    "describe_person(\"Ali\", city=\"Karachi\", age=25)\n",
    "# Raises an error if you pass a positional argument (city) after a keyword argument (age)."
   ]
  },
  {
   "cell_type": "markdown",
   "id": "0bc603c5",
   "metadata": {},
   "source": [
    "# 5. Flexible Arguments (*args and **kwargs)"
   ]
  },
  {
   "cell_type": "markdown",
   "id": "ff6222e6",
   "metadata": {},
   "source": [
    "Sometimes, you don’t know in advance how many arguments or which named arguments you might receive. Python offers *args for variable-length positional arguments and **kwargs for variable-length keyword arguments."
   ]
  },
  {
   "cell_type": "markdown",
   "id": "db184f86",
   "metadata": {},
   "source": [
    "## 5.1 *args: Variable-Length Positional Arguments"
   ]
  },
  {
   "cell_type": "code",
   "execution_count": null,
   "id": "26ef057a",
   "metadata": {},
   "outputs": [],
   "source": [
    "def add(*numbers):\n",
    "    \"\"\"\n",
    "    Returns the sum of an arbitrary number of integers.\n",
    "    \"\"\"\n",
    "    return sum(numbers)\n",
    "\n",
    "print(add(1, 2, 3))    # Output: 6\n",
    "print(add(5, 10, 15))  # Output: 30\n"
   ]
  },
  {
   "cell_type": "markdown",
   "id": "7ec65e25",
   "metadata": {},
   "source": [
    "## 5.2 **kwargs: Variable-Length Keyword Arguments"
   ]
  },
  {
   "cell_type": "code",
   "execution_count": null,
   "id": "b619b1d9",
   "metadata": {},
   "outputs": [],
   "source": [
    "def describe(**info):\n",
    "    \"\"\"\n",
    "    Prints all key-value pairs provided as keyword arguments.\n",
    "    \"\"\"\n",
    "    for key, value in info.items():\n",
    "        print(f\"{key}: {value}\")\n",
    "\n",
    "describe(name=\"Ali\", age=25)\n",
    "# Output:\n",
    "# name: Ali\n",
    "# age: 25"
   ]
  },
  {
   "cell_type": "markdown",
   "id": "79dc6399",
   "metadata": {},
   "source": [
    "## 5.3 Combining *args and **kwargs"
   ]
  },
  {
   "cell_type": "code",
   "execution_count": null,
   "id": "afe8d841",
   "metadata": {},
   "outputs": [],
   "source": [
    "def order_pizza(size, *toppings, **details):\n",
    "    \"\"\"\n",
    "    Demonstrates combining *args and **kwargs.\n",
    "    size: Size of the pizza (small, medium, large)\n",
    "    toppings: Variable number of topping strings\n",
    "    details: Arbitrary keyword arguments, e.g., delivery time\n",
    "    \"\"\"\n",
    "    print(f\"Size: {size}, Toppings: {', '.join(toppings)}\")\n",
    "    print(\"Additional details:\", details)\n",
    "\n",
    "order_pizza(\"large\", \"pepperoni\", \"mushrooms\", delivery=\"ASAP\", address=\"123 Main St\")\n"
   ]
  },
  {
   "cell_type": "markdown",
   "id": "5da77d4e",
   "metadata": {},
   "source": [
    "# 6. Scope of Variables"
   ]
  },
  {
   "cell_type": "markdown",
   "id": "5a91242e",
   "metadata": {},
   "source": [
    "- **Local Scope:** Variables declared inside a function. Accessible only within that function.\n",
    "- **Global Scope:** Variables declared outside all functions. Accessible throughout the module (unless shadowed by local variables)."
   ]
  },
  {
   "cell_type": "code",
   "execution_count": null,
   "id": "ed539154",
   "metadata": {},
   "outputs": [],
   "source": [
    "x = 10  # Global variable\n",
    "\n",
    "def func():\n",
    "    global x\n",
    "    x = 20  # Changing the global variable\n",
    "\n",
    "func()\n",
    "print(x)  # Output: 20\n"
   ]
  },
  {
   "cell_type": "markdown",
   "id": "622d6a27",
   "metadata": {},
   "source": [
    "> **Best Practice:** Avoid overusing global variables; pass data as function parameters whenever possible for cleaner, more testable code."
   ]
  },
  {
   "cell_type": "markdown",
   "id": "d2dadd02",
   "metadata": {},
   "source": [
    "# 7. Recursive Functions"
   ]
  },
  {
   "cell_type": "markdown",
   "id": "186c898b",
   "metadata": {},
   "source": [
    "## 7.1 Concept"
   ]
  },
  {
   "cell_type": "markdown",
   "id": "1e508ac5",
   "metadata": {},
   "source": [
    "A recursive function calls itself to solve a smaller instance of the same problem. Recursion can be elegant but must have a clear base case to avoid infinite loops."
   ]
  },
  {
   "cell_type": "markdown",
   "id": "8de5d17c",
   "metadata": {},
   "source": [
    "## 7.2 Example: Factorial"
   ]
  },
  {
   "cell_type": "code",
   "execution_count": null,
   "id": "927b122c",
   "metadata": {},
   "outputs": [],
   "source": [
    "def factorial(n):\n",
    "    \"\"\"\n",
    "    Returns the factorial of n using recursion.\n",
    "    factorial(5) => 5 * 4 * 3 * 2 * 1 = 120\n",
    "    \"\"\"\n",
    "    if n == 0:\n",
    "        return 1  # Base case\n",
    "    return n * factorial(n - 1)\n",
    "\n",
    "print(factorial(5))  # Output: 120\n"
   ]
  },
  {
   "cell_type": "markdown",
   "id": "6f0a4e7c",
   "metadata": {},
   "source": [
    "> **Best Practice:** For large inputs, consider an iterative approach or a built-in function (like math.factorial) because recursive solutions can cause stack overflow or performance issues when n is very large."
   ]
  },
  {
   "cell_type": "markdown",
   "id": "4b3dbaa7",
   "metadata": {},
   "source": [
    "# 8. Lambda Functions"
   ]
  },
  {
   "cell_type": "markdown",
   "id": "88fc30ff",
   "metadata": {},
   "source": [
    "Lambda (anonymous) functions are short, inline functions defined without a name. They are useful for concise operations."
   ]
  },
  {
   "cell_type": "markdown",
   "id": "c625ac04",
   "metadata": {},
   "source": [
    "## 8.1 Syntax"
   ]
  },
  {
   "cell_type": "markdown",
   "id": "4ab5f096",
   "metadata": {},
   "source": [
    "```python\n",
    " lambda arguments: expression\n",
    "```"
   ]
  },
  {
   "cell_type": "markdown",
   "id": "fa8d4589",
   "metadata": {},
   "source": [
    "**Example:**"
   ]
  },
  {
   "cell_type": "code",
   "execution_count": null,
   "id": "5e77deaa",
   "metadata": {},
   "outputs": [],
   "source": [
    "square = lambda x: x ** 2\n",
    "print(square(4))  # Output: 16\n"
   ]
  },
  {
   "cell_type": "markdown",
   "id": "763cf2a4",
   "metadata": {},
   "source": [
    "## 8.2 Use Cases"
   ]
  },
  {
   "cell_type": "markdown",
   "id": "4f8afd4c",
   "metadata": {},
   "source": [
    "- Use lambdas as short inline functions with built-in functions like map(), filter(), or sorted()."
   ]
  },
  {
   "cell_type": "code",
   "execution_count": null,
   "id": "0a5e3a86",
   "metadata": {},
   "outputs": [],
   "source": [
    "nums = [1, 2, 3]\n",
    "squared = list(map(lambda x: x ** 2, nums))\n",
    "print(squared)  # Output: [1, 4, 9]"
   ]
  },
  {
   "cell_type": "markdown",
   "id": "f17941a3",
   "metadata": {},
   "source": [
    "> **Caution:** Overuse of lambdas can reduce code readability. For more complex logic, use a regular def function with a proper name and docstring."
   ]
  },
  {
   "cell_type": "markdown",
   "id": "420f2633",
   "metadata": {},
   "source": [
    "# 9. Summary"
   ]
  },
  {
   "cell_type": "markdown",
   "id": "775d1506",
   "metadata": {},
   "source": [
    "- **Functions** break down your code into manageable pieces, improving readability, maintainability, and testability.\n",
    "- **Parameters and Arguments** let you pass data to functions, making them dynamic.\n",
    "- **Return Values** allow functions to send results back to the caller, enabling flexible program design.\n",
    "- **Positional, Keyword, *args, and **kwargs** arguments offer powerful ways to handle function inputs.\n",
    "- **Scope** (local vs. global) impacts variable accessibility and lifetime.\n",
    "- **Recursive Functions** solve problems by breaking them down into smaller subproblems, but be mindful of recursion depth and performance.\n",
    "- **Lambda Functions** provide concise, one-line definitions for simple tasks."
   ]
  },
  {
   "cell_type": "markdown",
   "id": "83f2ee3f",
   "metadata": {},
   "source": [
    "Including robust **docstrings**, following **PEP 8** guidelines, and properly handling **default arguments** and **scopes** are crucial for writing clean, professional Python code."
   ]
  },
  {
   "cell_type": "markdown",
   "id": "100ccec8",
   "metadata": {},
   "source": [
    "# Projects"
   ]
  },
  {
   "cell_type": "markdown",
   "id": "6b929564",
   "metadata": {},
   "source": [
    "## Project 1:\n",
    "### **Calculator Application**\n",
    "**Description**: Create a simple calculator that performs basic arithmetic operations (addition, subtraction, multiplication, division).\n",
    "\n",
    "**Step by step solution:**\n",
    "\n",
    "- Use functions for each arithmetic operation.\n",
    "- Create a main function called calculator to coordinate the program flow.\n",
    "- Accept user input for numbers and operation type.\n",
    "- Apply an if-else statement to handle the selected operation.\n",
    "- Implement input validation to handle potential errors like division by zero."
   ]
  },
  {
   "cell_type": "markdown",
   "id": "3b9a5a84",
   "metadata": {},
   "source": [
    "## Project 2:\n",
    "### **Global Variable use in function**\n",
    "**Description:** Create a web traffic tracker that counts and displays the total number of visitors to a website.\n",
    "\n",
    "**Step-by-Step Solution:**\n",
    "\n",
    "- Define a Global Variable:\n",
    "    - Create a global variable visitor_count to keep track of the total number of visitors across all sessions.\n",
    "- Create a Function to Update Visitor Count:\n",
    "    - Implement a function new_visitor() that increments the global visitor_count variable by 1 every time it is called.\n",
    "    - Use the global keyword inside the function to modify the global variable.\n",
    "- Create a Function to Display Visitor Count:\n",
    "    - Implement a function display_visitor_count() that accesses the global visitor_count variable and displays its value in a user-friendly message.\n",
    "- Simulate Website Visits:\n",
    "    - Call the new_visitor() function multiple times to simulate new visitors accessing the website.\n",
    "- Display the Total Visitor Count:\n",
    "    - Call the display_visitor_count() function to show the total number of visitors to the admin."
   ]
  },
  {
   "cell_type": "markdown",
   "id": "fe8f622f",
   "metadata": {},
   "source": [
    "## Project 3:\n",
    "### **Temperature Converter**\n",
    "**Description:** Create a tool that converts temperatures between Celsius and Fahrenheit.\n",
    "\n",
    "**Step by step solution:**\n",
    "\n",
    "- Include two separate functions for converting:\n",
    "    - Celsius to Fahrenheit.\n",
    "    - Fahrenheit to Celsius.\n",
    "- Accept user input to determine the temperature and the conversion type.\n",
    "- Return the converted temperature and display it in a user-friendly format."
   ]
  }
 ],
 "metadata": {
  "language_info": {
   "name": "python"
  }
 },
 "nbformat": 4,
 "nbformat_minor": 5
}
