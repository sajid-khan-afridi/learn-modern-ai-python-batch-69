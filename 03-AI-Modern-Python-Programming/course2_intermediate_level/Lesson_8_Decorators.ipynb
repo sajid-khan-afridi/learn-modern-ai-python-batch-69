{
  "cells": [
    {
      "cell_type": "markdown",
      "metadata": {
        "id": "4TKWBDh-fqaT"
      },
      "source": [
        "# Decorators in Python\n",
        "\n",
        "Decorators are powerful tools in Python that allow you to modify the *functionality* of another function. They make your code more concise, modular, and \"Pythonic.\"  \n",
        "**Pythonic** refers to writing code that is clear, efficient, and easy to understand at a glance.\n",
        "\n",
        "Imagine you have a function, and you want to add some extra functionality to it. You have two options:  \n",
        "1. Modify the original function to include the new functionality.  \n",
        "2. Create a new function that includes the original functionality along with the additional features.\n",
        "\n",
        "Now, consider a scenario where you may want to remove this added functionality later. Wouldn't it be great if you could simply toggle this extra functionality on and off without altering the original function or creating multiple versions of it?  \n",
        "\n",
        "This is where **decorators** come into play.  \n",
        "\n",
        "### What Are Decorators?\n",
        "Decorators in Python enable you to add functionality to an existing function in a clean and reusable way. If you no longer need the additional functionality, you can simply remove the decorator from the function definition.\n",
        "\n",
        "Decorators use the `@` operator and are placed directly above the function they modify.\n",
        "\n",
        "---\n",
        "\n",
        "### Structure of a Decorator\n",
        "Here’s a basic example of how a decorator is structured:\n",
        "\n",
        "```python\n",
        "@some_decorator\n",
        "def simple_func():\n",
        "    # Original functionality\n",
        "    return \"Doing something simple\"\n",
        "```\n",
        "\n",
        "In this example:\n",
        "- `@some_decorator` adds extra functionality to `simple_func`.\n",
        "- If you don’t want the added functionality anymore, simply remove the `@some_decorator` line, and `simple_func` will work as it originally did.\n",
        "\n",
        "### Key Benefits of Decorators:\n",
        "- **Modularity**: You can separate additional functionality from the core logic of your function.  \n",
        "- **Flexibility**: Easily toggle functionality on and off by adding or removing the decorator.  \n",
        "- **Reusability**: Apply the same decorator to multiple functions for consistent behavior.\n",
        "\n",
        "Decorators are an elegant solution to modify behavior without cluttering your codebase. By leveraging them, you can keep your code clean, maintainable, and Pythonic.  "
      ]
    },
    {
      "cell_type": "markdown",
      "source": [
        "## Creating function"
      ],
      "metadata": {
        "id": "dhOw1xVivlsC"
      }
    },
    {
      "cell_type": "code",
      "source": [
        "def add_numbers(a, b):\n",
        "    return a + b\n",
        "\n",
        "# Example usage\n",
        "result = add_numbers(3, 5)\n",
        "print(\"Sum:\", result)"
      ],
      "metadata": {
        "id": "4t-s_PAvaHF8",
        "outputId": "44eba7f8-c550-404e-ce2d-30b9dd696f61",
        "colab": {
          "base_uri": "https://localhost:8080/"
        }
      },
      "execution_count": 1,
      "outputs": [
        {
          "output_type": "stream",
          "name": "stdout",
          "text": [
            "Sum: 8\n"
          ]
        }
      ]
    },
    {
      "cell_type": "markdown",
      "source": [
        "### Adding extra functionality then modify the original function"
      ],
      "metadata": {
        "id": "I-X6wxWUvu9p"
      }
    },
    {
      "cell_type": "code",
      "source": [
        "def add_numbers():\n",
        "    a = int(input(\"Enter the first number: \"))  # Taking first input\n",
        "    b = int(input(\"Enter the second number: \"))  # Taking second input\n",
        "    sum_result = a + b  # This will cause an issue (concatenation instead of addition)\n",
        "    print(\"Sum:\", sum_result)\n",
        "\n",
        "add_numbers()"
      ],
      "metadata": {
        "id": "Gtt6bBaSaWR5",
        "outputId": "e70ed2df-9651-4227-9382-64b7b37a455d",
        "colab": {
          "base_uri": "https://localhost:8080/"
        }
      },
      "execution_count": 2,
      "outputs": [
        {
          "output_type": "stream",
          "name": "stdout",
          "text": [
            "Enter the first number: 12\n",
            "Enter the second number: 5\n",
            "Sum: 17\n"
          ]
        }
      ]
    },
    {
      "cell_type": "markdown",
      "source": [
        "## Decorator Example #1\n",
        "Definition: Input Handling Wrapper"
      ],
      "metadata": {
        "id": "k3ilA_FBuAd0"
      }
    },
    {
      "cell_type": "code",
      "source": [
        "# Define a decorator function that takes another function as input\n",
        "    # Define a wrapper function inside the decorator\n",
        "        # Call the original function (func) with the user inputs and return the result\n",
        "    #Return the modified function i.e. the wrapper function, which now includes user input functionality\n",
        "def add_input(func):\n",
        "    def wrapper():\n",
        "        a = int(input(\"Enter the first number: \"))\n",
        "        b = int(input(\"Enter the second number: \"))\n",
        "        return func(a, b)\n",
        "    return wrapper"
      ],
      "metadata": {
        "id": "yEa8OGZYnYW7"
      },
      "execution_count": 4,
      "outputs": []
    },
    {
      "cell_type": "markdown",
      "source": [
        "### Manual Decoration Example (Without @ Syntax)"
      ],
      "metadata": {
        "id": "Qb_BmeoguEzI"
      }
    },
    {
      "cell_type": "code",
      "source": [
        "# option-1\n",
        "\n",
        "def add_numbers(a, b):\n",
        "    \"\"\"Returns the sum of two numbers.\"\"\"\n",
        "    return a + b\n",
        "\n",
        "abc = add_input(add_numbers)\n",
        "print(abc)\n",
        "print(\"Sum:\", abc())  # The function call will trigger user input and display the sum"
      ],
      "metadata": {
        "id": "WrBnmKxeuR2n",
        "outputId": "7698d498-98e4-47d7-b624-ff4f506f5fac",
        "colab": {
          "base_uri": "https://localhost:8080/"
        }
      },
      "execution_count": 13,
      "outputs": [
        {
          "output_type": "stream",
          "name": "stdout",
          "text": [
            "<function add_input.<locals>.wrapper at 0x7b327cea4180>\n",
            "Enter the first number: 11\n",
            "Enter the second number: 11\n",
            "Sum: 22\n"
          ]
        }
      ]
    },
    {
      "cell_type": "code",
      "source": [
        "# Manual Decoration Example (Without @ Syntax)\n",
        "def add_input(func):\n",
        "    def wrapper():\n",
        "        a = int(input(\"Enter the first number: \"))\n",
        "        b = int(input(\"Enter the second number: \"))\n",
        "        return func(a, b)\n",
        "    return wrapper\n",
        "\n",
        "def add_numbers(a, b):\n",
        "    \"\"\"Returns the sum of two numbers.\"\"\"\n",
        "    return a + b\n",
        "\n",
        "abc = add_input(add_numbers)\n",
        "print(abc)\n",
        "# abc()\n",
        "# print(\"Sum:\", abc())"
      ],
      "metadata": {
        "id": "V5UjpN1vTq4f",
        "outputId": "116f408f-bf5a-44b6-cee7-c80034e8fe1b",
        "colab": {
          "base_uri": "https://localhost:8080/"
        }
      },
      "execution_count": 15,
      "outputs": [
        {
          "name": "stdout",
          "output_type": "stream",
          "text": [
            "<function add_input.<locals>.wrapper at 0x7b328da3cf40>\n",
            "Enter the first number: 12\n",
            "Enter the second number: 11\n"
          ]
        },
        {
          "output_type": "execute_result",
          "data": {
            "text/plain": [
              "23"
            ]
          },
          "metadata": {},
          "execution_count": 15
        }
      ]
    },
    {
      "cell_type": "code",
      "source": [
        "# # option-2\n",
        "# # add_numbers() is original or simple function\n",
        "# def add_numbers(a, b):\n",
        "#     \"\"\"Returns the sum of two numbers.\"\"\"\n",
        "#     return a + b\n",
        "\n",
        "# add_input(add_numbers)() # wrapper()"
      ],
      "metadata": {
        "id": "ma0MKCnT1fFd",
        "outputId": "cc62f741-38d5-470d-c073-5767092cddb9",
        "colab": {
          "base_uri": "https://localhost:8080/"
        }
      },
      "execution_count": 6,
      "outputs": [
        {
          "name": "stdout",
          "output_type": "stream",
          "text": [
            "Enter the first number: 12\n",
            "Enter the second number: 12\n"
          ]
        },
        {
          "output_type": "execute_result",
          "data": {
            "text/plain": [
              "24"
            ]
          },
          "metadata": {},
          "execution_count": 6
        }
      ]
    },
    {
      "cell_type": "markdown",
      "source": [
        "### Using Decorator Syntax (@add_input)"
      ],
      "metadata": {
        "id": "7pBvtyXruJyx"
      }
    },
    {
      "cell_type": "code",
      "source": [
        "# Use the @add_input decorator to modify the add_numbers function\n",
        "# The @add_input means that add_numbers in the arguments of add_input e.g. add_input(add_numbers)\n",
        "@add_input\n",
        "def add_numbers(a, b):\n",
        "    \"\"\"Returns the sum of two numbers.\"\"\"\n",
        "    return a + b\n",
        "print(add_numbers) #<function add_input.<locals>.wrapper at 0x7b328da3d440>\n",
        "# Call the decorated function, which will now prompt the user for input\n",
        "print(\"Sum:\", add_numbers())  # The function call will trigger user input and display the sum"
      ],
      "metadata": {
        "id": "cY5y5nCxjOEP",
        "outputId": "2e96c393-1766-443b-97af-0647a5ef2915",
        "colab": {
          "base_uri": "https://localhost:8080/"
        }
      },
      "execution_count": 9,
      "outputs": [
        {
          "output_type": "stream",
          "name": "stdout",
          "text": [
            "<function add_input.<locals>.wrapper at 0x7b328da3d440>\n",
            "Enter the first number: 11\n",
            "Enter the second number: 12\n",
            "Sum: 23\n"
          ]
        }
      ]
    },
    {
      "cell_type": "code",
      "source": [
        "# Using Decorator Syntax (@add_input)\n",
        "def add_input(func):\n",
        "    def wrapper():\n",
        "        a = int(input(\"Enter the first number: \"))\n",
        "        b = int(input(\"Enter the second number: \"))\n",
        "        return func(a, b)\n",
        "    return wrapper\n",
        "\n",
        "@add_input\n",
        "def add_numbers(a, b):\n",
        "    \"\"\"Returns the sum of two numbers.\"\"\"\n",
        "    return a + b\n",
        "\n",
        "print(add_numbers)\n",
        "print(add_numbers())\n"
      ],
      "metadata": {
        "id": "1JbZZK1-Vx5w",
        "outputId": "4dcdecf4-f2a4-4eea-fe3c-ca2d5382d9bd",
        "colab": {
          "base_uri": "https://localhost:8080/"
        }
      },
      "execution_count": 17,
      "outputs": [
        {
          "output_type": "stream",
          "name": "stdout",
          "text": [
            "<function add_input.<locals>.wrapper at 0x7b328da2eca0>\n",
            "Enter the first number: 12\n",
            "Enter the second number: 2\n",
            "14\n"
          ]
        }
      ]
    },
    {
      "cell_type": "markdown",
      "source": [
        "## Decorator Example #2"
      ],
      "metadata": {
        "id": "jkvIavDDuVZv"
      }
    },
    {
      "cell_type": "code",
      "source": [
        "def new_decorator(func):\n",
        "\n",
        "    def wrap_func():\n",
        "        print(\"Code would be here, before executing the func()\")\n",
        "\n",
        "        func()\n",
        "\n",
        "        print(\"Code here will execute after the func()\")\n",
        "\n",
        "    return wrap_func"
      ],
      "metadata": {
        "id": "-Li0gATIx8tK"
      },
      "execution_count": null,
      "outputs": []
    },
    {
      "cell_type": "code",
      "source": [
        "# Manual Decoration Example (Without @ Syntax)\n",
        "def func_needs_decorator():\n",
        "    print(\"This function is in need of a Decorator\")\n",
        "\n",
        "without_decorator =new_decorator(func_needs_decorator)"
      ],
      "metadata": {
        "id": "sqBGoMkguyoA"
      },
      "execution_count": null,
      "outputs": []
    },
    {
      "cell_type": "code",
      "source": [
        "without_decorator()"
      ],
      "metadata": {
        "id": "cJD1PtCBvRK0"
      },
      "execution_count": null,
      "outputs": []
    },
    {
      "cell_type": "code",
      "source": [
        "# Using Decorator Syntax (@add_input)\n",
        "@new_decorator\n",
        "def func_needs_decorator():\n",
        "    print(\"This function is in need of a Decorator\")"
      ],
      "metadata": {
        "id": "XVetqrrEyeAF"
      },
      "execution_count": null,
      "outputs": []
    },
    {
      "cell_type": "code",
      "source": [
        "func_needs_decorator()"
      ],
      "metadata": {
        "id": "ae9nMFIyyfoP"
      },
      "execution_count": null,
      "outputs": []
    },
    {
      "cell_type": "code",
      "source": [
        "def new_decorator(func):\n",
        "    def wrap_func():\n",
        "        print(\"before\")\n",
        "        func()\n",
        "        print(\"after\")\n",
        "    return wrap_func\n",
        "##@new_decorator\n",
        "def func_needs_decorator():\n",
        "    print(\"need of a Decorator\")\n",
        "func_needs_decorator = new_decorator(func_needs_decorator)    # without @ syntax\n",
        "print(func_needs_decorator)\n",
        "func_needs_decorator()"
      ],
      "metadata": {
        "id": "aamePG6EW0fr",
        "outputId": "24ef12d4-4c43-422f-e9e0-7be7363a80b8",
        "colab": {
          "base_uri": "https://localhost:8080/"
        }
      },
      "execution_count": 29,
      "outputs": [
        {
          "output_type": "stream",
          "name": "stdout",
          "text": [
            "<function new_decorator.<locals>.wrap_func at 0x7b327cea45e0>\n",
            "before\n",
            "need of a Decorator\n",
            "after\n"
          ]
        }
      ]
    },
    {
      "cell_type": "code",
      "source": [
        "# Using Decorator Syntax (@add_input)\n",
        "def input_function(func):\n",
        "    def wrapper():\n",
        "        a = int(input(\"Enter the first number: \"))\n",
        "        b = int(input(\"Enter the second number: \"))\n",
        "        return func(a, b)\n",
        "    return wrapper\n",
        "\n",
        "@input_function\n",
        "def add_numbers(a, b):\n",
        "    \"\"\"Returns the sum of two numbers.\"\"\"\n",
        "    return a + b\n",
        "\n",
        "\n",
        "print(add_numbers())"
      ],
      "metadata": {
        "id": "HOcraGwKm7bk",
        "outputId": "58a71880-7c36-474e-c5ee-2d9f08bcfede",
        "colab": {
          "base_uri": "https://localhost:8080/"
        }
      },
      "execution_count": 30,
      "outputs": [
        {
          "output_type": "stream",
          "name": "stdout",
          "text": [
            "Enter the first number: 12\n",
            "Enter the second number: 22\n",
            "34\n"
          ]
        }
      ]
    },
    {
      "cell_type": "markdown",
      "source": [
        "## Functions Review"
      ],
      "metadata": {
        "id": "xO-Wy4EAEnQP"
      }
    },
    {
      "cell_type": "markdown",
      "metadata": {
        "id": "d2BO5T7Ffqaf"
      },
      "source": [
        "Great! Now lets continue with building out the logic of what a decorator is. Remember that in Python **everything is an object**. That means functions are objects which can be assigned labels and passed into other functions. Lets start with some simple examples:"
      ]
    },
    {
      "cell_type": "code",
      "execution_count": null,
      "metadata": {
        "collapsed": true,
        "id": "ImraVZOLfqaf"
      },
      "outputs": [],
      "source": [
        "def hello(name='Kashif'):\n",
        "    return 'Hello '+name"
      ]
    },
    {
      "cell_type": "code",
      "execution_count": null,
      "metadata": {
        "id": "e1-lcAXKfqag"
      },
      "outputs": [],
      "source": [
        "hello()"
      ]
    },
    {
      "cell_type": "markdown",
      "metadata": {
        "id": "nKqVmm7efqah"
      },
      "source": [
        "Assign another label to the function. Note that we are not using parentheses here because we are not calling the function **hello**, instead we are just passing a function object to the **greet** variable."
      ]
    },
    {
      "cell_type": "code",
      "execution_count": null,
      "metadata": {
        "collapsed": true,
        "id": "0-y2CnHVfqah"
      },
      "outputs": [],
      "source": [
        "greet = hello\n"
      ]
    },
    {
      "cell_type": "code",
      "execution_count": null,
      "metadata": {
        "id": "U29E9P7ifqah"
      },
      "outputs": [],
      "source": [
        "print(greet)\n",
        "print(type(greet))"
      ]
    },
    {
      "cell_type": "code",
      "execution_count": null,
      "metadata": {
        "id": "h_InHdb6fqai"
      },
      "outputs": [],
      "source": [
        "greet()"
      ]
    },
    {
      "cell_type": "markdown",
      "metadata": {
        "id": "2XUikQsufqai"
      },
      "source": [
        "So what happens when we delete the name **hello**?"
      ]
    },
    {
      "cell_type": "code",
      "execution_count": null,
      "metadata": {
        "collapsed": true,
        "id": "LHy8aFTBfqaj"
      },
      "outputs": [],
      "source": [
        "del hello"
      ]
    },
    {
      "cell_type": "code",
      "execution_count": null,
      "metadata": {
        "id": "7gMNCjOBfqaj"
      },
      "outputs": [],
      "source": [
        "hello()"
      ]
    },
    {
      "cell_type": "code",
      "execution_count": null,
      "metadata": {
        "id": "XwnWOG6Dfqak"
      },
      "outputs": [],
      "source": [
        "greet()"
      ]
    },
    {
      "cell_type": "markdown",
      "metadata": {
        "id": "iN7zH2Jzfqak"
      },
      "source": [
        "Even though we deleted the name **hello**, the name **greet** *still points to* our original function object. It is important to know that functions are objects that can be passed to other objects!"
      ]
    },
    {
      "cell_type": "markdown",
      "metadata": {
        "id": "cX5BMxGVfqal"
      },
      "source": [
        "## Functions within functions\n",
        "Great! So we've seen how we can treat functions as objects, now let's see how we can define functions inside of other functions:"
      ]
    },
    {
      "cell_type": "code",
      "execution_count": null,
      "metadata": {
        "collapsed": true,
        "id": "lTFJ_2tGfqal"
      },
      "outputs": [],
      "source": [
        "def hello(name='Jose'):\n",
        "    print('The hello() function has been executed')\n",
        "\n",
        "    def greet():\n",
        "        return '\\t This is inside the greet() function'\n",
        "\n",
        "    def welcome():\n",
        "        return \"\\t This is inside the welcome() function\"\n",
        "\n",
        "    print(greet())\n",
        "    print(welcome())\n",
        "\n",
        "\n",
        "    print(\"Now we are back inside the hello() function\")"
      ]
    },
    {
      "cell_type": "code",
      "execution_count": null,
      "metadata": {
        "id": "hfa8rrzEfqam"
      },
      "outputs": [],
      "source": [
        "hello()\n"
      ]
    },
    {
      "cell_type": "code",
      "execution_count": null,
      "metadata": {
        "id": "kTpi9KDJfqam"
      },
      "outputs": [],
      "source": [
        "welcome()"
      ]
    },
    {
      "cell_type": "markdown",
      "metadata": {
        "id": "Qn2lfJTbfqan"
      },
      "source": [
        "Note how due to scope, the welcome() function is not defined outside of the hello() function. Now lets learn about returning functions from within functions:\n",
        "## Returning Functions"
      ]
    },
    {
      "cell_type": "code",
      "execution_count": null,
      "metadata": {
        "collapsed": true,
        "id": "LXmp31l1fqan"
      },
      "outputs": [],
      "source": [
        "def hello(name='Jose'):\n",
        "\n",
        "    def greet():\n",
        "        return '\\t Greeting to Kashif'\n",
        "\n",
        "    def welcome():\n",
        "        return \"\\t Greeting to Guest\"\n",
        "\n",
        "    if name == 'Kashif':\n",
        "        return greet\n",
        "    else:\n",
        "        return welcome"
      ]
    },
    {
      "cell_type": "markdown",
      "metadata": {
        "id": "w1e2DFMVfqao"
      },
      "source": [
        "Now let's see what function is returned if we set x = hello(), note how the empty parentheses means that name has been defined as Kashif."
      ]
    },
    {
      "cell_type": "code",
      "execution_count": null,
      "metadata": {
        "collapsed": true,
        "id": "cLEAKq1hfqao"
      },
      "outputs": [],
      "source": [
        "x = hello()"
      ]
    },
    {
      "cell_type": "code",
      "execution_count": null,
      "metadata": {
        "id": "BTUSfUnAfqao"
      },
      "outputs": [],
      "source": [
        "print(x)"
      ]
    },
    {
      "cell_type": "markdown",
      "metadata": {
        "id": "qZ3TR9SGfqap"
      },
      "source": [
        "Great! Now we can see how x is pointing to the greet function inside of the hello function."
      ]
    },
    {
      "cell_type": "code",
      "execution_count": null,
      "metadata": {
        "id": "5T3ImnbBfqap"
      },
      "outputs": [],
      "source": [
        "print(x())"
      ]
    },
    {
      "cell_type": "markdown",
      "metadata": {
        "id": "MU4uRrx9fqaq"
      },
      "source": [
        "Let's take a quick look at the code again.\n",
        "\n",
        "In the <code>if</code>/<code>else</code> clause we are returning <code>greet</code> and <code>welcome</code>, not <code>greet()</code> and <code>welcome()</code>.\n",
        "\n",
        "This is because when you put a pair of parentheses after it, the function gets executed; whereas if you don’t put parentheses after it, then it can be passed around and can be assigned to other variables without executing it.\n",
        "\n",
        "When we write <code>x = hello()</code>, hello() gets executed and because the name is Jose by default, the function <code>greet</code> is returned. If we change the statement to <code>x = hello(name = \"Sam\")</code> then the <code>welcome</code> function will be returned. We can also do <code>print(hello()())</code> which outputs *This is inside the greet() function*."
      ]
    },
    {
      "cell_type": "code",
      "source": [
        "print(hello()())"
      ],
      "metadata": {
        "id": "ms2BAxp0qy_k"
      },
      "execution_count": null,
      "outputs": []
    },
    {
      "cell_type": "markdown",
      "metadata": {
        "id": "M3k3dhL5fqaq"
      },
      "source": [
        "## Functions as Arguments\n",
        "Now let's see how we can pass functions as arguments into other functions:"
      ]
    },
    {
      "cell_type": "code",
      "execution_count": null,
      "metadata": {
        "collapsed": true,
        "id": "h99Fbrecfqaw"
      },
      "outputs": [],
      "source": [
        "def other(func):\n",
        "    print('Other code would go here')\n",
        "    print(func())\n",
        "\n",
        "def hello():\n",
        "    return 'Hi Kashif!'"
      ]
    },
    {
      "cell_type": "code",
      "execution_count": null,
      "metadata": {
        "id": "wguU-qEffqaw"
      },
      "outputs": [],
      "source": [
        "other(hello)"
      ]
    },
    {
      "cell_type": "markdown",
      "metadata": {
        "id": "i0zntBsOfqax"
      },
      "source": [
        "Great! Note how we can pass the functions as objects and then use them within other functions. Now we can get started with writing our first decorator:"
      ]
    },
    {
      "cell_type": "markdown",
      "metadata": {
        "id": "4otgm5Ywfqax"
      },
      "source": [
        "## Creating a Decorator\n",
        "In the previous example we actually manually created a Decorator. Here we will modify it to make its use case clear:"
      ]
    },
    {
      "cell_type": "code",
      "execution_count": null,
      "metadata": {
        "collapsed": true,
        "id": "gG_DP1Iwfqax"
      },
      "outputs": [],
      "source": [
        "def new_decorator(func):\n",
        "\n",
        "    def wrap_func():\n",
        "        print(\"Code would be here, before executing the func()\")\n",
        "\n",
        "        func()\n",
        "\n",
        "        print(\"Code here will execute after the func()\")\n",
        "\n",
        "    return wrap_func\n",
        "\n",
        "def func_needs_decorator():\n",
        "    print(\"This function is in need of a Decorator\")"
      ]
    },
    {
      "cell_type": "code",
      "execution_count": null,
      "metadata": {
        "id": "o07oz-_Ofqax"
      },
      "outputs": [],
      "source": [
        "func_needs_decorator()"
      ]
    },
    {
      "cell_type": "code",
      "execution_count": null,
      "metadata": {
        "collapsed": true,
        "id": "QuQbVM56fqax"
      },
      "outputs": [],
      "source": [
        "# Reassign func_needs_decorator\n",
        "func_needs_decorator1 = new_decorator(func_needs_decorator)"
      ]
    },
    {
      "cell_type": "code",
      "source": [
        "print(func_needs_decorator1)"
      ],
      "metadata": {
        "id": "Yq4OIAndrtEx"
      },
      "execution_count": null,
      "outputs": []
    },
    {
      "cell_type": "code",
      "execution_count": null,
      "metadata": {
        "id": "B1FLl4Ftfqay"
      },
      "outputs": [],
      "source": [
        "func_needs_decorator1()"
      ]
    },
    {
      "cell_type": "markdown",
      "metadata": {
        "id": "IuxxVge4fqay"
      },
      "source": [
        "So what just happened here? A decorator simply wrapped the function and modified its behavior. Now let's understand how we can rewrite this code using the @ symbol, which is what Python uses for Decorators:"
      ]
    },
    {
      "cell_type": "code",
      "execution_count": null,
      "metadata": {
        "collapsed": true,
        "id": "UD_YIS6pfqay"
      },
      "outputs": [],
      "source": [
        "@new_decorator\n",
        "def func_needs_decorator():\n",
        "    print(\"This function is in need of a Decorator\")"
      ]
    },
    {
      "cell_type": "code",
      "execution_count": null,
      "metadata": {
        "id": "8JIE6c1mfqay"
      },
      "outputs": [],
      "source": [
        "func_needs_decorator()"
      ]
    },
    {
      "cell_type": "code",
      "source": [
        "def func_needs_decorator():\n",
        "    print(\"This function is in need of a Decorator\")"
      ],
      "metadata": {
        "id": "vV60prepw0Tt"
      },
      "execution_count": null,
      "outputs": []
    },
    {
      "cell_type": "code",
      "source": [
        "func_needs_decorator()"
      ],
      "metadata": {
        "id": "Jzh3eq9hxiI0"
      },
      "execution_count": null,
      "outputs": []
    },
    {
      "cell_type": "markdown",
      "metadata": {
        "id": "BhQ3axcQfqay"
      },
      "source": [
        "**Great! You've now built a Decorator manually and then saw how we can use the @ symbol in Python to automate this and clean our code. You'll run into Decorators a lot if you begin using Python for Api such as FastApi or Web Development, such as Flask or Django!**"
      ]
    }
  ],
  "metadata": {
    "kernelspec": {
      "display_name": "Python 3",
      "language": "python",
      "name": "python3"
    },
    "language_info": {
      "codemirror_mode": {
        "name": "ipython",
        "version": 3
      },
      "file_extension": ".py",
      "mimetype": "text/x-python",
      "name": "python",
      "nbconvert_exporter": "python",
      "pygments_lexer": "ipython3",
      "version": "3.6.6"
    },
    "colab": {
      "provenance": [],
      "collapsed_sections": [
        "0WdTQe2UXDik"
      ]
    }
  },
  "nbformat": 4,
  "nbformat_minor": 0
}