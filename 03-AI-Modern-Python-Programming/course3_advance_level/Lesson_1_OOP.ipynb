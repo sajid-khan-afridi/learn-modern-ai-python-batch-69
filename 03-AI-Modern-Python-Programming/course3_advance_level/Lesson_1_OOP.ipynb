{
  "cells": [
    {
      "cell_type": "markdown",
      "source": [
        "# **1. Exploring the Internal Structure of a Python Program: A Deep Dive into Objects and Classes**"
      ],
      "metadata": {
        "id": "OOTO07COU_e4"
      },
      "id": "OOTO07COU_e4"
    },
    {
      "cell_type": "markdown",
      "id": "05e7cad5",
      "metadata": {
        "id": "05e7cad5"
      },
      "source": [
        "\n",
        "\n",
        "In Python, **everything is an object**—including integers, strings, lists, and even functions. Objects are created using **classes**, which act like blueprints specifying the data (variables) and behavior (methods) that objects have.\n",
        "\n",
        "Everything is an object in Python: Even primitive types like int, str, or float are represented as objects (instances of their respective classes).\n",
        "\n",
        "\n",
        "---\n",
        "\n",
        "## 1.1 Variables and Objects\n",
        "\n",
        "- When you do something like `x = 10`, Python creates an integer object `10` and then **binds** the variable name `x` to that object.\n",
        "\n",
        "\n",
        "## 1.2 Advanced Ideas\n",
        "\n",
        "- **`type` is a Class**: Even `int`, `str`, and your custom classes are instances of the built-in `type`.\n",
        "- **Metaclasses**: “Classes for classes” that let you modify how classes themselves are created (rarely needed for beginners).\n",
        "\n",
        "---\n",
        "\n",
        "- Objects (e.g., 10, \"hello\") → Instances of classes (int, str)  \n",
        "- Classes (e.g., int, str) → Instances of the `type` metaclass  \n",
        "- Metaclass (`type`) → Instance of itself (self-referential)\n",
        "\n"
      ]
    },
    {
      "cell_type": "code",
      "source": [
        "# Everything in Python is an object\n",
        "\n",
        "x : int = 10\n",
        "\n",
        "print(type(x)) #output: <class 'int'>\n",
        "# Explanation:\n",
        "# - `x` is an instance (object) of the `int` class.\n",
        "# - The output `<class 'int'>` shows the type/class of `x`.\n",
        "\n",
        "\n",
        "print(type(int)) #output: <class 'type'>\n",
        "# Explanation:\n",
        "# - The `int` class itself is an instance of the `type` metaclass.\n",
        "# - The output `<class 'type'>` shows that classes in Python are objects created by the `type` metaclass\n",
        "\n",
        "print(type(type))\n",
        "# Explanation:\n",
        "# - The `type` metaclass is itself an object, and its type is `type` (it is its own metaclass).\n",
        "# - This makes `type` the foundation of Python's type system—it creates and defines all classes (including itself).\n",
        "# - The output `<class 'type'>` confirms the self-referential nature of the `type` metaclass."
      ],
      "metadata": {
        "id": "De_5QM--mcFS",
        "colab": {
          "base_uri": "https://localhost:8080/"
        },
        "outputId": "6e872644-1f70-4653-ba59-16fe4f3c45db"
      },
      "id": "De_5QM--mcFS",
      "execution_count": 1,
      "outputs": [
        {
          "output_type": "stream",
          "name": "stdout",
          "text": [
            "<class 'int'>\n",
            "<class 'type'>\n",
            "<class 'type'>\n"
          ]
        }
      ]
    },
    {
      "cell_type": "markdown",
      "id": "46849ee0",
      "metadata": {
        "id": "46849ee0"
      },
      "source": [
        "## 1.3 Functions as Objects\n",
        "\n",
        "- Functions are treated like any other object (integers, strings, etc.)\n",
        "\n",
        "- The output <class 'function'> shows functions are instances of the function class\n",
        "\n",
        "### Example\n"
      ]
    },
    {
      "cell_type": "code",
      "execution_count": 6,
      "id": "6ef53b39",
      "metadata": {
        "id": "6ef53b39",
        "colab": {
          "base_uri": "https://localhost:8080/"
        },
        "outputId": "2f5cafbe-39a8-4d99-9369-b1b952c0ccd7"
      },
      "outputs": [
        {
          "output_type": "stream",
          "name": "stdout",
          "text": [
            "<class 'function'>\n",
            "Hello, Basit!\n"
          ]
        }
      ],
      "source": [
        "# Functions are first-class objects in Python. They can be:\n",
        "# - Assigned to variables\n",
        "# - Passed as arguments\n",
        "# - Stored in data structures\n",
        "\n",
        "# 1. Define a function\n",
        "def greet(name):\n",
        "    return f\"Hello, {name}!\"\n",
        "\n",
        "# 2. Assign the function object to a variable (not calling it - no parentheses)\n",
        "say_hello = greet\n",
        "\n",
        "# 3. Verify the type (shows it's a function object)\n",
        "print(type(say_hello))  # Output: <class 'function'>\n",
        "\n",
        "# 4. Use the variable to call the function\n",
        "result = say_hello(\"Basit\")\n",
        "print(result)  # Output: \"Hello, Basit!\"\n",
        "\n"
      ]
    },
    {
      "cell_type": "markdown",
      "id": "69b2b31b",
      "metadata": {
        "id": "69b2b31b"
      },
      "source": [
        "## 1.4 Classes and Instances\n",
        "\n",
        "A **class** is a template or blueprint for creating objects. It defines the properties (data) and actions (methods) they have. An **instance** (or “object”) is a concrete realization of that class.\n",
        "\n"
      ]
    },
    {
      "cell_type": "code",
      "execution_count": 12,
      "id": "f66b0405",
      "metadata": {
        "id": "f66b0405",
        "colab": {
          "base_uri": "https://localhost:8080/"
        },
        "outputId": "bd09a6a8-ce85-4997-ea29-c2f162382235"
      },
      "outputs": [
        {
          "output_type": "stream",
          "name": "stdout",
          "text": [
            "<class '__main__.SampleClass'>\n"
          ]
        }
      ],
      "source": [
        "class SampleClass: # CamelCase\n",
        "    pass           #'pass' is a placeholder for an empty block\n",
        "\n",
        "my_sample = SampleClass()  # my_sample is an instance or object of SampleClass\n",
        "print(type(my_sample))"
      ]
    },
    {
      "cell_type": "code",
      "source": [
        "%%writefile my_program.py\n",
        "class Dog:\n",
        "    pass\n",
        "\n",
        "my_dog = Dog()\n",
        "# print(type(my_dog))  # Output: <class '__main__.Dog'>"
      ],
      "metadata": {
        "colab": {
          "base_uri": "https://localhost:8080/"
        },
        "id": "qTgRgVon9vUk",
        "outputId": "66146a28-1afe-4e37-a797-98d3e17223e5"
      },
      "id": "qTgRgVon9vUk",
      "execution_count": 3,
      "outputs": [
        {
          "output_type": "stream",
          "name": "stdout",
          "text": [
            "Overwriting my_program.py\n"
          ]
        }
      ]
    },
    {
      "cell_type": "code",
      "source": [
        "from my_program import Dog  # Now this works!\n",
        "store_dog = Dog()\n",
        "print(type(store_dog))  # Output: <class 'my_program.Dog'>"
      ],
      "metadata": {
        "colab": {
          "base_uri": "https://localhost:8080/"
        },
        "id": "KmF-aZNs8YsO",
        "outputId": "9d076eee-5c02-4944-e8c7-0d90e97210d9"
      },
      "id": "KmF-aZNs8YsO",
      "execution_count": 4,
      "outputs": [
        {
          "output_type": "stream",
          "name": "stdout",
          "text": [
            "<class 'my_program.Dog'>\n"
          ]
        }
      ]
    },
    {
      "cell_type": "markdown",
      "id": "b44f7b87",
      "metadata": {
        "id": "b44f7b87"
      },
      "source": [
        "### 1.4.1 `__init__` Method and `self`\n",
        "- `__init__` is a special method (often called the constructor) that **automatically runs** whenever you create an instance or object of a class.\n",
        "- The `self` parameter in Python methods refers to **the instance** on which the method is called.  \n",
        "- By convention, we always name this parameter `self`, but technically you could name it anything.\n",
        "\n",
        "**Example**:\n"
      ]
    },
    {
      "cell_type": "code",
      "execution_count": 5,
      "id": "9327e49c",
      "metadata": {
        "id": "9327e49c",
        "colab": {
          "base_uri": "https://localhost:8080/"
        },
        "outputId": "18cbd88b-727c-4428-a5a0-d8bec0d4749e"
      },
      "outputs": [
        {
          "output_type": "stream",
          "name": "stdout",
          "text": [
            "<__main__.Dog object at 0x7d8fa58bd4d0>\n",
            "<class '__main__.Dog'>\n",
            "Lab\n"
          ]
        }
      ],
      "source": [
        "class Dog:\n",
        "    def __init__(self, mybreed):\n",
        "        self.breed = mybreed  # 'breed' is an attribute\n",
        "        # print(self) #<__main__.Dog object at 0x7a04b807fb10>\n",
        "\n",
        "# my_dog = Dog()  # This would cause an error (missing argument)\n",
        "my_dog = Dog(mybreed='Lab')\n",
        "# print(my_dog) #<__main__.Dog object at 0x7a04b807fb10>\n",
        "print(type(my_dog))   # <class '__main__.Dog'>\n",
        "print(my_dog.breed)   # Lab\n"
      ]
    },
    {
      "cell_type": "code",
      "source": [
        "class Dog:\n",
        "    # The __init__ method sets up the dog's name and age\n",
        "    def __init__(self, name, age):\n",
        "        self.name = name  # self.name refers to this specific dog's name\n",
        "        self.age = age    # self.age refers to this specific dog's age\n",
        "\n",
        "    # A method to make the dog bark\n",
        "    def bark(self):\n",
        "        return f\"{self.name} says Woof!\"\n",
        "\n",
        "    # A method to increase the dog's age\n",
        "    def have_birthday(self):\n",
        "        self.age += 1  # Access and modify the specific dog's age\n",
        "        return f\"Happy Birthday, {self.name}! You are now {self.age} years old.\"\n",
        "\n",
        "# Create an instance of the Dog class\n",
        "my_dog = Dog(\"Buddy\", 3)\n",
        "\n",
        "# Call methods on the instance\n",
        "print(my_dog.bark())  # Buddy says Woof!\n",
        "print(my_dog.have_birthday())  # Happy Birthday, Buddy! You are now 4 years old.\n"
      ],
      "metadata": {
        "id": "Zs3F_jJHsnyw"
      },
      "id": "Zs3F_jJHsnyw",
      "execution_count": null,
      "outputs": []
    },
    {
      "cell_type": "markdown",
      "source": [
        "# **2. Introduction to Procedural Programming vs. Object-Oriented Programming (OOP)**\n"
      ],
      "metadata": {
        "id": "BqMagOuzUz04"
      },
      "id": "BqMagOuzUz04"
    },
    {
      "cell_type": "markdown",
      "source": [
        "- **Procedural Programming**: Focuses on writing code in a **top-down**, **step-by-step** manner. As code grows, functions can multiply, and data might be scattered, leading to “spaghetti code.”\n",
        "- **Object-Oriented Programming (OOP)**: Groups data and behaviors into **classes** and **objects**, supporting better organization, maintainability, and scalability.\n",
        "\n",
        "---\n",
        "\n",
        "## 2.1 Procedural Programming\n",
        "\n",
        "### Definition\n",
        "A style where code is primarily a set of procedures (functions) operating on data. Functions and data are often kept separate.\n",
        "\n",
        "**Key Points**:\n",
        "- Functions and data are separate (e.g., global variables and standalone functions).  \n",
        "- Straightforward for smaller scripts, but can become unwieldy as the project grows.\n",
        "- Code often runs in a simple, top-down flow.  \n",
        "- Can lead to *spaghetti code* if too many functions and global data are mixed.\n",
        "\n",
        "**Analogy**: Think of a small kitchen where all ingredients (data) are shared on open shelves and cooks (functions) can modify them freely. This is easy when there’s little going on, but chaos arises as the restaurant grows—too many cooks, too many shelves, and no clear structure."
      ],
      "metadata": {
        "id": "lUjfCwvWfLxZ"
      },
      "id": "lUjfCwvWfLxZ"
    },
    {
      "cell_type": "markdown",
      "id": "9b8e2f5a",
      "metadata": {
        "id": "9b8e2f5a"
      },
      "source": [
        "## 2.2 Object-Oriented Programming (OOP)\n",
        "\n",
        "### Definition\n",
        "Organizes data and behaviors into **classes** (blueprints) from which objects are created.\n",
        "\n",
        "**Key Points**:\n",
        "- **Classes and Objects**: A class defines attributes and methods, and objects are instances of that class.  \n",
        "- **Encapsulation**: Data (attributes) and behaviors (methods) live together, protecting data from unwanted changes.  \n",
        "- **Reusability**: Inheritance allows new classes to build on existing ones, reducing duplication.\n",
        "\n",
        "\n",
        "**Analogy**: Imagine a well-structured bakery where each station (class/object) has its own tools and methods. You can add a new station or update an existing one without disrupting the entire bakery."
      ]
    },
    {
      "cell_type": "markdown",
      "source": [],
      "metadata": {
        "id": "GMCwwGxkUwB6"
      },
      "id": "GMCwwGxkUwB6"
    },
    {
      "cell_type": "markdown",
      "source": [
        "# **3. In Python, Everything is an Object**"
      ],
      "metadata": {
        "id": "UMMCdCuIUh1D"
      },
      "id": "UMMCdCuIUh1D"
    },
    {
      "cell_type": "markdown",
      "id": "5db6a8ba",
      "metadata": {
        "id": "5db6a8ba"
      },
      "source": [
        "\n",
        "We’ll illustrate **classes** and **objects** using a playful analogy—**building toy animals**.\n",
        "\n",
        "## 3.1 What is a Class? 🏗️\n",
        "\n",
        "A **class** is like a **plan or recipe** that describes **how** to build a toy (in our analogy). It doesn’t create the toy by itself but outlines what the toy will have (attributes) and what it can do (methods).\n",
        "\n",
        "### Example Blueprint\n",
        "- **Plan Name**: `Animal`\n",
        "- **Attributes**: `name`, `sound`\n",
        "- **Methods**: `make_sound()`, `give_hug()`\n",
        "\n"
      ]
    },
    {
      "cell_type": "code",
      "execution_count": null,
      "id": "b2f17e13",
      "metadata": {
        "id": "b2f17e13"
      },
      "outputs": [],
      "source": [
        "class Animal:\n",
        "    def __init__(self, name, sound):\n",
        "        self.name = name\n",
        "        self.sound = sound\n",
        "        self.hugs_given = 0\n",
        "\n",
        "    def give_hug(self):\n",
        "        self.hugs_given += 1\n",
        "        return \"❤️ *squeeze*\"\n",
        "\n",
        "    def make_sound(self):\n",
        "        print(f\"{self.name} goes {self.sound}\")\n"
      ]
    },
    {
      "cell_type": "markdown",
      "id": "d859e4f8",
      "metadata": {
        "id": "d859e4f8"
      },
      "source": [
        "\n",
        "- `__init__`: The “magic setup” (constructor) that runs when an `Animal` is created.\n",
        "- `self.name` / `self.sound`: Attributes unique to each `Animal`.\n",
        "- `give_hug()` and `make_sound()`: Methods an `Animal` can perform.\n",
        "\n",
        "---\n",
        "\n",
        "## 3.2 Creating Actual Toy Animals (Objects) 🐻🐸\n",
        "\n",
        "Once we have the **plan** (`Animal` class), we can create **instances** (real toys):\n",
        "\n"
      ]
    },
    {
      "cell_type": "code",
      "execution_count": null,
      "id": "230becd0",
      "metadata": {
        "id": "230becd0"
      },
      "outputs": [],
      "source": [
        "bear = Animal(\"Bear\", \"Roar\")\n",
        "frog = Animal(\"Frog\", \"Ribbit\")\n",
        "\n",
        "print(bear)  # <__main__.Animal object at 0x...>\n",
        "print(frog)  # <__main__.Animal object at 0x...>\n"
      ]
    },
    {
      "cell_type": "markdown",
      "id": "59a646e2",
      "metadata": {
        "id": "59a646e2"
      },
      "source": [
        "\n",
        "You now have two distinct **objects**:\n",
        "- `bear`, which knows its own `name` and `sound` is `\"Roar\"`.\n",
        "- `frog`, with `name` `\"Frog\"` and `sound` `\"Ribbit\"`.\n",
        "\n",
        "### Checking Attributes\n",
        "\n"
      ]
    },
    {
      "cell_type": "code",
      "execution_count": null,
      "id": "57947c2b",
      "metadata": {
        "id": "57947c2b"
      },
      "outputs": [],
      "source": [
        "print(bear.name)\n",
        "print(bear.sound)"
      ]
    },
    {
      "cell_type": "code",
      "source": [
        "print(frog.name)\n",
        "print(frog.sound)"
      ],
      "metadata": {
        "id": "fNK5KZfeR40P"
      },
      "id": "fNK5KZfeR40P",
      "execution_count": null,
      "outputs": []
    },
    {
      "cell_type": "markdown",
      "id": "3b2885e3",
      "metadata": {
        "id": "3b2885e3"
      },
      "source": [
        "\n",
        "### Calling Methods\n",
        "\n"
      ]
    },
    {
      "cell_type": "code",
      "execution_count": null,
      "id": "97dadf05",
      "metadata": {
        "id": "97dadf05"
      },
      "outputs": [],
      "source": [
        "bear.make_sound()\n",
        "frog.make_sound()\n",
        "\n",
        "print(bear.give_hug())\n"
      ]
    },
    {
      "cell_type": "markdown",
      "id": "3ec24f63",
      "metadata": {
        "id": "3ec24f63"
      },
      "source": [
        "\n",
        "---\n",
        "\n",
        "## 3.3 Example with a ToyBox\n",
        "\n",
        "You can store multiple toys (objects) inside another object or data structure:\n",
        "\n"
      ]
    },
    {
      "cell_type": "code",
      "execution_count": null,
      "id": "fff15388",
      "metadata": {
        "id": "fff15388"
      },
      "outputs": [],
      "source": [
        "class ToyBox:\n",
        "    def __init__(self):\n",
        "        self.toys = []\n",
        "\n",
        "    def add_toy(self, toy):\n",
        "        self.toys.append(toy)\n",
        "        # print(toy)\n",
        "        print(f\"Added {toy.name} to the toy box!\")\n",
        "\n",
        "    def play_with_all(self):\n",
        "        for toy in self.toys:\n",
        "            print(f\"Playing with {toy.name}\")\n",
        "            toy.give_hug()\n"
      ]
    },
    {
      "cell_type": "markdown",
      "id": "0023b979",
      "metadata": {
        "id": "0023b979"
      },
      "source": [
        "\n",
        "**Usage**:\n"
      ]
    },
    {
      "cell_type": "code",
      "execution_count": null,
      "id": "a2d8327a",
      "metadata": {
        "id": "a2d8327a"
      },
      "outputs": [],
      "source": [
        "my_box = ToyBox()\n",
        "bear1 = Animal(\"Black Bear\", \"Woof\")\n",
        "bear2 = Animal(\"Brown Bear\", \"Woof\")\n",
        "\n",
        "my_box.add_toy(bear1)\n",
        "my_box.add_toy(bear2)\n",
        "\n",
        "my_box.play_with_all()\n"
      ]
    },
    {
      "cell_type": "markdown",
      "id": "ed62d793",
      "metadata": {
        "id": "ed62d793"
      },
      "source": [
        "\n",
        "**Output**:\n",
        "Added Black Bear to the toy box!\n",
        "Added Brown Bear to the toy box!\n",
        "Playing with Black Bear\n",
        "Playing with Brown Bear\n",
        "(`hugs_given` increments, though we don’t see it printed—feel free to add logging or print statements.)\n",
        "\n",
        "---\n",
        "\n",
        "\n"
      ]
    },
    {
      "cell_type": "markdown",
      "source": [
        "# **4. Magic Methods in Classes**"
      ],
      "metadata": {
        "id": "IJee0D9ZUKT4"
      },
      "id": "IJee0D9ZUKT4"
    },
    {
      "cell_type": "markdown",
      "source": [
        "\n",
        "\n",
        "Python classes have “magic methods”—special methods with double underscores (like `__init__`, `__repr__`, and so on). These give your objects extra, built-in capabilities.\n",
        "\n",
        "We call these **\"dunder\"** (double underscore) methods or **magic methods** because they do special things automatically.\n",
        "\n",
        "## 4.1 `__init__`: The Builder Method\n",
        "\n",
        "We’ve already used `__init__`. It’s automatically called when you create a new instance:"
      ],
      "metadata": {
        "id": "XrBpi1_fQdpU"
      },
      "id": "XrBpi1_fQdpU"
    },
    {
      "cell_type": "code",
      "execution_count": null,
      "id": "bb583b05",
      "metadata": {
        "id": "bb583b05"
      },
      "outputs": [],
      "source": [
        "bear = Animal(\"Bear\", \"Roar\")  # __init__ behind the scenes\n"
      ]
    },
    {
      "cell_type": "markdown",
      "id": "335e7871",
      "metadata": {
        "id": "335e7871"
      },
      "source": [
        "\n",
        "---\n",
        "\n",
        "## 4.2 `__repr__`: A Developer-Friendly Representation\n",
        "\n",
        "`__repr__` returns a **string representation** of the object, often used for debugging or logging. Without it, printing an object might show `<Animal object at 0x...>`. With `__repr__`, you can see something more meaningful:\n",
        "\n"
      ]
    },
    {
      "cell_type": "code",
      "execution_count": null,
      "id": "a712b562",
      "metadata": {
        "id": "a712b562"
      },
      "outputs": [],
      "source": [
        "class Animal:\n",
        "    def __init__(self, name, sound):\n",
        "        self.name = name\n",
        "        self.sound = sound\n",
        "\n",
        "    def make_sound(self):\n",
        "        print(f\"{self.name} goes {self.sound}\")\n",
        "\n",
        "    def __repr__(self):\n",
        "        return f\"Animal(name='{self.name}', sound='{self.sound}')\"\n"
      ]
    },
    {
      "cell_type": "markdown",
      "id": "6664ba7c",
      "metadata": {
        "id": "6664ba7c"
      },
      "source": [
        "\n",
        "Now:\n"
      ]
    },
    {
      "cell_type": "code",
      "execution_count": null,
      "id": "712c46ad",
      "metadata": {
        "id": "712c46ad"
      },
      "outputs": [],
      "source": [
        "bear = Animal(\"Bear\", \"Roar\")\n",
        "print(bear)       # Animal(name='Bear', sound='Roar')\n"
      ]
    },
    {
      "cell_type": "markdown",
      "id": "bffee5e0",
      "metadata": {
        "id": "bffee5e0"
      },
      "source": [
        "\n",
        "---\n",
        "\n",
        "## 4.3 `__str__`: A User-Friendly Description\n",
        "\n",
        "`__str__` is similar to `__repr__`, but it’s meant to be a more **user-friendly** or **“pretty”** string. If both `__repr__` and `__str__` are defined, Python uses `__str__` when you call `print()`:\n",
        "\n"
      ]
    },
    {
      "cell_type": "code",
      "execution_count": null,
      "id": "515bba2c",
      "metadata": {
        "id": "515bba2c"
      },
      "outputs": [],
      "source": [
        "class Animal:\n",
        "    def __init__(self, name, sound):\n",
        "        self.name = name\n",
        "        self.sound = sound\n",
        "\n",
        "    def __repr__(self):\n",
        "        return f\"Animal(name='{self.name}', sound='{self.sound}')\"\n",
        "\n",
        "    def __str__(self):\n",
        "        return f\"This is a {self.name} that goes '{self.sound}'!\"\n"
      ]
    },
    {
      "cell_type": "code",
      "source": [
        "print(Animal(name='Wolf', sound='Growl'))\n",
        "\n",
        "bear2 = Animal(name='Bear', sound='Roar')\n",
        "\n",
        "bear2 # Animal(name='Bear', sound='Roar')\n",
        "\n",
        "print(bear2) # This is a Bear that goes 'Roar'!"
      ],
      "metadata": {
        "id": "cjMPFpP_TafX"
      },
      "id": "cjMPFpP_TafX",
      "execution_count": null,
      "outputs": []
    },
    {
      "cell_type": "markdown",
      "id": "e08c935d",
      "metadata": {
        "id": "e08c935d"
      },
      "source": [
        "\n",
        "---\n",
        "\n",
        "## 4.4 `__add__`: Defining Custom “+” Behavior\n",
        "\n",
        "You can define how objects combine with `+` by implementing `__add__`. For example, combine two animals to create a third “hybrid”:\n",
        "\n"
      ]
    },
    {
      "cell_type": "code",
      "execution_count": null,
      "id": "b43f396a",
      "metadata": {
        "id": "b43f396a"
      },
      "outputs": [],
      "source": [
        "class Animal:\n",
        "    def __init__(self, name, sound):\n",
        "        self.name = name\n",
        "        self.sound = sound\n",
        "\n",
        "    def __repr__(self):\n",
        "        return f\"Animal(name='{self.name}', sound='{self.sound}')\"\n",
        "\n",
        "    def __str__(self):\n",
        "        return f\"This is a {self.name} that goes '{self.sound}'!\"\n",
        "\n",
        "    def __add__(self, other):\n",
        "        return Animal(self.name + \"-\" + other.name, self.sound + \"-\" + other.sound)\n",
        "\n",
        "lion = Animal(\"Lion\", \"Roar\")\n",
        "tiger = Animal(\"Tiger\", \"Growl\")\n",
        "\n",
        "liger = lion + tiger\n",
        "print(liger)  # This is a Lion-Tiger that goes 'Roar-Growl'!\n"
      ]
    },
    {
      "cell_type": "markdown",
      "source": [
        "\n",
        "---\n",
        "\n",
        "# **5. Introduction to Object-Oriented Programming (OOP)**\n"
      ],
      "metadata": {
        "id": "9eByT7J-UWkd"
      },
      "id": "9eByT7J-UWkd"
    },
    {
      "cell_type": "markdown",
      "id": "496d521d",
      "metadata": {
        "id": "496d521d"
      },
      "source": [
        "\n",
        "## 5.1 What is OOP?\n",
        "\n",
        "**OOP** stands for Object-Oriented Programming. It's a programming paradigm that organizes software design around objects rather than actions and data rather than logic . In OOP, objects are instances of classes, which define their properties (attributes or fields) and behaviors (methods or functions). This approach promotes modularity, reusability, and easier maintenance of code.\n",
        "\n",
        "----\n",
        "\n",
        "Imagine you want to create a virtual world where you can make cars, animals, and people—all sorts of things! You don’t want to create everything from scratch every time; instead, you want to create a **plan** for each type of thing so you can make as many as you want quickly and easily. That's where **Object-Oriented Programming (OOP)** comes in.\n",
        "\n",
        "----\n",
        "In OOP:\n",
        "- A **class** is a blueprint,\n",
        "- An **object** is an instance of that class,\n",
        "- **Methods** are functions belonging to that class,\n",
        "- **Attributes** are data stored in the object.\n",
        "\n",
        "Popular OOP languages include Python, Java, and C++.\n",
        "\n",
        "**Why OOP?**\n",
        "- **Reuse**: Write once, create many instances.\n",
        "- **Organization**: Group related data and functions together.\n",
        "- **Modeling Real Life**: Classes can mirror real-world entities.\n",
        "\n",
        "---\n",
        "\n",
        "## 5.2 Basic Example\n",
        "\n"
      ]
    },
    {
      "cell_type": "code",
      "execution_count": null,
      "id": "969076cf",
      "metadata": {
        "id": "969076cf"
      },
      "outputs": [],
      "source": [
        "class Car:\n",
        "    def __init__(self, color, brand):\n",
        "        self.color = color\n",
        "        self.brand = brand\n",
        "\n",
        "    def drive(self):\n",
        "        print(f\"The {self.color} {self.brand} is driving!\")\n",
        "\n",
        "my_car = Car(\"red\", \"Toyota\")\n",
        "your_car = Car(\"blue\", \"Honda\")\n",
        "\n",
        "my_car.drive()   # The red Toyota is driving!\n",
        "your_car.drive() # The blue Honda is driving!\n"
      ]
    },
    {
      "cell_type": "markdown",
      "id": "c133e790",
      "metadata": {
        "id": "c133e790"
      },
      "source": [
        "\n",
        "---\n",
        "\n",
        "## 5.3 Four Pillars of OOP\n",
        "\n",
        "1. **Encapsulation**  \n",
        "2. **Inheritance**  \n",
        "3. **Polymorphism**  \n",
        "4. **Abstraction**\n",
        "\n",
        "---\n",
        "\n",
        "### 5.3.1 Encapsulation\n",
        "\n",
        "**Encapsulation** is about wrapping all the data and functions that belong to an object into one box (the class). This makes sure that the object keeps its data safe and interacts with the outside world only through defined methods.\n",
        "\n",
        "Think of encapsulation as a **toy in a box**. You can only press a few buttons on the outside of the box to play with the toy, but you can't mess with the inside.\n",
        "\n",
        "#### Example: Private Attributes\n",
        "Although Python doesn’t enforce privacy in the same way as some languages, using double underscores (`__`) is a **convention** for private attributes:\n",
        "\n"
      ]
    },
    {
      "cell_type": "code",
      "execution_count": null,
      "id": "4f35f8ed",
      "metadata": {
        "id": "4f35f8ed"
      },
      "outputs": [],
      "source": [
        "class Toy:\n",
        "    def __init__(self, name, sound):\n",
        "        self.name = name      # Public attribute\n",
        "        self.__sound = sound  # Private attribute (using __)\n",
        "\n",
        "    def make_sound(self):\n",
        "        print(f\"{self.name} says {self.__sound}\")\n",
        "\n",
        "    # def __repr__(self) -> str:\n",
        "    #     return f\"Toy(name='{self.name}', sound='{self.__sound}')\"\n",
        "\n",
        "my_toy = Toy(\"Teddy Bear\", \"Growl\")\n",
        "my_toy.make_sound()  # Output: Teddy Bear says Growl\n",
        "\n",
        "# my_toy.make_sound()  # Output: Teddy Bear says Growl\n"
      ]
    },
    {
      "cell_type": "code",
      "source": [
        "# print(my_toy)\n",
        "# my_toy.__sound = \"Loud\"  # This will not change __sound\n",
        "# print(my_toy)"
      ],
      "metadata": {
        "id": "hHHRKZMTwc1A"
      },
      "id": "hHHRKZMTwc1A",
      "execution_count": null,
      "outputs": []
    },
    {
      "cell_type": "code",
      "source": [
        "print(my_toy.name)\n",
        "my_toy.__sound"
      ],
      "metadata": {
        "id": "fuv49jOcwfh2"
      },
      "id": "fuv49jOcwfh2",
      "execution_count": null,
      "outputs": []
    },
    {
      "cell_type": "markdown",
      "source": [
        "\n",
        "- Here, `__sound` is **private**, meaning no one outside can change it.\n",
        "- You can only interact with it through the method `make_sound()`.\n",
        "\n",
        "### **More Encapsulation Example**\n",
        "\n",
        "Consider a **Bank Account** class where we want to keep the balance private:"
      ],
      "metadata": {
        "id": "m0FSIanSwto6"
      },
      "id": "m0FSIanSwto6"
    },
    {
      "cell_type": "code",
      "source": [
        "class BankAccount:\n",
        "    def __init__(self, account_holder, balance):\n",
        "        self.account_holder = account_holder\n",
        "        self.__balance = balance  # Private attribute\n",
        "\n",
        "    def deposit(self, amount):\n",
        "        if amount > 0:\n",
        "            self.__balance += amount\n",
        "            print(f\"Deposited {amount}. New balance is {self.__balance}\")\n",
        "        else:\n",
        "            print(\"Deposit amount must be positive.\")\n",
        "\n",
        "    def get_balance(self):\n",
        "        return self.__balance\n",
        "\n",
        "# Creating an account\n",
        "my_account = BankAccount(\"John Doe\", 1000)\n",
        "print(my_account.get_balance())\n",
        "my_account.deposit(500)\n",
        "print(my_account.get_balance())"
      ],
      "metadata": {
        "id": "ttG1PuOrwvY1"
      },
      "id": "ttG1PuOrwvY1",
      "execution_count": null,
      "outputs": []
    },
    {
      "cell_type": "markdown",
      "source": [
        "- The **balance** is kept private to ensure no one can change it directly without using the proper method."
      ],
      "metadata": {
        "id": "G1A-5lAvw0Sc"
      },
      "id": "G1A-5lAvw0Sc"
    },
    {
      "cell_type": "markdown",
      "id": "d7184201",
      "metadata": {
        "id": "d7184201"
      },
      "source": [
        "### 5.3.2 **Pillar 2: Inheritance**\n",
        "**Inheritance** means that one class can borrow properties and behaviors from another. If you have a `Vehicle` class, a `Car` can inherit from it, meaning you don’t need to write all the car features from scratch—you just extend the existing class.\n",
        "\n",
        "Think of it as **getting some features from your parents**.\n",
        "\n",
        "- `__init__` is the constructor method responsible for initializing the object's state.\n",
        "- `super()` is a function used to call methods (including constructors) from the parent class within the subclass.\n"
      ]
    },
    {
      "cell_type": "code",
      "execution_count": null,
      "id": "4c018db6",
      "metadata": {
        "id": "4c018db6"
      },
      "outputs": [],
      "source": [
        "class Vehicle:\n",
        "    def __init__(self, brand):\n",
        "        self.brand = brand\n",
        "\n",
        "    def honk(self):\n",
        "        print(\"Beep beep!\")\n",
        "\n",
        "class ElectricCar(Vehicle):  # Car inherits from Vehicle\n",
        "    def __init__(self, brand, color):\n",
        "        # super().honk()\n",
        "        super().__init__(brand) # super\n",
        "        self.color = color\n",
        "\n",
        "my_car = ElectricCar(\"Tesla\", \"red\")\n",
        "my_car.honk()\n",
        "\n"
      ]
    },
    {
      "cell_type": "markdown",
      "source": [
        "1. **`__init__` (Constructor Method)**:\n",
        "   - `__init__` is a special method in Python classes that is automatically called when a new instance (object) of the class is created.\n",
        "   - Its primary purpose is to initialize the object's state by setting initial values for its attributes.\n",
        "   - This method is where you typically perform initialization tasks such as assigning values to instance variables based on arguments passed to the constructor.\n",
        "\n",
        "2. **`super()` (Super() function)**:\n",
        "   - `super()` is a built-in function in Python used to call methods and constructors from a parent class (superclass) within a subclass (derived class).\n",
        "   - It allows you to explicitly call methods and constructors of the parent class to reuse code or extend functionality without duplicating it in the subclass.\n",
        "   - It is often used inside the `__init__` method of a subclass to invoke the constructor of the parent class and initialize inherited attributes."
      ],
      "metadata": {
        "id": "rqUSo7rgxNBq"
      },
      "id": "rqUSo7rgxNBq"
    },
    {
      "cell_type": "markdown",
      "source": [
        "### **More Inheritance Example**\n",
        "\n",
        "Let's say we have a `Person` class, and we want to create a `Student` class that inherits from `Person`:\n"
      ],
      "metadata": {
        "id": "i65KTZORxQ7u"
      },
      "id": "i65KTZORxQ7u"
    },
    {
      "cell_type": "code",
      "source": [
        "class Person:\n",
        "    def __init__(self, name, age):\n",
        "        self.name = name\n",
        "        self.age = age\n",
        "\n",
        "    def introduce(self):\n",
        "        print(f\"Hello, my name is {self.name} and I am {self.age} years old.\")\n",
        "\n",
        "class Student(Person):\n",
        "    def __init__(self, name, age, student_id):\n",
        "        super().__init__(name, age)\n",
        "        self.student_id = student_id\n",
        "\n",
        "    def study(self):\n",
        "        print(f\"{self.name} is studying.\")\n",
        "\n",
        "student = Student(\"Alice\", 20, \"S12345\")\n",
        "student.introduce()\n",
        "student.study()\n"
      ],
      "metadata": {
        "id": "UunLQqhmxStQ"
      },
      "id": "UunLQqhmxStQ",
      "execution_count": null,
      "outputs": []
    },
    {
      "cell_type": "markdown",
      "source": [
        "- The `Student` class **inherits** from `Person`, meaning it can introduce itself and also has additional behavior, like studying."
      ],
      "metadata": {
        "id": "QA4NIZgSxtF6"
      },
      "id": "QA4NIZgSxtF6"
    },
    {
      "cell_type": "markdown",
      "id": "26b6a1df",
      "metadata": {
        "id": "26b6a1df"
      },
      "source": [
        "\n",
        "---\n",
        "\n",
        "### 5.3.3 Pillar 3: Polymorphism\n",
        "\n",
        "**Polymorphism** means **many forms**. It lets you use the same word to mean different things in different contexts. For example, the `make_sound()` function might make a dog bark and a cat meow.\n",
        "\n",
        "Think of it as **different toys that all make sounds, but different sounds**.\n",
        "\n",
        "Example:\n",
        "\n",
        "- The same function name, `make_sound()`, works differently for each animal.\n",
        "\n"
      ]
    },
    {
      "cell_type": "code",
      "execution_count": null,
      "id": "53a567aa",
      "metadata": {
        "id": "53a567aa"
      },
      "outputs": [],
      "source": [
        "\n",
        "class Animal:\n",
        "    def make_sound(self):\n",
        "        pass\n",
        "\n",
        "class Dog(Animal):\n",
        "    def make_sound(self):\n",
        "        print(\"Woof!\")\n",
        "\n",
        "class Cat(Animal):\n",
        "    def make_sound(self):\n",
        "        print(\"Meow!\")\n",
        "\n",
        "animals = [Dog(), Cat()]\n",
        "for animal in animals:\n",
        "    animal.make_sound()\n",
        "\n"
      ]
    },
    {
      "cell_type": "markdown",
      "source": [
        "### **More Polymorphism Example**\n",
        "\n",
        "Let's say we have different shapes, and each shape can calculate its area in a different way:\n"
      ],
      "metadata": {
        "id": "UXLHhT_PyCkr"
      },
      "id": "UXLHhT_PyCkr"
    },
    {
      "cell_type": "code",
      "source": [
        "class Shape:\n",
        "    def area(self):\n",
        "        pass\n",
        "\n",
        "class Rectangle(Shape):\n",
        "    def __init__(self, width, height):\n",
        "        self.width = width\n",
        "        self.height = height\n",
        "\n",
        "    def area(self):\n",
        "        return self.width * self.height\n",
        "\n",
        "class Circle(Shape):\n",
        "    def __init__(self, radius):\n",
        "        self.radius = radius\n",
        "\n",
        "    def area(self):\n",
        "        return 3.14 * self.radius * self.radius\n",
        "\n",
        "shapes = [Rectangle(4, 5), Circle(3)]\n",
        "for shape in shapes:\n",
        "    print(shape.area())\n"
      ],
      "metadata": {
        "id": "M2VrAh6EyGBY"
      },
      "id": "M2VrAh6EyGBY",
      "execution_count": null,
      "outputs": []
    },
    {
      "cell_type": "markdown",
      "source": [
        "- The `area()` method is **polymorphic**, meaning it works differently for each shape.\n"
      ],
      "metadata": {
        "id": "eZ6rmeYsyJ-n"
      },
      "id": "eZ6rmeYsyJ-n"
    },
    {
      "cell_type": "markdown",
      "id": "034c0ae0",
      "metadata": {
        "id": "034c0ae0"
      },
      "source": [
        "\n",
        "---\n",
        "\n",
        "### 5.3.4 **Pillar 4: Abstraction**\n",
        "\n",
        "**Abstraction** means **hiding the complicated stuff** and only showing what is necessary. It makes using objects easier by not showing all the details of how they work.\n",
        "\n",
        "Think of it as **a TV remote**. You press buttons to change channels, but you don’t need to know the technology inside.\n",
        "\n",
        "- The `Shape` class hides the details of how different shapes calculate area. You just need to use `area()`.\n",
        "\n",
        "Abstraction means **hiding complex details** and exposing only necessary parts. Python supports abstraction using **abstract base classes (ABC)** and the `@abstractmethod` decorator.\n",
        "\n"
      ]
    },
    {
      "cell_type": "code",
      "execution_count": null,
      "id": "66472652",
      "metadata": {
        "id": "66472652"
      },
      "outputs": [],
      "source": [
        "from abc import ABC, abstractmethod\n",
        "\n",
        "class Shape(ABC):  # ABC stands for Abstract Base Class\n",
        "    @abstractmethod\n",
        "    def calculate_area(self):\n",
        "        pass\n",
        "\n",
        "# Shape is an abstract base class (ABC) that defines a method calculate_area() using the @abstractmethod\n",
        "# decorator from the abc module.\n",
        "# An abstract method is a method that is declared but contains no implementation.\n",
        "# It must be overridden in any subclass that inherits from Shape.\n",
        "\n",
        "import math\n",
        "\n",
        "class Circle(Shape):\n",
        "    def __init__(self, radius):\n",
        "        self.radius = radius\n",
        "\n",
        "    def calculate_area(self):\n",
        "        return math.pi * self.radius ** 2\n",
        "\n",
        "class Rectangle(Shape):\n",
        "    def __init__(self, width, height):\n",
        "        self.width = width\n",
        "        self.height = height\n",
        "\n",
        "    def calculate_area(self):\n",
        "        return self.width * self.height\n",
        "\n",
        "# Usage example\n",
        "circle = Circle(5)\n",
        "rectangle = Rectangle(3, 4)\n",
        "\n",
        "print(\"Area of circle:\", circle.calculate_area())\n",
        "print(\"Area of rectangle:\", rectangle.calculate_area())\n"
      ]
    },
    {
      "cell_type": "markdown",
      "source": [
        "\n",
        "### **More Abstraction Example**\n",
        "\n",
        "Imagine we want to create different types of payment methods, but we don't want users to worry about the details:\n",
        "\n",
        "In this example, we have an abstract base class `Payment` that defines a common interface for different payment methods. Each payment method subclass (`CreditCardPayment` and `PayPalPayment`) implements the `pay()` method according to its specific logic.\n",
        "\n"
      ],
      "metadata": {
        "id": "MmGolP6HylG4"
      },
      "id": "MmGolP6HylG4"
    },
    {
      "cell_type": "code",
      "source": [
        "from abc import ABC, abstractmethod\n",
        "\n",
        "class Payment(ABC):\n",
        "    @abstractmethod\n",
        "    def pay(self, amount):\n",
        "        pass\n",
        "\n",
        "class CreditCardPayment(Payment):\n",
        "    def pay(self, amount):\n",
        "        print(f\"Paid {amount} using Credit Card.\")\n",
        "\n",
        "class PayPalPayment(Payment):\n",
        "    def pay(self, amount):\n",
        "        print(f\"Paid {amount} using PayPal.\")\n",
        "\n",
        "payment_methods = [CreditCardPayment(), PayPalPayment()]\n",
        "for method in payment_methods:\n",
        "    method.pay(100)"
      ],
      "metadata": {
        "id": "j3FlAygzynfe"
      },
      "id": "j3FlAygzynfe",
      "execution_count": null,
      "outputs": []
    },
    {
      "cell_type": "markdown",
      "source": [
        "- Here, `Payment` is abstract, and users only interact with the `pay()` method without needing to know how each payment method works.\n"
      ],
      "metadata": {
        "id": "jbcrmcQAyt8-"
      },
      "id": "jbcrmcQAyt8-"
    },
    {
      "cell_type": "markdown",
      "source": [
        "#### Benefits of Abstraction in This Example\n",
        "\n",
        "- **Flexibility and Extensibility**: Adding new payment methods (e.g., `BitcoinPayment`, `ApplePayPayment`) would involve creating new subclasses of `Payment` and implementing `pay()`, without modifying existing code.\n",
        "- **Code Reusability**: The `Payment` abstraction allows us to reuse the `pay()` method across different payment methods while maintaining a consistent interface.\n",
        "- **Encapsulation**: Details of how payments are processed (`CreditCardPayment` or `PayPalPayment`) are encapsulated within their respective classes, abstracting away complexity from the client code."
      ],
      "metadata": {
        "id": "wxUdmNbZyz7o"
      },
      "id": "wxUdmNbZyz7o"
    },
    {
      "cell_type": "markdown",
      "source": [
        "\n",
        "## **Recap**\n",
        "\n",
        "- **Class**: A blueprint to create objects.\n",
        "- **Object**: A real thing made from a class.\n",
        "- **Encapsulation**: Keeping all the data and functions inside one box.\n",
        "- **Inheritance**: Getting features from a parent class.\n",
        "- **Polymorphism**: Using the same function in different ways for different objects.\n",
        "- **Abstraction**: Hiding complex details and showing only the essentials.\n",
        "\n",
        "OOP helps us create **organized, reusable**, and **easy-to-understand** programs by thinking of our code like real-world objects. 🎉\n",
        "\n",
        "By adding more examples and exploring each concept deeply, you can build a strong foundation in OOP, making you a more **professional** and **confident** programmer!"
      ],
      "metadata": {
        "id": "OyBI1nMizCDZ"
      },
      "id": "OyBI1nMizCDZ"
    }
  ],
  "metadata": {
    "colab": {
      "provenance": []
    },
    "language_info": {
      "name": "python"
    },
    "kernelspec": {
      "name": "python3",
      "display_name": "Python 3"
    }
  },
  "nbformat": 4,
  "nbformat_minor": 5
}